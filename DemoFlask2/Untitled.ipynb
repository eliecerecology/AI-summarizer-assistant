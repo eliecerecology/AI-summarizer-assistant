{
 "cells": [
  {
   "cell_type": "code",
   "execution_count": 1,
   "id": "91c2e6af-ec1b-42ae-9cf0-84458d392da6",
   "metadata": {},
   "outputs": [],
   "source": [
    "import pandas as pd\n",
    "import re\n",
    "import matplotlib.pyplot as plt\n",
    "import math"
   ]
  },
  {
   "cell_type": "code",
   "execution_count": 83,
   "id": "ab48441d-3542-4ebb-b038-4cb5d5c37ebe",
   "metadata": {},
   "outputs": [],
   "source": [
    "import matplotlib\n",
    "import matplotlib.pyplot as plt\n",
    "import io, os, base64\n",
    "import numpy as np\n",
    "import pandas as pd\n",
    "from flask import Flask, render_template, flash, request, jsonify, Markup"
   ]
  },
  {
   "cell_type": "code",
   "execution_count": 95,
   "id": "647babfc-1667-44c3-be65-ff39e4027957",
   "metadata": {},
   "outputs": [],
   "source": [
    "selected_country = 'Kenya'"
   ]
  },
  {
   "cell_type": "code",
   "execution_count": 106,
   "id": "7213319b-379a-484e-b8b0-d36b304b946e",
   "metadata": {},
   "outputs": [],
   "source": [
    "def k_function(selected_country):\n",
    "    datapath = \"/home/helix/Documents/UNAIDS/Data_sources/\"\n",
    "    lawsfile = \"NCPI_2020_en.csv\"\n",
    "    kpfile = \"KPAtlasDB_2020_en.csv\"\n",
    "    column_names=('Indicator','Unit','Subgroup','Area','Area ID','Time Period','Source','Data Value')\n",
    "    kp_data = pd.read_csv(datapath+kpfile,usecols=column_names)\n",
    "    expenditfile = \"GARPR16-GAM2020ProgrammeExpenditures.xlsx\"\n",
    "    ex_data = pd.read_excel(datapath+expenditfile)\n",
    "    ex_data.rename(columns=dict(zip(ex_data.columns[1:10],[str(int(a)) for a in ex_data.iloc[3,1:10]])),inplace=True)\n",
    "    ex_data.rename(columns={'Reporting cycle':'Countries','Unnamed: 10':'Total'},inplace=True)\n",
    "    ex_data.drop(labels=[0,1,2,3],axis='index',inplace=True)\n",
    "    ex_data.reset_index(drop=True)\n",
    "\n",
    "    # epidemic transition metrics\n",
    "    epidemicfile = \"NewHIVinfections.xlsx\"\n",
    "    ep_data = pd.read_excel(datapath+epidemicfile, dtype=str)\n",
    "    for year in range(2011,2020):\n",
    "        for ind in ep_data.index:\n",
    "            if len(ep_data.loc[ind,str(year)]) > 0:\n",
    "                x = ep_data.loc[ind,str(year)]\n",
    "                if re.findall(r\"^\\d+\\s\\d*\",x):\n",
    "                    ep_data.loc[ind,str(year)] = float(re.findall(r\"^\\d+\\s\\d*\",x)[0].replace(\" \",\"\"))\n",
    "                else:\n",
    "                    ep_data.loc[ind,str(year)] = math.nan\n",
    "            else:\n",
    "                ep_data.loc[ind,str(year)] = math.nan\n",
    "\n",
    "    plt.xlim(0,1500)\n",
    "    plt.ylim(0,175000)\n",
    "\n",
    "    data = {}\n",
    "    for country in ex_data['Countries']:\n",
    "        data[country] = {'years':[],'epdata':[],'exdata':[]}    \n",
    "        for year in range(2011,2020):\n",
    "            #ep_data[str(year)] = ep_data[str(year)].apply(lambda x: int(re.findall(r\"^\\d+\\s\\d*\",x)[0].replace(\" \",\"\")) \n",
    "            #            if len(x)>0 and re.findall(r\"^\\d+\\s\\d*\",x)\n",
    "            #            else None)\n",
    "\n",
    "            x = ex_data.loc[ex_data['Countries']==country,str(year)].values\n",
    "            y = ep_data.loc[ep_data['Country']==country,str(year)].values\n",
    "            if x and y and not ( math.isnan(x) or math.isnan(y) ):\n",
    "                data[country]['years'].append(year)\n",
    "                data[country]['epdata'].append(y)\n",
    "                data[country]['exdata'].append(x/1000000)\n",
    "\n",
    "    for country in data:\n",
    "        country = selected_country\n",
    "        if len(data[country]['exdata']) > 0 and len(data[country]['epdata']) > 0:\n",
    "            plt.plot(data[country]['exdata'],data[country]['epdata'])\n",
    "            plt.plot(data[country]['exdata'][-1],data[country]['epdata'][-1],'ro')\n",
    "            plt.text(data[country]['exdata'][-1],data[country]['epdata'][-1],country)\n",
    "\n",
    "        break\n",
    "    plt.xlabel('Expenditures on HIV prevention (millions USD)')\n",
    "    plt.ylabel('Number of people living with HIV')\n",
    "\n",
    "    img1 = io.BytesIO()\n",
    "    plt.savefig(img1, format='png')\n",
    "    img1.seek(0)\n",
    "    plot_url1 = base64.b64encode(img1.getvalue()).decode()\n",
    "    plot_to_show1 = Markup('<img src=\"data:image/png;base64,{}\" style=\"width:100%;vertical-align:top\">'.format(plot_url1))\n",
    "    \n",
    "    return plot_to_show1"
   ]
  },
  {
   "cell_type": "code",
   "execution_count": 107,
   "id": "5b1cc289-9ac4-44eb-8aad-a29a00b1e973",
   "metadata": {},
   "outputs": [
    {
     "name": "stderr",
     "output_type": "stream",
     "text": [
      "<ipython-input-106-958a7cd3dc70>:41: DeprecationWarning: The truth value of an empty array is ambiguous. Returning False, but in future this will result in an error. Use `array.size > 0` to check that an array is not empty.\n",
      "  if x and y and not ( math.isnan(x) or math.isnan(y) ):\n"
     ]
    },
    {
     "data": {
      "text/plain": [
       "Markup('<img src=\"data:image/png;base64,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\" style=\"width:100%;vertical-align:top\">')"
      ]
     },
     "execution_count": 107,
     "metadata": {},
     "output_type": "execute_result"
    },
    {
     "data": {
      "image/png": "[encoded data removed]",
      "text/plain": [
       "<Figure size 432x288 with 1 Axes>"
      ]
     },
     "metadata": {
      "needs_background": "light"
     },
     "output_type": "display_data"
    }
   ],
   "source": [
    "plot_to_show1 = k_function(selected_country)"
   ]
  },
  {
   "cell_type": "code",
   "execution_count": 28,
   "id": "00a548dd-e364-4772-a48c-fdf5a2de94b2",
   "metadata": {},
   "outputs": [],
   "source": [
    "p = pd.DataFrame.from_dict(data, orient=\"index\")"
   ]
  },
  {
   "cell_type": "code",
   "execution_count": 39,
   "id": "791536d3-696e-4421-97d1-bc2df2184607",
   "metadata": {},
   "outputs": [
    {
     "data": {
      "text/html": [
       "<div>\n",
       "<style scoped>\n",
       "    .dataframe tbody tr th:only-of-type {\n",
       "        vertical-align: middle;\n",
       "    }\n",
       "\n",
       "    .dataframe tbody tr th {\n",
       "        vertical-align: top;\n",
       "    }\n",
       "\n",
       "    .dataframe thead th {\n",
       "        text-align: right;\n",
       "    }\n",
       "</style>\n",
       "<table border=\"1\" class=\"dataframe\">\n",
       "  <thead>\n",
       "    <tr style=\"text-align: right;\">\n",
       "      <th></th>\n",
       "      <th>years</th>\n",
       "      <th>epdata</th>\n",
       "      <th>exdata</th>\n",
       "    </tr>\n",
       "  </thead>\n",
       "  <tbody>\n",
       "    <tr>\n",
       "      <th>Kenya</th>\n",
       "      <td>[2012, 2013, 2014, 2016, 2017, 2019]</td>\n",
       "      <td>[[66000.0], [64000.0], [60000.0], [49000.0], [...</td>\n",
       "      <td>[[740.55143143], [800.4513161], [1070.66788705...</td>\n",
       "    </tr>\n",
       "  </tbody>\n",
       "</table>\n",
       "</div>"
      ],
      "text/plain": [
       "                                      years  \\\n",
       "Kenya  [2012, 2013, 2014, 2016, 2017, 2019]   \n",
       "\n",
       "                                                  epdata  \\\n",
       "Kenya  [[66000.0], [64000.0], [60000.0], [49000.0], [...   \n",
       "\n",
       "                                                  exdata  \n",
       "Kenya  [[740.55143143], [800.4513161], [1070.66788705...  "
      ]
     },
     "execution_count": 39,
     "metadata": {},
     "output_type": "execute_result"
    }
   ],
   "source": [
    "p[p.index == 'Kenya']"
   ]
  },
  {
   "cell_type": "code",
   "execution_count": 49,
   "id": "58546e7a-4706-4519-9248-8b867b09619f",
   "metadata": {},
   "outputs": [
    {
     "data": {
      "text/plain": [
       "[array([740.55143143]),\n",
       " array([800.4513161]),\n",
       " array([1070.66788705]),\n",
       " array([948.00218078]),\n",
       " array([1174.39470973]),\n",
       " array([754.58532171])]"
      ]
     },
     "execution_count": 49,
     "metadata": {},
     "output_type": "execute_result"
    }
   ],
   "source": [
    "kenya['exdata']kenya['exdata']kenya['exdata']kenya['exdata']kenya['exdata'](kenya['exdata'][-1])#, kenya['epdata'])"
   ]
  },
  {
   "cell_type": "code",
   "execution_count": 60,
   "id": "4ac1b41a-701d-4d15-831a-ace3a4dc2fce",
   "metadata": {},
   "outputs": [
    {
     "name": "stdout",
     "output_type": "stream",
     "text": [
      "754.585321710526\n"
     ]
    }
   ],
   "source": [
    "for i in (kenya['exdata'][-1][-1]):\n",
    "    print(i)"
   ]
  },
  {
   "cell_type": "code",
   "execution_count": 75,
   "id": "9c0c9d9c-c290-4542-aa4e-210bf3d8c8c1",
   "metadata": {},
   "outputs": [
    {
     "ename": "NameError",
     "evalue": "name '__file__' is not defined",
     "output_type": "error",
     "traceback": [
      "\u001b[0;31m---------------------------------------------------------------------------\u001b[0m",
      "\u001b[0;31mNameError\u001b[0m                                 Traceback (most recent call last)",
      "\u001b[0;32m<ipython-input-75-5e2c37702258>\u001b[0m in \u001b[0;36m<module>\u001b[0;34m\u001b[0m\n\u001b[1;32m      1\u001b[0m \u001b[0;32mimport\u001b[0m \u001b[0mos\u001b[0m\u001b[0;34m\u001b[0m\u001b[0;34m\u001b[0m\u001b[0m\n\u001b[0;32m----> 2\u001b[0;31m \u001b[0mos\u001b[0m\u001b[0;34m.\u001b[0m\u001b[0mpath\u001b[0m\u001b[0;34m.\u001b[0m\u001b[0mdirname\u001b[0m\u001b[0;34m(\u001b[0m\u001b[0mos\u001b[0m\u001b[0;34m.\u001b[0m\u001b[0mpath\u001b[0m\u001b[0;34m.\u001b[0m\u001b[0mabspath\u001b[0m\u001b[0;34m(\u001b[0m\u001b[0m__file__\u001b[0m\u001b[0;34m)\u001b[0m\u001b[0;34m)\u001b[0m\u001b[0;34m\u001b[0m\u001b[0;34m\u001b[0m\u001b[0m\n\u001b[0m",
      "\u001b[0;31mNameError\u001b[0m: name '__file__' is not defined"
     ]
    }
   ],
   "source": [
    "import os\n",
    "os.path.dirname(os.path.abspath(__file__))"
   ]
  },
  {
   "cell_type": "code",
   "execution_count": 76,
   "id": "7b5a9034-8b66-4901-9206-b7aea3be9c05",
   "metadata": {},
   "outputs": [
    {
     "ename": "NameError",
     "evalue": "name '__file__' is not defined",
     "output_type": "error",
     "traceback": [
      "\u001b[0;31m---------------------------------------------------------------------------\u001b[0m",
      "\u001b[0;31mNameError\u001b[0m                                 Traceback (most recent call last)",
      "\u001b[0;32m<ipython-input-76-880eb789ae8a>\u001b[0m in \u001b[0;36m<module>\u001b[0;34m\u001b[0m\n\u001b[0;32m----> 1\u001b[0;31m \u001b[0mos\u001b[0m\u001b[0;34m.\u001b[0m\u001b[0mpath\u001b[0m\u001b[0;34m.\u001b[0m\u001b[0mdirname\u001b[0m\u001b[0;34m(\u001b[0m\u001b[0mos\u001b[0m\u001b[0;34m.\u001b[0m\u001b[0mpath\u001b[0m\u001b[0;34m.\u001b[0m\u001b[0mabspath\u001b[0m\u001b[0;34m(\u001b[0m\u001b[0m__file__\u001b[0m\u001b[0;34m)\u001b[0m\u001b[0;34m)\u001b[0m\u001b[0;34m\u001b[0m\u001b[0;34m\u001b[0m\u001b[0m\n\u001b[0m",
      "\u001b[0;31mNameError\u001b[0m: name '__file__' is not defined"
     ]
    }
   ],
   "source": [
    "os.path.dirname(os.path.abspath(__file__))"
   ]
  },
  {
   "cell_type": "code",
   "execution_count": null,
   "id": "2a36a16c-0f00-4da6-a759-cbcc076f410d",
   "metadata": {},
   "outputs": [],
   "source": []
  }
 ],
 "metadata": {
  "kernelspec": {
   "display_name": "Python 3.8.8 64-bit ('sum': conda)",
   "language": "python",
   "name": "python388jvsc74a57bd02ce0e3a8d7fc5f9aafeadb3c51918d18d98157851c7a9385b653ef486aeaa209"
  },
  "language_info": {
   "codemirror_mode": {
    "name": "ipython",
    "version": 3
   },
   "file_extension": ".py",
   "mimetype": "text/x-python",
   "name": "python",
   "nbconvert_exporter": "python",
   "pygments_lexer": "ipython3",
   "version": "3.8.8"
  }
 },
 "nbformat": 4,
 "nbformat_minor": 5
}
