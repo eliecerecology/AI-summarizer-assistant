{
 "cells": [
  {
   "cell_type": "code",
   "execution_count": 1,
   "id": "91c2e6af-ec1b-42ae-9cf0-84458d392da6",
   "metadata": {},
   "outputs": [],
   "source": [
    "import pandas as pd\n",
    "import re\n",
    "import matplotlib.pyplot as plt\n",
    "import math"
   ]
  },
  {
   "cell_type": "code",
   "execution_count": null,
   "id": "7213319b-379a-484e-b8b0-d36b304b946e",
   "metadata": {},
   "outputs": [],
   "source": [
    "datapath = \"C:/Users/katar/Desktop/UNAIDS/GAMdata/\"\n"
   ]
  }
 ],
 "metadata": {
  "kernelspec": {
   "display_name": "Python 3.8.8 64-bit ('sum': conda)",
   "language": "python",
   "name": "python388jvsc74a57bd02ce0e3a8d7fc5f9aafeadb3c51918d18d98157851c7a9385b653ef486aeaa209"
  },
  "language_info": {
   "codemirror_mode": {
    "name": "ipython",
    "version": 3
   },
   "file_extension": ".py",
   "mimetype": "text/x-python",
   "name": "python",
   "nbconvert_exporter": "python",
   "pygments_lexer": "ipython3",
   "version": "3.8.8"
  }
 },
 "nbformat": 4,
 "nbformat_minor": 5
}
