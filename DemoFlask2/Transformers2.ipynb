{
 "cells": [
  {
   "cell_type": "code",
   "execution_count": 1,
   "id": "9ffd6099",
   "metadata": {},
   "outputs": [],
   "source": [
    "import os\n",
    "import pandas as pd\n",
    "import matplotlib.pyplot as plt\n",
    "from operator import itemgetter\n",
    "from collections import Counter\n",
    "import re\n",
    "import pdf_parse_functions\n",
    "from transformers import pipeline"
   ]
  },
  {
   "cell_type": "code",
   "execution_count": 2,
   "id": "929381ab",
   "metadata": {},
   "outputs": [],
   "source": [
    "from operator import itemgetter\n",
    "import fitz\n",
    "import spacy\n",
    "from collections import Counter\n",
    "import re\n"
   ]
  },
  {
   "cell_type": "code",
   "execution_count": 3,
   "id": "dc58ec7f",
   "metadata": {},
   "outputs": [],
   "source": [
    "import warnings\n",
    "warnings.filterwarnings(\"ignore\")"
   ]
  },
  {
   "cell_type": "code",
   "execution_count": 4,
   "id": "240fa0f7",
   "metadata": {},
   "outputs": [],
   "source": [
    "summa = pipeline(\"summarization\")\n",
    "sentiment_analysis = pipeline('sentiment-analysis')"
   ]
  },
  {
   "cell_type": "code",
   "execution_count": 7,
   "id": "1d8d2721",
   "metadata": {},
   "outputs": [],
   "source": [
    "datapath = \"/home/helix/Documents/UNAIDS/code/unaids_branch/Demo/pdfs/\" \n",
    "pdfnames = os.listdir(datapath)"
   ]
  },
  {
   "cell_type": "code",
   "execution_count": 84,
   "id": "5a69706c",
   "metadata": {},
   "outputs": [
    {
     "data": {
      "text/plain": [
       "['ToR_GAM_AI Data POC_Silo AI Oy.pdf',\n",
       " 'colombia.pdf',\n",
       " 'kenya2.pdf',\n",
       " 'Zambia_IBBS_Final Report_May 2018.pdf',\n",
       " 'SAIDS3.pdf',\n",
       " 'SummaryBrazil.pdf',\n",
       " 'SouthAfrica.pdf',\n",
       " 'SAIDS.pdf',\n",
       " 'Caribbean.pdf',\n",
       " 'ARG.pdf',\n",
       " 'SAIDS.txt',\n",
       " 'centralAsia.pdf',\n",
       " 'Cameroon Report_July 4 2014.pdf',\n",
       " 'SAIDS1.pdf',\n",
       " 'LimePaper.pdf',\n",
       " 'Cameroon2014.pdf',\n",
       " 'LimeVsShap.pdf',\n",
       " 'LimeMedium.pdf',\n",
       " 'Libro TRANS 2016.pdf']"
      ]
     },
     "execution_count": 84,
     "metadata": {},
     "output_type": "execute_result"
    }
   ],
   "source": [
    "pdfnames"
   ]
  },
  {
   "cell_type": "markdown",
   "id": "e293dd22",
   "metadata": {},
   "source": [
    "# Central Asia:"
   ]
  },
  {
   "cell_type": "code",
   "execution_count": 135,
   "id": "f488623f",
   "metadata": {},
   "outputs": [],
   "source": [
    "language = \"english\"\n",
    "\n",
    "if language == \"spanish\":\n",
    "    keywords = ('sida', 'sexo', 'ETS')\n",
    "    listOfStrings = ['TABLAS' , 'FIGURAS', 'figura', 'tabla', '...']\n",
    "else:\n",
    "    keywords = ('STI', \"HIV\") #('HIV', 'gender', 'STI')\n",
    "    listOfStrings = ['TABLES' , 'FIGURE', 'figure', 'table', '...']"
   ]
  },
  {
   "cell_type": "code",
   "execution_count": 136,
   "id": "f4dd0e39",
   "metadata": {},
   "outputs": [
    {
     "name": "stdout",
     "output_type": "stream",
     "text": [
      "/home/helix/Documents/UNAIDS/code/unaids_branch/Demo/pdfs/Cameroon Report_July 4 2014.pdf\n"
     ]
    }
   ],
   "source": [
    "print(datapath+pdfnames[12])"
   ]
  },
  {
   "cell_type": "code",
   "execution_count": 138,
   "id": "35e23fec",
   "metadata": {},
   "outputs": [],
   "source": [
    "paragraphs = pdf_parse_functions.pdf_parser(datapath+pdfnames[12])\n",
    "paragraphs_with_key_words = pdf_parse_functions.get_paragraphs_with_key_words(paragraphs, keywords)"
   ]
  },
  {
   "cell_type": "code",
   "execution_count": 103,
   "id": "be24a4a7",
   "metadata": {},
   "outputs": [],
   "source": [
    "#paragraphs_with_key_words"
   ]
  },
  {
   "cell_type": "code",
   "execution_count": 142,
   "id": "b535b9c0",
   "metadata": {},
   "outputs": [],
   "source": [
    "# Clean the paragraphs:\n",
    "word_list = []\n",
    "for para in paragraphs_with_key_words:\n",
    "    if any(w in para['text'] for w in listOfStrings)  == True:\n",
    "        pass\n",
    "    else:\n",
    "        word_list.append(para)"
   ]
  },
  {
   "cell_type": "code",
   "execution_count": 143,
   "id": "08377640",
   "metadata": {},
   "outputs": [],
   "source": [
    "paragraphs_with_key_words = word_list"
   ]
  },
  {
   "cell_type": "code",
   "execution_count": 126,
   "id": "849a5070",
   "metadata": {},
   "outputs": [],
   "source": [
    "df = pd.DataFrame.from_dict(paragraphs_with_key_words)"
   ]
  },
  {
   "cell_type": "code",
   "execution_count": 15,
   "id": "da687bd4",
   "metadata": {},
   "outputs": [],
   "source": [
    "#df.to_csv('/home/helix/Documents/UNAIDS/Development/DemoFlask2/SA.csv', index=False)"
   ]
  },
  {
   "cell_type": "code",
   "execution_count": 16,
   "id": "e262ceaf",
   "metadata": {},
   "outputs": [],
   "source": [
    "#df[df['heading'] == '2) Gender'].text"
   ]
  },
  {
   "cell_type": "code",
   "execution_count": 161,
   "id": "8117afff",
   "metadata": {},
   "outputs": [
    {
     "data": {
      "text/plain": [
       "'Nineteen services mentioned by MSM were visited in Yaounde including ten public facilities, four private clinics and five CBO/NGOs. 13/19 services reported specialized training for staff in dealing with MSM or FSW. Seventeen had undertaken HIV counseling and testing in the past month and four had undertaken specialized sessions (for MSM or FSW), twelve had provided ARV medication in last month and only one did not report ARV shortages in the last 12 months. It is noteworthy that of the four services mentioned by at least 10% of the population, three are associations with limited HCT facilities and no clinical provision. Only one of the top four (Hopital Central) reported having ARV capacity in the past four weeks, while also experiencing at least one ARV stock outage in the last 12 months. Additionally, the most frequently cited center by MSM was Humanity First with 40.1% of respondents identifying it while the next highest center was only identified by 19.7% of the population. In 2011 41.8% of MSM reported having accessed the CAMNAFAW clinic or being reached by Humanity First peer educators or outreach workers in the previous 12 months (CARE 2012). In both Care (2012) and the current study, Humanity First has only been able to reach approximately 40% of the MSM population in HIV Prevention for Populations at Risk in Cameroon - final report (4 July 2013).45 the city. Although Humanity First has not reached the majority of MSM respondents it is the most commonly cited service center. This represents a lack of clinical services in Yaounde since Humanity First does not provide HIV testing or ARV medication. MSM in Yaounde are largely not connected to centers that provide HIV testing, treatment, or care. The low levels of access to HIV services are further evidenced in both MSM and FSW populations by the percent of respondents in the city who failed to identify any health centers that provide HIV services. Of all the cities, Yaounde had the second highest number of each population that reported not seeking or receiving HIV prevention, care, and treatment, with 20.4% MSM and 17.2% of FSW reporting seeking or receiving no health services. Eighteen services mentioned by FSW were visited in Yaounde including twelve public facilities, three private clinics and three CBO/NGOs. Eleven services reported specialized training for staff in dealing with MSM or FSW. Seventeen had undertaken HIV counseling and testing in the past month and three had undertaken specialized sessions (for MSM or FSW), twelve had provided ARV medication in last month and only two did not report ARV shortages in the last 12 months. Of the two top services cited by the FSW population, only one had HIV clinical capacity, as the other was Horizon Femme, the PEPFAR HAPP funded association that provides HCT and referral to clinical services in Yaounde and Douala. It is noteworthy that 17.2% of the FSW population in Yaounde reported not seeking or receiving any HIV prevention, care or treatment service. Overall, this implies the coverage of clinical services for the FSW population in Yaoundé is limited. HIV Prevention for Populations at Risk in Cameroon - final report (4 July 2014).46 '"
      ]
     },
     "execution_count": 161,
     "metadata": {},
     "output_type": "execute_result"
    }
   ],
   "source": [
    "paragraphs_with_key_words[1]['text']"
   ]
  },
  {
   "cell_type": "code",
   "execution_count": 162,
   "id": "6399f692",
   "metadata": {},
   "outputs": [
    {
     "data": {
      "text/plain": [
       "[{'summary_text': ' Of all the cities, Yaounde had the second highest number of each population that reported not seeking or receiving HIV prevention, care, and treatment . Of the four services mentioned by at least 10% of the population, three are associations with limited HCT facilities and no clinical provision . Only one of the top four (Hopital Central) reported having ARV capacity in the past four weeks .'}]"
      ]
     },
     "execution_count": 162,
     "metadata": {},
     "output_type": "execute_result"
    }
   ],
   "source": [
    "summa(paragraphs_with_key_words[1]['text'])"
   ]
  },
  {
   "cell_type": "code",
   "execution_count": 186,
   "id": "c786ef1a",
   "metadata": {},
   "outputs": [
    {
     "name": "stdout",
     "output_type": "stream",
     "text": [
      "./upload_folder/Cameroon2014.pdf\n"
     ]
    },
    {
     "name": "stderr",
     "output_type": "stream",
     "text": [
      "Your min_length is set to 56, but you input_length is only 6. You might consider decreasing min_length manually, e.g. summarizer('...', min_length=10)\n",
      "Your max_length is set to 142, but you input_length is only 6. You might consider decreasing max_length manually, e.g. summarizer('...', max_length=50)\n",
      "Your min_length is set to 56, but you input_length is only 5. You might consider decreasing min_length manually, e.g. summarizer('...', min_length=10)\n",
      "Your max_length is set to 142, but you input_length is only 5. You might consider decreasing max_length manually, e.g. summarizer('...', max_length=50)\n"
     ]
    },
    {
     "name": "stdout",
     "output_type": "stream",
     "text": [
      "Figure 1. FSW HIV prevalence by Region in Cameroon (Tamoufe and Medang 2009). .......................................... 5Figure 2. Modified social ecological model (MSEM) for HIV risk in vulnerable populations (Baral, et al 2013). .... 7Figure 3. Continuum of care (after Gardner, 2011). ............................................................................................... 8Figure 4. HIV-related clinical services mentioned by MSM and visited by study staff in the Bafoussam area and MSM meeting places. ............................................................................................................................................ 21Figure 5. HIV-related clinical services and CBOs mentioned by MSM and visited by study staff in the Bamenda area and MSM meeting places.............................................................................................................................. 22Figure 6. HIV-related services mentioned by MSM and visited by study staff in the Bertoua area and MSM meeting places. ..................................................................................................................................................... 23Figure 7. HIV-related clinical services and CBOs mentioned by MSM and visited by study staff in the Douala area and MSM meeting places. ..................................................................................................................................... 24Figure 8. HIV-related clinical services and CBOs mentioned by MSM and visited by study staff in the Kribi area and MSM meeting places. ..................................................................................................................................... 25Figure 9. HIV-related clinical services and CBOs mentioned by MSM and visited by study staff in the Yaounde area and MSM meeting places.............................................................................................................................. 26Figure 10. HIV-related clinical services and CBOs mentioned by MSM and visited by study staff in the Ngaoundere area and MSM meeting places. ........................................................................................................ 27Figure 11. HIV-related clinical services mentioned by FSW and visited by study staff in the Bafoussam area including sex worker venues. ................................................................................................................................ 32Figure 12. HIV-related services mentioned by FSW and visited by study staff in the Bamenda area. ................. 33Figure 13. HIV-related clinical services mentioned by FSW and visited by study staff in the Bertoua area including FSW venues. .......................................................................................................................................... 34Figure 14. HIV-related clinical services and CBOs mentioned by FSW and visited by study staff in the Douala area including sex worker venues. ................................................................................................................................ 35Figure 15. HIV-related clinical services and CBOs mentioned by FSW and visited by study staff in the Kribi area including sex worker venues. ................................................................................................................................ 36Figure 16. HIV-related clinical services mentioned by FSW and visited by study staff in the Ngaoundere area including sex worker venues ................................................................................................................................. 37Figure 17. HIV-related clinical services and CBOs mentioned by FSW and visited by study staff in the Yaounde area including sex worker venues. ........................................................................................................................ 38Figure 18. Structural barriers to health services and community health. ............................................................. 48Figure 19. Structural barriers to health services and community health .............................................................. 49Figure 20. Access to HIV treatment services ......................................................................................................... 52Figure 21.ART adherence and viral suppression. ................................................................................................. 53 iv \n",
      "BREAK\n"
     ]
    },
    {
     "name": "stderr",
     "output_type": "stream",
     "text": [
      "Your min_length is set to 56, but you input_length is only 7. You might consider decreasing min_length manually, e.g. summarizer('...', min_length=10)\n",
      "Your max_length is set to 142, but you input_length is only 7. You might consider decreasing max_length manually, e.g. summarizer('...', max_length=50)\n"
     ]
    },
    {
     "name": "stdout",
     "output_type": "stream",
     "text": [
      "The results of this study indicate that the behavioral and structural risks associated with higher exposure to HIV and other STIs that exist among key populations in other contexts also exist for MSM and FSW in Cameroon. Among the MSM population, while 90.8% (1454/1601) of the population sampled were not officially married, 57.1% (878/1536) reported at least one or more regular female partner. 33.1% (363/1097) of MSM participants used male condoms during every sexual act with a women in the last month, and very few reported the use of female condoms during every sexual act in the last month (1.36%; 15/1106). Among male sexual partners, 53.3% (757/1420) of the population reported they used male condoms during every anal sex act in the past month. These results are similar to earlier results (Care 2012) among MSM in Douala and Yaounde and indicates further behavioral prevention messaging is necessary to address concurrent sexual partners and condom use during all sex acts among this population. Qualitative research elucidated the lack of tailored messaging in prevention programs for same-sex practices, and clarification of the risks associated with same sex practices and concurrency was suggested. Condom-compatible lubricant has also been shown as an effective method to reduce HIV transmission among MSM and some research indicates it is also effective among FSW (Beyrer et al 2012; Baral et al 2012). In this study access to condom-compatible lubricant was reported as exceptionally low among MSM, with 48.7% (640/1313) reporting it difficult to find lubricant. While 79.2% (1324/1596) of the MSM population noted use of commercial sexual lubricant, qualitative data indicates a significant portion of MSM receive lubricant through donor subsidized programs, such as the PEPFAR HAPP program. Condom-compatible lubricant is not available at most of the commonly cited health services by both populations, with less than half providing this commodity within their package of prevention services (40.0%, 10/25). Further subsidy or integration of lubricant into the standard prevention packaging for MSM and FSW is imperative in order to reduce the individual risks of HIV transmission and acquisition in Cameroon. Among FSW, the mean number of clients within the last month was 109.5 across all cities, and the mean number of non-paying sexual partners was, 1.2. A high percentage of FSW in the sample reported it was easy to suggest condom usage with a client (84.4%, 1521/1802), but 40.4% (595/1474) reported it was difficult to suggest condom use to non-paying partners. The vast majority of FSW had been offered more money to have sex without a condom, with 47.9% (865/1804) reporting this experience in the last week, and 24.7% (446/1804) reporting this in the month. HIV Prevention for Populations at Risk in Cameroon - final report (4 July 2013).47 Overall, 40.8% (737/1805) and 41.6% (750/1805) of FSW reported using male condoms with clients every time or almost every time they engaged in vaginal sex within the past month respectively. However, only 13.1% (180/1379) and 14.6% (202/1379) of the population reported using condoms with non-paying partners every time or almost every time they engaged in vaginal sex within the past month respectively. These data are not surprising and correspond to similar data from the 2009 and 2004 FSW sero-prevalence reports from Cameroon (Mosoko et al, 2004; Tamoufe and Medang, 2009). It is recommended that prevention messaging specifically adapted for FSW is developed to address condom use with various types of sexual partners. The data from this study indicate further research into reproductive health and family planning services for FSW is warranted as the percentage of FSW who report having one or more child was 81.3% (1301/1600). This level of motherhood and the known burden of disease among these women implies the services for these women should not be restricted to only the prevention of HIV, and should better address the overall reproductive health needs of the population. In other contexts, we see evidence that antenatal care clinics are an important point of entry into health services, and specifically HIV prevention or care services, and further understanding of the access to health services during pregnancy for FSW (and in relations to PMTCT) in Cameroon is essential (Wilcher et al, 2013). Mothers may also be more likely to access health services in relation to their children’s needs, and developing comprehensive services that include reproductive health, sexual health and maternal and child health may increase the chances of integration into the health system for women who sell sex and are at higher risk of HIV infection. The overall inconsistent use of condoms among both populations with regular partners in correspondence with the prevalence rates already determined in both populations (37%), is an important determinant of the health needs and targeted prevention programming for key populations in Cameroon. Emerging HIV research indicates that investing and targeting high risk populations in the cascade or continuum of care for HIV is the best long-term solution for their own HIV status as well as for population-level HIV prevention and control. In concentrated, mixed or low level generalized epidemics, researchers have asserted that ensuring effective engagement in the HIV continuum is essential for key populations disproportionately affected by HIV (Baral et al, 2012; Beyrer et al 2012; Gardner et al 2011). \n",
      "BREAK\n"
     ]
    },
    {
     "name": "stderr",
     "output_type": "stream",
     "text": [
      "Your min_length is set to 56, but you input_length is only 6. You might consider decreasing min_length manually, e.g. summarizer('...', min_length=10)\n",
      "Your max_length is set to 142, but you input_length is only 6. You might consider decreasing max_length manually, e.g. summarizer('...', max_length=50)\n"
     ]
    },
    {
     "name": "stdout",
     "output_type": "stream",
     "text": [
      "Table i. Pooled prevalence data for FSW, clients of FSW, MSM and PWID per country from peer-reviewed literature since 1981 (Papworth et al in prep). ....................................................................................................... 1Table ii. FSW HIV prevalence estimates by city showing sample size and authors. ................................................ 5Table iii. Characteristics of key sites in Cameroon used to select study sites. ........................................................ 9Table iv. Estimated sex worker population ranges in target cities based on Tamoufe and Medang, 2009. ........... 9Table v.Quantitative data collected across the 7 cities ........................................................................................ 13Table vi. Qualitative data collected across the 7 cities ......................................................................................... 13Table vii. Numbers of unique objects distributed in each population in each city. .............................................. 13Table viii. Representation by age group of MSM sampled during this study. ....................................................... 17Table ix. Reported education levels among MSM participants across all sites. .................................................... 18Table x. Reported marriage status among participants across all sites. ............................................................... 18Table xi. Number of male partners reported by MSM participants ...................................................................... 18Table xii. MSM HIV testing and treatment related issues. .................................................................................... 19Table xiii. HIV-related services mentioned by more than 10% of MSM (n=252) in the Bafoussam area.............. 20Table xiv. HIV-related services mentioned by more than 10% of MSM (n=152) in the Bamenda area. ............... 21Table xv. HIV-related services mentioned by more than 10% of MSM (n=250) in the Bertoua area. .................. 22Table xvi. HIV-related services mentioned by more than 10% of MSM (n=250) in the Douala area. ................... 23Table xvii. HIV-related services mentioned by more than 10% of MSM (n=191) in the Kribi area. ...................... 24Table xviii. HIV-related services mentioned by more than 10% of MSM (n=259) in the Yaounde area. .............. 25Table xix. HIV-related services mentioned by more than 10% of MSM (n=252) in the Ngaoundere area. .......... 26Table xx. Forms and prevalence of violence and discrimination reported by MSM participants. ........................ 28Table xxi. Representation by age group of FSW sampled across all sites. ............................................................ 29Table xxii. Reported education levels among FSW participants across all sites. ................................................... 29Table xxiii. Reported marriage status among FSW participants across all sites. ................................................... 29Table xxiv. HIV testing and treatment related issues among FSW. ....................................................................... 31Table xxv. HIV-related services mentioned by more than 10% of FSW (n=256) in the Bafoussam area. ............. 32Table xxvi. HIV-related services mentioned by more than 10% of FSW (n=211) in the Bamenda area. ............... 33Table xxvii. HIV-related services mentioned by more than 10% of FSW (n=266)in the Bertoua area. ................ 34Table xxviii. HIV-related services mentioned by more than 10% of FSW (n=301) in the Douala area. ................. 35Table xxix. HIV-related services mentioned by more than 10% of FSW in the Kribi area (n=169). ....................... 36Table xxx. HIV-related services mentioned by more than 10% of FSW in the Ngaoundere area (n=303). ........... 37Table xxxi. HIV-related services mentioned by more than 10% of FSW in the Yaounde area (n=309). ................ 38Table xxxii. Forms and prevalence of violence and discrimination reported by participants. .............................. 39Table xxxiii. Number of services mentioned per city and by population. ............................................................. 40 v \n",
      "BREAK\n"
     ]
    },
    {
     "name": "stderr",
     "output_type": "stream",
     "text": [
      "Your min_length is set to 56, but you input_length is only 7. You might consider decreasing min_length manually, e.g. summarizer('...', min_length=10)\n",
      "Your max_length is set to 142, but you input_length is only 7. You might consider decreasing max_length manually, e.g. summarizer('...', max_length=50)\n"
     ]
    },
    {
     "name": "stdout",
     "output_type": "stream",
     "text": [
      "Nineteen services mentioned by MSM were visited in Yaounde including ten public facilities, four private clinics and five CBO/NGOs. 13/19 services reported specialized training for staff in dealing with MSM or FSW. Seventeen had undertaken HIV counseling and testing in the past month and four had undertaken specialized sessions (for MSM or FSW), twelve had provided ARV medication in last month and only one did not report ARV shortages in the last 12 months. It is noteworthy that of the four services mentioned by at least 10% of the population, three are associations with limited HCT facilities and no clinical provision. Only one of the top four (Hopital Central) reported having ARV capacity in the past four weeks, while also experiencing at least one ARV stock outage in the last 12 months. Additionally, the most frequently cited center by MSM was Humanity First with 40.1% of respondents identifying it while the next highest center was only identified by 19.7% of the population. In 2011 41.8% of MSM reported having accessed the CAMNAFAW clinic or being reached by Humanity First peer educators or outreach workers in the previous 12 months (CARE 2012). In both Care (2012) and the current study, Humanity First has only been able to reach approximately 40% of the MSM population in HIV Prevention for Populations at Risk in Cameroon - final report (4 July 2013).45 the city. Although Humanity First has not reached the majority of MSM respondents it is the most commonly cited service center. This represents a lack of clinical services in Yaounde since Humanity First does not provide HIV testing or ARV medication. MSM in Yaounde are largely not connected to centers that provide HIV testing, treatment, or care. The low levels of access to HIV services are further evidenced in both MSM and FSW populations by the percent of respondents in the city who failed to identify any health centers that provide HIV services. Of all the cities, Yaounde had the second highest number of each population that reported not seeking or receiving HIV prevention, care, and treatment, with 20.4% MSM and 17.2% of FSW reporting seeking or receiving no health services. Eighteen services mentioned by FSW were visited in Yaounde including twelve public facilities, three private clinics and three CBO/NGOs. Eleven services reported specialized training for staff in dealing with MSM or FSW. Seventeen had undertaken HIV counseling and testing in the past month and three had undertaken specialized sessions (for MSM or FSW), twelve had provided ARV medication in last month and only two did not report ARV shortages in the last 12 months. Of the two top services cited by the FSW population, only one had HIV clinical capacity, as the other was Horizon Femme, the PEPFAR HAPP funded association that provides HCT and referral to clinical services in Yaounde and Douala. It is noteworthy that 17.2% of the FSW population in Yaounde reported not seeking or receiving any HIV prevention, care or treatment service. Overall, this implies the coverage of clinical services for the FSW population in Yaoundé is limited. HIV Prevention for Populations at Risk in Cameroon - final report (4 July 2014).46 \n",
      "BREAK\n"
     ]
    },
    {
     "name": "stderr",
     "output_type": "stream",
     "text": [
      "Your min_length is set to 56, but you input_length is only 12. You might consider decreasing min_length manually, e.g. summarizer('...', min_length=10)\n",
      "Your max_length is set to 142, but you input_length is only 12. You might consider decreasing max_length manually, e.g. summarizer('...', max_length=50)\n"
     ]
    },
    {
     "name": "stdout",
     "output_type": "stream",
     "text": [
      "This study was conducted in the framework of the 2011-2015 Cameroon National Strategic Plan for the Fight Against HIV/AIDS that highlighted a need to elucidate the health requirements status of key populations in Cameroon. Additionally, Cameroon is currently reviewing this plan and modifying to cover 2014-2017. Key population baseline data will be critical for the proper planning of interventions aiming to significantly decrease the burden of the HIV epidemic in these high risk populations, and indirectly reduce the incidence of new HIV infections in the general population. Despite low HIV prevalence among the general population relative to other regions of sub-Saharan Africa, West and Central Africa contribute a significant proportion of new HIV infections to the global burden due to their large populations (combined regional population ~356 million, World Bank, 2012). While national HIV prevalence ranges from <1%-5% in the region, prevalence among key populations (KP) such as female sex workers (FSW) and men who have sex with men (MSM) is often significantly higher (UNAIDS 2012). This is consistent with other regions of the world such as Southeast Asia and Latin America where prevalence in the general population remains around or below 5%, and disproportionately higher in key populations such as FSW, MSM and people who inject drugs (PWID) (UNAIDS, 2012). While MSM prevalence data have not been published for Cameroon, peer-reviewed literature since 1991 shows there is elevated prevalence among FSW in the country (Table 1) while the HIV prevalence among the adult general population is 4.3% (National Institute of Statistics 2012). This is reinforced by data from national surveillance in 2009 (Tamoufe and Medang 2009) which estimated a prevalence among FSW at 37% and among MSM in Douala and Yaoundé also at 37% (CARE 2012). This indicates the epidemic in Cameroon is similar to other countries in West and Central Africa and that key populations warrant further investigation and specific programming. To date, there is limited information on MSM in Cameroon and prior to 2011 there was no sero-prevalence data on MSM at all. In contrast in the past decade, two nationwide HIV sero-prevalence studies among FSW were conducted in 2004 (26.4% N=1,005) and 2009 (37% N=999) (Mosoko et al, 2004; Tamoufe and Medang, 2009). \n",
      "BREAK\n"
     ]
    },
    {
     "name": "stderr",
     "output_type": "stream",
     "text": [
      "Your min_length is set to 56, but you input_length is only 4. You might consider decreasing min_length manually, e.g. summarizer('...', min_length=10)\n",
      "Your max_length is set to 142, but you input_length is only 4. You might consider decreasing max_length manually, e.g. summarizer('...', max_length=50)\n"
     ]
    },
    {
     "name": "stdout",
     "output_type": "stream",
     "text": [
      "Under the Cameroon National Strategic Plan for HIV (2011 – 2015), the Government of Cameroon facilitates the availability of HIV testing and counseling at both community and health center based services. Community based organizations (CBO) may provide HIV Testing and Counseling and refer patients on to accredited health services that provide further clinical assessments, usually at a hospital or health center. These services are mainly public, with some private and religious health services accredited to provide comprehensive HIV testing and care. Currently, CBO level prevention activity is restricted to HCT with trained counselors, and the distribution and education regarding condoms and condom compatible lubricant through trained CBO staff and peer educators. Nationally, there are currently two Key Population specific programs that function in five main cities in the country (Bamenda, Bertoua, Kribi, Yaounde, Douala). The USAID HIV AIDS Prevention Program (HAPP), supports CBOs to provide HCT and condom/lubricant distribution to female sex workers (five cities) and men who have sex with men (three cities), with referral to further HIV services, and a Global Fund program, through the Government of Cameroon and an NGO, CAMNAFAW, has begun activity in main cities such as Yaoundé, with plans to scale up nationwide by 2016. Thus, HIV testing and counseling services remain concentrated within the public sector facilities, and are mainly focused on general population level activity, with only nascent programs specifically designed to address the needs of marginalized populations, and reduce the barriers to health services for populations at heightened risk of HIV infection. \n",
      "BREAK\n"
     ]
    },
    {
     "name": "stderr",
     "output_type": "stream",
     "text": [
      "Your min_length is set to 56, but you input_length is only 13. You might consider decreasing min_length manually, e.g. summarizer('...', min_length=10)\n",
      "Your max_length is set to 142, but you input_length is only 13. You might consider decreasing max_length manually, e.g. summarizer('...', max_length=50)\n"
     ]
    },
    {
     "name": "stdout",
     "output_type": "stream",
     "text": [
      "ACMS: Association Camerounaise pour le Marketing Social ACODEDUGN: Association des Couches défavorisées et Vulnérables du Grand-Nord. ACODEVO: Association des Couches défavorisées et Vulnérables de l'Océan. ADEFHO: Association pour la Défense des Homosexuels AIDS ACODEV: Aide Auprès des Couches Défavorisées et Vulnérables. AIDS: Acquired Immunodeficiency Syndrome ART: Anti-Retroviral Therapy ARV: Antiretroviral ASAD: Association d'Assistance au Développement. CAMFAIDS: Cameroonian Foundation For AIDS. CAMNAFAW: Cameroon National Association for Family Wealfare CBO: Community-based Organization. CCP: Center for Communication Programs CD4: Cluster of differentiation 4 CDC: Centers for Disease Control CI: Confidence Interval CNERSH: Comité National d'Ethique de la Recherche pour la Santé Humaine. CNLS: Comité National de Lutte contre le SIDA COFENHO: Collectif des Familles des Enfants Homosexuels. CPHHR: Center for Public Health and Human Rights. CSI: Centre de Santé Intégrée. DROS: Division de la Recherche Opérationnelle en Santé ESPK: Espace Sante Prévention De Kribi FSW: Female Sex Worker. GIZ: Gesellschaft für Internationale Zusammenarbeit GPS: Global Positioning System GTC: Groupe Technique Central GTR: Groupe Technique Régional GV: Global Viral HAPP: HIV/AIDS Prevention Program HIV Prevention for Populations at Risk in Cameroon - Appendix 5. List of Abbreviations. Final report (4 July 2014).89 HCT: HIV Counseling and Testing Capacity. HEVECAM: Hévéa du Cameroun. HIV: Human immunodeficiency virus HRW: Human Rights Watch IBBS: Integrated Biological and Behavioral Surveillance. INS: Institut National de la Statistique. JHU: Johns Hopkins University KP: Key Population LGB: Lesbian, Gay and Bisexual LGBT: Lesbian, Gay and Bisexual and Transexual LIC: Low Income Country LMIC: Low and middle income country. MARPs: Most At Risk Populations. MINJUSTICE: Ministère de la Justice MSEM: Modified Social Ecological Model. MSM: Men having Sex with Men. NGO: Non-Governmental Organization. NSUM: Network Scale Up Method. ONSP: Observatoire National de la Santé Publique OR: Odds Ratio PAEMH: Projet d'Assistance et d'Encadrement des Minorités Homosexuelles PEP: Post-exposure prophylaxis PEPFAR: President's Emergency Plan for AIDS Relief PID: People Who Inject Drugs PLACE: Priorities for Local AIDS Control Efforts PLWHIV: People Living with HIV PMI: Protection Maternelle et Infantile PMTCT: Preventing Mother-to-Child Transmission PWID: People Who Inject Drugs R2P: Research To Prevention SID'ADO: Adolescents contre le SIDA HIV Prevention for Populations at Risk in Cameroon - Appendix 5. List of Abbreviations.. Final report (4 July 2014).90 SSA: Sub-Saharan Africa STD: Sexually Transmitted Diseases STI: Sexually Transmitted Infections UNAIDS: United Nations Programme on HIV/AIDS US: United States USAID: United States Agency for International Development USD: United States Dollar HIV Prevention for Populations at Risk in Cameroon - Appendix 5. List of Abbreviations. Final report (4 July 2014).91 \n",
      "BREAK\n"
     ]
    },
    {
     "name": "stderr",
     "output_type": "stream",
     "text": [
      "Your min_length is set to 56, but you input_length is only 11. You might consider decreasing min_length manually, e.g. summarizer('...', min_length=10)\n",
      "Your max_length is set to 142, but you input_length is only 11. You might consider decreasing max_length manually, e.g. summarizer('...', max_length=50)\n"
     ]
    },
    {
     "name": "stdout",
     "output_type": "stream",
     "text": [
      "HIV Prevention for Populations at Risk in Cameroon - Appendix 6. Copies of administrative authorizations. Final report (4 July 2014). 93 HIV Prevention for Populations at Risk in Cameroon - Appendix 6. Copies of administrative authorizations. Final report (4 July 2014).94 HIV Prevention for Populations at Risk in Cameroon - Appendix 6. Copies of administrative authorizations. Final report (4 July 2014). 95 HIV Prevention for Populations at Risk in Cameroon - Appendix 6. Copies of administrative authorizations. Final report (4 July 2014).96 HIV Prevention for Populations at Risk in Cameroon - Appendix 6. Copies of administrative authorizations. Final report (4 July 2014). 97 HIV Prevention for Populations at Risk in Cameroon - Appendix 6. Copies of administrative authorizations. Final report (4 July 2014).98 HIV Prevention for Populations at Risk in Cameroon - Appendix 6. Copies of administrative authorizations. Final report (4 July 2014). 99 HIV Prevention for Populations at Risk in Cameroon - Appendix 6. Copies of administrative authorizations. Final report (4 July 2014).100 HIV Prevention for Populations at Risk in Cameroon - Appendix 6. Copies of administrative authorizations. Final report (4 July 2014). 101 HIV Prevention for Populations at Risk in Cameroon - Appendix 6. Copies of administrative authorizations. Final report (4 July 2014).102 HIV Prevention for Populations at Risk in Cameroon - Appendix 6. Copies of administrative authorizations. Final report (4 July 2014). 103 \n",
      "BREAK\n"
     ]
    },
    {
     "name": "stderr",
     "output_type": "stream",
     "text": [
      "Your min_length is set to 56, but you input_length is only 5. You might consider decreasing min_length manually, e.g. summarizer('...', min_length=10)\n",
      "Your max_length is set to 142, but you input_length is only 5. You might consider decreasing max_length manually, e.g. summarizer('...', max_length=50)\n"
     ]
    },
    {
     "name": "stdout",
     "output_type": "stream",
     "text": [
      "Male condom use during vaginal sex with clients in last month Everytime 69.0 58.5 70.6 17.5 9.40 10.9 46.7 40.8 (737/1805) Almost everytime 23.7 31.9 14.5 45.5 58.6 71.9 45.0 41.6 (750/1805) Some of the time 7.3 9.3 14.9 35.5 28.9 16.8 5.9 16.7 (301/1805) Almost none of the time 0.0 0.0 0.0 0.5 1.5 0.3 0.0 0.3 (6/1805) None of the time 0.0 0.3 0.0 0.9 1.5 0.0 2.4 0.6 (11/1805) Female condom use during vaginal sex with clients in last month Everytime 0.0 0.0 0.0 0.0 0.0 0.0 1.2 0.1 (2/1802) Almost everytime 1.3 1.7 2.4 9.5 8.3 3.5 1.2 3.5(63/1802) Some of the time 19.7 23.0 20.1 31.8 53.0 35.2 39.3 35.2 (635/1802) Almost none of the time 4.0 4.7 4.7 4.7 1.9 3.3 3.6 3.3 (60/1802) None of the time 75.0 70.7 72.8 54.0 36.8 57.8 54.8 57.8 (1042/1802) Male condom use during vaginal sex with non-paying partners in last month Everytime 15.1 13.0 30.8 3.0 5.7 5.1 29.4 13.1 (180/1379) Almost everytime 3.5 14.1 5.5 38.6 16.2 11.8 11.9 14.6 (202/1379) Some of the time 17.6 14.6 14.8 31.5 34.6 60.4 12.7 29.1 (401/1379) Almost none of the time 7.00 12.0 0.5 11.2 6.60 13.3 4.8 8.3 (115/1379) None of the 56.8 46.4 48.4 15.7 36.8 9.40 41.3 34.9 (481/1379) HIV Prevention for Populations at Risk in Cameroon - Appendix 3. FSW-related data tables. Final report (4 July 2014).78 Yaoundé Douala Bafoussam Bamenda Bertoua Ngaoundere Kribi All sites time Female condom use during vaginal sex with non-paying partners in last month Everytime 0.5 0.5 0.5 0.5 0.0 0.0 0.8 0.4 (5/1383) Almost everytime 0.0 1.6 1.6 8.6 4.0 1.1 0.0 2.5 (35/1383) Some of the time 4.5 6.3 3.8 23.9 24.3 59.9 13.5 22.0 (304/1383) Almost none of the time 2.0 3.2 3.3 6.6 5.3 1.1 4.0 3.5 (49/1383) None of the time 93.0 88.4 90.7 60.4 66.4 37.8 81.7 71.6 (990/1383) How did you learn to use a male condom Sexual partner 28.4 13.0 18.8 51.2 6.10 53.5 19.4 27.2 (492/1806) Friend 14.8 29.0 36.5 17.7 17.4 7.60 23.0 20.5 (370/1806) Outreach worker 6.8 8.7 4.3 11.5 62.1 28.7 10.3 19.4 (350/1806) Drop in center 0.3 1.3 3.9 4.3 6.1 0.0 9.1 3.0 (55/1806) How did you learn to use a female condom Sexual partner 14.0 4.1 4.3 10.9 2.3 25.1 1.1 10.0 (85/853) Friend 11.0 18.4 47.3 19.1 9.0 16.4 13.0 17.8 (152/853) Outreach worker 17.0 23.5 10.8 7.30 66.1 44.3 25.0 32.7 (279/853) Drop in center 4.0 11.2 12.9 30.0 6.2 0.0 35.9 12.2 (104/853) Male condom slipping off or breaking during vaginal or anal sex in last month 50.7 53.9 40.0 46.4 41.3 45.2 46.1 46.5 (830/1786) Female condom slipping off or breaking during vaginal or anal sex in last month 1.3 6.7 0.0 19.6 0.6 1.6 0.0 3.9 (30/767) Condom acquisition Buy them 65.8 81.4 95.3 44.0 14.4 76.6 55.7 63.5 (1148/1809) Get them for free 5.5 2.3 2.0 1.9 8.4 1.3 15.6 4.7 (85/1809) Both buy them and get 28.7 16.3 2.70 54.1 77.2 22.1 28.7 31.8 (576/1809) 79 Yaoundé Douala Bafoussam Bamenda Bertoua Ngaoundere Kribi All sites them free If free, where do you usually get them ACMS 0.0 1.8 0.0 0.0 0.0 18.3 0.0 2.1 (14/661) Local clinic 0.9 5.4 8.3 4.3 1.3 0.0 2.7 2.3 (15/661) Drop in center 2.8 16.1 8.3 34.2 12.4 0.0 52.7 18.2 (120/661) Peer educator/ Outreach worker 60.4 39.3 16.7 46.2 80.9 45.1 25.7 56.7 (375/661) Mobile van 0.0 5.4 0.0 2.6 3.1 12.7 2.7 3.6 (24/661) Public Hospital 7.5 0.0 25.0 12.8 1.3 12.7 6.8 6.5 (43/661) Other 28.3 32.1 41.7 0.0 0.90 11.3 9.5 10.6 (70/661) If bought them, where do you usually buy them A shop 46.6 53.2 68.3 24.3 68.0 53.8 74.5 54.9 (952/1734) Cigarette seller on the street 41.8 30.7 8.7 8.90 21.7 34.1 7.1 24.2 (420/1734) Vendors of condoms 6.1 6.5 13.9 45.0 8.3 11.4 2.8 12.8 (222/1734) Pharmacies 3.1 6.1 6.7 21.8 2.0 0.7 14.2 6.6 (115/1734) Other 2.4 3.4 2.4 0.0 0.0 0.0 1.4 1.4 (25/1734) Do you ever use lubricants during sex No 41.3 28.3 55.9 35.5 30.7 83.7 29.2 44.9 (814/1813) Yes 58.7 71.7 44.1 64.5 69.3 16.3 70.8 55.1 (999/1813) Drug Use Injected drugs using a needle 0.0 1.3 0.4 6.6 1.9 0.3 0.6 1.5 (26/1792) HIV Prevention for Populations at Risk in Cameroon - Appendix 3. FSW-related data tables. Final report (4 July 2014).80 \n",
      "BREAK\n"
     ]
    },
    {
     "name": "stderr",
     "output_type": "stream",
     "text": [
      "Your min_length is set to 56, but you input_length is only 18. You might consider decreasing min_length manually, e.g. summarizer('...', min_length=10)\n",
      "Your max_length is set to 142, but you input_length is only 18. You might consider decreasing max_length manually, e.g. summarizer('...', max_length=50)\n"
     ]
    },
    {
     "name": "stdout",
     "output_type": "stream",
     "text": [
      "The prevalence of rape among FSW was high with 45.9% indicating they had been forced to have sex on at least one occasion. This varied from 31.4% in Bafoussam to 60.0% in Kribi (see Appendix 3, Table 2). The Cameroon Ministry of Justice reported 68 adult victims of rape in 2010 (Ministry of Justice 2011) and 89 in 2011 (Ministry of Justice 2012). Self-reported denial of health care services because of occupation as a sex worker was 3.2% and varied from 1.0% in Yaounde to 11.8% in Kribi. Bad treatment because of occupation was reported by 5.4% of participants, varying from 1.6% in Yaounde and Bafoussam to 17.2% in Kribi. Self-reported levels of denial of police protection because of sex work among FSW was 33.4% across all sites and varied from 9.0% in Bamenda to 66.4% in Bertoua. Arrest because of sex works were reported at 55.6% across sites, varying from 42.6% in Kribi to 67.9% in Douala. Having spent time in jail or prison because of sexual HIV Prevention for Populations at Risk in Cameroon - final report (4 July 2013).39 orientation was 4.7% across all sites and varied from 1.3% in Yaounde to 12.5% in Bertoua. Official figures for sex work in Cameroon in 2010 were 25 investigations, 25 prosecutions, 14 cases heard and determined, nine convictions and five discharges/acquittals (Ministry of Justice 2011) and in 2011 were 16 reports received, 23 prosecutions initiate, 13 cases decided, 11 convictions and 2 acquittals/releases (Ministry of Justice 2012). Reporting having been blackmailed because of sex work was reported by over half of FSW participants with 55.1% reporting across all sites and 69.5% reporting this in Kribi. Bafoussam had the lowest rate with 38.8% of individuals reporting having been blackmailed. Having been beaten or physically hurt was reported by 40.0% of participants with 31.6% reporting in Yaounde up to 45.7% in Bertoua. \n",
      "BREAK\n"
     ]
    },
    {
     "name": "stderr",
     "output_type": "stream",
     "text": [
      "Your min_length is set to 56, but you input_length is only 6. You might consider decreasing min_length manually, e.g. summarizer('...', min_length=10)\n",
      "Your max_length is set to 142, but you input_length is only 6. You might consider decreasing max_length manually, e.g. summarizer('...', max_length=50)\n"
     ]
    },
    {
     "name": "stdout",
     "output_type": "stream",
     "text": [
      "Eight services mentioned by MSM were visited in Bamenda including three public and five private facilities. Information from one of the services was not possible to obtain, as the service itself refused to respond or consent to participate in this study. One of the services was a PEPFAR HAPP funded Drop-In Center which reported specialized training for staff in dealing with MSM or FSW, however this service had limited capacity to care and treat for HIV positive patients and instead mainly referred patients to other services. All of the HIV Prevention for Populations at Risk in Cameroon - final report (4 July 2014).42 services had undertaken HIV counseling and testing in the past month and the Drop-in Center cited above had undertaken specialized sessions (for FSW or MSM). Six of the eight services had provided ARV medication in last month and three of these reported ARV shortages in the last 12 months. Of the top listed services/centers, one declined to participate in the study, and the other three reported providing ARV medication for people living with HIV/AIDS. One facility reported specialized training for FSW only. This hospital had received support and training through PEPFAR HAPP program in order to manage referrals from the CBO specifically working with FSW in the city. Nine services mentioned by FSW were visited in Bamenda including two public facilities, six private and one CBO. Responses are not available for one public service (PMI Nkwen). Two of the services reported specialized training for staff in dealing with MSM or FSW. All of the services except the CBO had undertaken HIV counseling and testing in the past month and one had undertaken specialized sessions (for FSW or MSM), seven of the nine services had provided ARV medication in last month and four of these reported ARV shortages in the last 12 months. The populations in Bamenda had highest numbers of individuals who had sought or received HIV prevention, care and treatment services, with only 2.2% of FSW and 3.9% of MSM reporting not receiving any HIV service. Disclosure when seeking services however was reported as minimal and qualitative data indicates that these populations in Bamenda feel highly stigmatized and more hidden than their counterparts in other cities. Religious practices and a smaller population were cited as some of the reasons for these feelings among the population. \n",
      "BREAK\n"
     ]
    },
    {
     "name": "stderr",
     "output_type": "stream",
     "text": [
      "Your min_length is set to 56, but you input_length is only 5. You might consider decreasing min_length manually, e.g. summarizer('...', min_length=10)\n",
      "Your max_length is set to 142, but you input_length is only 5. You might consider decreasing max_length manually, e.g. summarizer('...', max_length=50)\n"
     ]
    },
    {
     "name": "stdout",
     "output_type": "stream",
     "text": [
      "Review of the HIV epidemic in West and Central Africa suggests that the epidemic is relatively concentrated and more closely resembles the epidemics in Southeast Asia and Latin America than the rest of SSA. This highlights the importance of providing adapted and inclusive HIV prevention, care and treatment services to key populations, such as FSW and MSM, more highly affected by the epidemic in the region. The epidemiology of HIV in Cameroon shows the country is not different from other central and west African countries and targeted, cost-effective programs that address not only behavioral, but biological and structural risk factors associated with HIV acquisition and transmission in key populations should be implemented to reduce the onward spread of HIV. Prevention programs should model strategies on the continuum of care and appropriate programs that increase uptake of treatment among key populations, address the barriers to health care that exist in highly stigmatized settings, and ultimately reduce community viral loads and transmission. Structural barriers to health services for key populations include stigma and discrimination, the inability to disclose sexual practices and health needs to health practitioners, and economic limitations to seeking services. Some of these barriers seem to be overcome when specific CBO associations or services are developed to create safe spaces for the population to discuss health issues. While specialized CBOs exist in Cameroon, the clinical capacity of these groups is limited and could be scaled up to provide further HIV care and treatment services to the population. Concurrently, the population also attends general population health services, and in this context disclosure of their sexual orientation or behavior is limited. Developing tailored services for key populations, integrated into general population services may avoid community level stigma and discrimination from deterring individuals from accessing services. The regional disparities of the results also indicate local models should be developed on a city-by-city or region-by-region basis in Cameroon, and community structures should facilitate the relationship between the community and integrated health services. \n",
      "BREAK\n"
     ]
    },
    {
     "name": "stderr",
     "output_type": "stream",
     "text": [
      "Your min_length is set to 56, but you input_length is only 6. You might consider decreasing min_length manually, e.g. summarizer('...', min_length=10)\n",
      "Your max_length is set to 142, but you input_length is only 6. You might consider decreasing max_length manually, e.g. summarizer('...', max_length=50)\n"
     ]
    },
    {
     "name": "stdout",
     "output_type": "stream",
     "text": [
      "In this section we have attempted to detail which services were the most used by FSW in each of the study cities. We present characteristics of the services the most reported as a guide to where to invest in improvements to service provision for this population. Frequently we see that the service the most reported in each city is not a service that has invested in staff training or specialized services for these populations. These services are well placed to provide services that can assist in decreasing HIV transmission in this high prevalence group. 32.7% of FSW participants had disclosed their occupation to a doctor or nurse, this varied from 17.3% in Ngaoundere to 49.4% in Bertoua. 9.6% (174/1815) of FSW participants were not able to list a single HIV prevention, testing or treatment service. 68.0% of FSWs indicated they had received HIV prevention information in the last 12 months, of these 66.3% had received information from trained peer educators, 49.5% from media, and 48.0 % from doctors/health providers. This shows that peer educators were an important source of information and they likely probably provide targeted messages appropriate to the FSW community. Additionally, 27.2% of FSW learned to use male condoms from sexual partners, 20.5% from friends, and 19.4% from outreach workers. This demonstrates the importance of outreach/peer education networks for FSW, both in terms of ensuring the quality of information provided and providing specialized, targeted information. Sex workers mentioned 29 services in the Bafoussam area with two mentioned by more than 10% participants (see Table xxv): the CMA de Djeleng and the Bafoussam Regional Hospital. HIV Prevention for Populations at Risk in Cameroon - final report (4 July 2014).32 \n",
      "BREAK\n"
     ]
    },
    {
     "name": "stderr",
     "output_type": "stream",
     "text": [
      "Your min_length is set to 56, but you input_length is only 6. You might consider decreasing min_length manually, e.g. summarizer('...', min_length=10)\n",
      "Your max_length is set to 142, but you input_length is only 6. You might consider decreasing max_length manually, e.g. summarizer('...', max_length=50)\n"
     ]
    },
    {
     "name": "stdout",
     "output_type": "stream",
     "text": [
      "Seven services mentioned by MSM were visited in Kribi including three public facilities, two private and one CBO however it was not possible to obtain information from one of the services, Hopital d'Ebome. Four of the six services reported specialized training for staff in dealing with MSM or FSW. Five had undertaken HIV counseling and testing in the past month and one had undertaken specialized sessions (for MSM or FSW), two had provided ARV medication in last month and neither of these reported ARV shortages in the last 12 months. HIV Prevention for Populations at Risk in Cameroon - final report (4 July 2014).44 Two services were cited by more than 10% of the MSM population in Kribi, one provided clinical services, including ARV medications, and the other was the PEPFAR funded Drop-in center with no clinical capacity. The one clinical service in Kribi reported no ARV medication stock outages in the past 12 months. Nine services mentioned by FSW were visited in Kribi including three public facilities, three private and three CBOs, however it was not possible to obtain information from one of the services, Hopital d'Ebome. Four of the nine services reported specialized training for staff in dealing with MSM or FSW. Six had undertaken HIV counseling and testing in the past month and one had undertaken specialized sessions (for MSM or FSW), two had provided ARV medication in last month and neither of these reported ARV shortages in the last 12 months. The FSW population in Kribi listed the same two services as the MSM population, with one clinical service and the other a community-based organization with HCT capacity and a referral system for individuals infected with HIV. Of all the cities, Kribi had the highest percentage of each population that report seeking or receiving no HIV prevention, care or treatment, with 29.8% of MSM and 33.3% of FSW. \n",
      "BREAK\n"
     ]
    },
    {
     "name": "stderr",
     "output_type": "stream",
     "text": [
      "Your min_length is set to 56, but you input_length is only 5. You might consider decreasing min_length manually, e.g. summarizer('...', min_length=10)\n",
      "Your max_length is set to 142, but you input_length is only 5. You might consider decreasing max_length manually, e.g. summarizer('...', max_length=50)\n"
     ]
    },
    {
     "name": "stdout",
     "output_type": "stream",
     "text": [
      "Six services mentioned by MSM were visited in Bertoua including four public facilities, and 2 private. Two of the services reported specialized training for staff in dealing with MSM or FSW. All of the services had undertaken HIV counseling and testing in the past month and one, which was an association, had undertaken specialized sessions (for MSM or FSW), three of the six services had provided ARV medication in last month and all of these reported ARV shortages in the last 12 months. HIV Prevention for Populations at Risk in Cameroon - final report (4 July 2013).43 Of the top three services listed, none had specialized training on the health needs of MSM or FSW, two of the three provided ARV medication and both reported ARV stock outages in the past 12 months. Eight services mentioned by FSW were visited in Bertoua including four public facilities, three private and one CBO. Four of the services reported specialized training for staff in dealing with MSM or FSW. All of the services had undertaken HIV counseling and testing in the past month and three had undertaken specialized sessions (for MSM or FSW), four services had provided ARV medication in last month and all of these reported ARV shortages in the last 12 months. Of the top five services or centers listed by FSW, two of them provided ARV mediation in the past 12 months and both reported ARV stock outages (the same two listed by the MSM population). It is noteworthy that the centers that reported specialized FSW/MSM activity were PEPFAR funded localities, and also did not provide care and treatment services. In Bertoua, 4.9% of the MSM population and 9.6% of the FSW population reported seeking, knowing or receiving no HIV prevention, care or treatment service. \n",
      "BREAK\n"
     ]
    },
    {
     "name": "stderr",
     "output_type": "stream",
     "text": [
      "Your min_length is set to 56, but you input_length is only 5. You might consider decreasing min_length manually, e.g. summarizer('...', min_length=10)\n",
      "Your max_length is set to 142, but you input_length is only 5. You might consider decreasing max_length manually, e.g. summarizer('...', max_length=50)\n"
     ]
    },
    {
     "name": "stdout",
     "output_type": "stream",
     "text": [
      "Twenty services mentioned by MSM were visited in Douala including ten public facilities, seven private and three CBOs. Eight of the twenty services reported specialized training for staff in dealing with MSM or FSW. All except one had undertaken HIV counseling and testing in the past month and three had undertaken specialized sessions (for MSM or FSW), fourteen had provided ARV medication in last month and all but only two reported ARV shortages in the last 12 months. Of the top three services listed, the only one that reported providing ARV medication in the past 4 weeks, also reported shortages in the past 12 months. Nineteen services mentioned by FSW were visited in Douala including ten public facilities, five private and four CBOs. Nine of the nineteen services reported specialized training for staff in dealing with MSM or FSW. All except one had undertaken HIV counseling and testing in the past month and six had undertaken specialized sessions (for MSM or FSW), fourteen had provided ARV medication in last month and only one of these reported no ARV shortages in the last 12 months. Only one health service in Douala was cited by more than 10% of FSW. That one service (Baptist Health Center) had no staff trained specifically on the health needs of FSW and MSM, though it did provide ARV medication, and also reported having had a stock shortage in the past 12 months. Douala has the highest disclosure of sexual orientation by MSM to a health provider of all the cities. Douala also has the longest-standing MSM-specific clinic in Cameroon. Alternatives Cameroon is the oldest association in the country that is specifically for the MSM population. Alternatives was the most commonly cited center by MSM in Douala. Additionally, Alternatives has been shown to be effective at reaching high levels of the MSM population in previous studies. In 2011 74.3% of MSM respondents reported having accessed the Access Center clinic at Alternatives or being reached by a peer educator or outreach worker (CARE 2012). The existence of an MSM stand-alone clinic has helped connect a high proportion of MSM to HIV services in Douala and contributes to greater disclosure of sexual orientation to a health care provider in the city. In Douala, 4.8% of MSM and 6.3% of FSW reported seeking, knowing, or receiving no HIV prevention, care or treatment service. \n",
      "BREAK\n",
      "The diversity of results among FSW across sites was also noteworthy, though common risk factors indicate prevention programs must focus on condoms with non-paying partners, and reducing the risks of sexual violence including access to PEP. HIV services in collaboration with or integrated into family planning or reproductive health services may greatly increase the uptake of HIV care and treatment among FSW. Addressing user fees and economics barriers to health care for this population may also significantly assist adherence to ART. Implementing regional specific models of care will also benefit the diverse FSW populations across the country. Community-level interventions, where peer educators and counselors are trained in the specific needs of FSW have shown relative success in increasing FSW use of condoms with clients, and linking these community based services to specialized care and treatment facilities will greatly assist the uptake among FSW in HIV specific health services. HIV Prevention for Populations at Risk in Cameroon - final report (4 July 2013).55 \n",
      "BREAK\n"
     ]
    },
    {
     "name": "stderr",
     "output_type": "stream",
     "text": [
      "Your min_length is set to 56, but you input_length is only 6. You might consider decreasing min_length manually, e.g. summarizer('...', min_length=10)\n",
      "Your max_length is set to 142, but you input_length is only 6. You might consider decreasing max_length manually, e.g. summarizer('...', max_length=50)\n"
     ]
    },
    {
     "name": "stdout",
     "output_type": "stream",
     "text": [
      "iii \n",
      "BREAK\n"
     ]
    },
    {
     "name": "stderr",
     "output_type": "stream",
     "text": [
      "Your min_length is set to 56, but you input_length is only 4. You might consider decreasing min_length manually, e.g. summarizer('...', min_length=10)\n",
      "Your max_length is set to 142, but you input_length is only 4. You might consider decreasing max_length manually, e.g. summarizer('...', max_length=50)\n"
     ]
    },
    {
     "name": "stdout",
     "output_type": "stream",
     "text": [
      "Numerous studies and data sources covering key populations were obtained from government partners, NGOs and associations. One study provided estimates of SW populations in cities in Cameroon based on mapping and key informants. For MSM two studies presented HIV serology among MSM in Cameroon (Tamoufe and Medang 2009, CARE 2012). A number of other studies (for which data sets were not obtained) collected statistics on clinic or outreach-based HIV testing by NGO and associations. Among female sex workers a series of studies and data were available (see Table 2) showing a growing understanding of prevalence from localized studies to two national seroprevalence studies (Mosoko et al, 2004; Tamoufe and Medang, 2009). Behavioral data also exists, in combination with serological data (SW: Tamoufe and Medang, 2009, CARE 2012) and stand alone behavioral data (eg for FSW a study by WOPA and JHU in Kribi and ACMS and CAMNAFAW studies and among MSM studies and data sets collected by ACMS and CAMNAFAW). A specific study on stigmatization of vulnerable groups (including MSM and FSW) was also undertaken in Yaounde and Douala (FISS-MST/SIDA 2009). Appendix 1 presents a list of these data sets and reports which were used to contextualize the results obtained in the present study. Where interesting similarities or differences were obtained they are referred to in the text of this document. \n",
      "BREAK\n"
     ]
    },
    {
     "name": "stderr",
     "output_type": "stream",
     "text": [
      "Your min_length is set to 56, but you input_length is only 7. You might consider decreasing min_length manually, e.g. summarizer('...', min_length=10)\n",
      "Your max_length is set to 142, but you input_length is only 7. You might consider decreasing max_length manually, e.g. summarizer('...', max_length=50)\n"
     ]
    },
    {
     "name": "stdout",
     "output_type": "stream",
     "text": [
      "In this section we have attempted to detail which services were the most used by MSM in each of the study cities. We present characteristics of the services the most reported as a guide to where to invest in improvements to service provision for this population. Outside of Yaounde and Douala we see that the services which are most reported are not services that have invested in staff training or specialized services for these populations. These services are well placed to provide services that can assist in decreasing HIV transmission in this high prevalence group. 25.8% of MSM participants had revealed their sexual orientation to a doctor or nurse, this varied from 11.3% in Bertoua to 37.1% in Douala. The sites with no specialized clinical services for MSM were the sites with the lowest levels of disclosure to medical personnel (Bafoussam 23.1%, Bamenda 25.7%, Bertoua 11.3% and Ngaoundere 23.0%). 7.5% (121/1606) of MSM participants were not able to list a single HIV prevention, testing or treatment service. 88.3% of MSM participants indicated they had received HIV prevention information in the last 12 months, of these 78.9% had received information from media, 69.5% from trained peer educators, 68.4 from other MSM, 62.6% from family or friends and 56.9% from doctors/health providers. This shows that while the information obtained from the media by a large proportion of the population would be targeted at the general population, peer educators were an important source of information which was probably providing more targeted messages appropriate to this community. Similarly, 18.5% of MSM learned to use male condoms from outreach workers, 17.1% from sexual partners, 13.8% from AIDS education programs, 13.6% from friends, and only 2.4% learned from medical personnel. Again this reinforces the importance of outreach peer education networks, both in terms of ensuring the quality of information provided and providing specialized, targeted information. MSM listed 25 services in the Bafoussam area, with three mentioned by more than 10% of participants (see Table xiii). The Bafoussam Regional Hospital was the most commonly mentioned, followed by Colibri and the Hopital de District de Dschang. The locations of the services are given in Figure 4. \n",
      "BREAK\n"
     ]
    },
    {
     "name": "stderr",
     "output_type": "stream",
     "text": [
      "Your min_length is set to 56, but you input_length is only 8. You might consider decreasing min_length manually, e.g. summarizer('...', min_length=10)\n",
      "Your max_length is set to 142, but you input_length is only 8. You might consider decreasing max_length manually, e.g. summarizer('...', max_length=50)\n"
     ]
    },
    {
     "name": "stdout",
     "output_type": "stream",
     "text": [
      "Eight services mentioned by MSM were visited in Bafoussam including five public facilities, 2 private and 1 CBO. Three of the services reported specialized training for staff in dealing with MSM or FSW, however two were associations, not clinical service providers. All of the services/centers had undertaken HIV counseling and testing in the past month and one association had undertaken specialized sessions for MSM. Two of the seven services had provided ARV medication in last month. Of the three top services listed by the MSM population, one was an association with only HCT capacity, and the other two services were public hospitals. One of these two public hospitals was visited and reported providing ARV medication, no staff training for MSM/FSW service provision, and ARV shortages in the last twelve months. Ten services mentioned by FSW were visited in Bafoussam including five public facilities, and five private clinics. Two of the services reported specialized training for staff in health management with MSM or FSW. All of the services had undertaken HIV counseling and testing in the past month but none had undertaken specialized sessions (for FSW), three of the services had provided ARV medication in last month and one of these reported ARV shortages in the last 12 months. Of the two top services listed by FSW, both were public hospitals that provided a diverse amount of services, which included PMTCT and Family Planning facilities. However, of the two, one reported ARV shortages in the last 12 months. In Bafoussam, 5.6% of the MSM sample and 5.5% of the FSW sample reported not going to any service for HIV prevention, treatment or care. \n",
      "BREAK\n"
     ]
    },
    {
     "name": "stderr",
     "output_type": "stream",
     "text": [
      "Your min_length is set to 56, but you input_length is only 4. You might consider decreasing min_length manually, e.g. summarizer('...', min_length=10)\n",
      "Your max_length is set to 142, but you input_length is only 4. You might consider decreasing max_length manually, e.g. summarizer('...', max_length=50)\n"
     ]
    },
    {
     "name": "stdout",
     "output_type": "stream",
     "text": [
      "Eight services mentioned by MSM were visited in Ngaoundere including four public facilities, and four private clinics. Two of the six services reported specialized training for staff in dealing with MSM or FSW. All had undertaken HIV counseling and testing in the past month and one had undertaken specialized sessions (for MSM or FSW), five had provided ARV medication in last month and two reported ARV shortages in the last 12 months. Of the two top services listed, both reported providing ARV medication and one reported an ARV stock shortage in the past 12 months. Ngaoundere was one of the few cities visited with no specific community-based organization specializing in MSM or FSW interventions. Through this study, a satellite office of another MSM –specific CBO was created and registered in the city. Six services mentioned by FSW were visited in Ngaoundere including three public facilities and three private clinics. One of the six services reported specialized training for staff in dealing with MSM or FSW. All had undertaken HIV counseling and testing in the past month and one had undertaken specialized sessions (for MSM or FSW), five had provided ARV medication in last month and three reported ARV shortages in the last 12 months. The FSW population listed the same two top services as the MSM population in Ngaoundere, as well as one other public health center. This health center reported providing ARV medication and had had an ARV medication shortage in the past 12 months. In Ngaoundere, 4.2% FSW and 5.6% MSM reported seeking, knowing, or receiving no HIV prevention, care or treatment service. \n",
      "BREAK\n"
     ]
    },
    {
     "name": "stderr",
     "output_type": "stream",
     "text": [
      "Your min_length is set to 56, but you input_length is only 7. You might consider decreasing min_length manually, e.g. summarizer('...', min_length=10)\n",
      "Your max_length is set to 142, but you input_length is only 7. You might consider decreasing max_length manually, e.g. summarizer('...', max_length=50)\n"
     ]
    },
    {
     "name": "stdout",
     "output_type": "stream",
     "text": [
      "The diversity of results across cities for MSM highlights the needs for tailored services per city that account for the social and cultural dynamics across Cameroon. In cities where tailored service existed, higher levels of HIV status knowledge, discloser to health providers, and condom use among both male and female partners was reported. Health providers were cited as a source for HIV prevention information, as were peer-educators, mainly supported through PEPFAR HAPP program. Combining programs that integrate community-level interventions (CBOs, peer educators, counseling) with support and linkage to HIV care and treatment services (integrated into public or private health services, or stand-alone), will greatly alter the uptake of care and treatment services among MSM. \n",
      "BREAK\n"
     ]
    },
    {
     "name": "stderr",
     "output_type": "stream",
     "text": [
      "Your min_length is set to 56, but you input_length is only 10. You might consider decreasing min_length manually, e.g. summarizer('...', min_length=10)\n",
      "Your max_length is set to 142, but you input_length is only 10. You might consider decreasing max_length manually, e.g. summarizer('...', max_length=50)\n"
     ]
    },
    {
     "name": "stdout",
     "output_type": "stream",
     "text": [
      "A technical review was undertaken by the Cameroon National AIDS Control Committee Monitoring and Evaluation group during one of their regular meetings and comments and suggestions integrated and a letter supporting the study was obtained and copied to each region where the study was to be undertaken (0218/2013/L/MINSANTE/CAB/STBP/CNLS/GTC/SP/SPSE/mla du 8 fev 2013 – see Appendix 5). The study protocol, data collection tools and consent forms were reviewed and approved by the Comité National d'Ethique de la Recherché pour la Santé Humaine (2013/03/065/L/CNERSH/SP du 21 mars 2013) and the Johns Hopkins University Institutional Review Board (IRB no 00004257, 2 Jan 2013 and amended 18 April 2013). The Directorate of Operational Research at the Ministry of Public Health reviewed the protocol, provided comments which were integrated and provided administrative approval (Authorisation Administrative de Recherche No 631-05.13, correspondence No D30-405AAR/MINSANTE/SG/DROS/CRC/CEA1 du 23 mai 2013). The Comité National d'Ethique de la Recherché pour la Santé Humaine and the Ministry of Public Health approved the inclusion of participants aged 18-21 for the purpose of this protocol. As this age group was important for both populations in previous studies their inclusion was necessary to provide a better representation of the population at risk of HIV infection in Cameroon. The Regional Delegates of Public Health in each region where the project undertook activities provided a letter authorizing activities in those regions and requesting support from HIV service staff in the region to the study. \n",
      "BREAK\n"
     ]
    },
    {
     "name": "stderr",
     "output_type": "stream",
     "text": [
      "Your min_length is set to 56, but you input_length is only 4. You might consider decreasing min_length manually, e.g. summarizer('...', min_length=10)\n",
      "Your max_length is set to 142, but you input_length is only 4. You might consider decreasing max_length manually, e.g. summarizer('...', max_length=50)\n"
     ]
    },
    {
     "name": "stdout",
     "output_type": "stream",
     "text": [
      "33.1% of participants who had engaged in vaginal sex in the last month and 53.3% of those who had engaged in anal sex in the last month had consistently used male condoms. 65.6% of participants indicated they received condoms for free (40% reported receiving from peer educators, and 19.6% from drop in centers) and 69.9% reported purchasing condoms (58.3% from shops and 31.7% from pharmacies and only 5.5% from street sellers). Use of lubricant was reported by 83% of participants, though this varied from 69.4% in Ngaoundere, where no MSM CBO was operating up to 2013, to 94.8% in Douala where a number of well-established MSM CBOs operate. Of those who had used lubricants, 79.2% (1048/1324) indicated using some kind of commercial sexual lubricant (as opposed to using an alternative product not specifically designed to be used as a sexual lubricant such as body lotions, oils etc). This varied from 60.9% in Kribi to 95.5% in Bamenda. 38.2% of participants felt that lubricants were easy to find, however in the lowest levels were recorded in Bamenda with only 4.5% reported them easy to find. \n",
      "BREAK\n",
      "The collection of data available for triangulation showed a number of important gaps. The population estimates only existed for FSW and were only based on estimates made by key informants in each site. While a national prevalence estimate exists for FSW , for MSM estimates areonly available for Yaounde and Douala. The burden of HIV was established in all data available for triangulation, including peer reviewed literature dating back to the 1990s for FSW. This implies the heightened burden of disease among FSW is not novel, and comprehensive prevention and treatment services designed to address the intricate risks associated with the sale of sex, the social and community stigma and violence surrounding these practices, and the reproductive health needs of these women is imperative for appropriate prevention packages. The significantly heightened burden among MSM, also indicates prevention programs to date have neglected to address the needs of these populations, and best practices and models of service delivery for these men must be developed. \n",
      "BREAK\n"
     ]
    },
    {
     "name": "stderr",
     "output_type": "stream",
     "text": [
      "Your min_length is set to 56, but you input_length is only 9. You might consider decreasing min_length manually, e.g. summarizer('...', min_length=10)\n",
      "Your max_length is set to 142, but you input_length is only 9. You might consider decreasing max_length manually, e.g. summarizer('...', max_length=50)\n"
     ]
    },
    {
     "name": "stdout",
     "output_type": "stream",
     "text": [
      "ii \n",
      "BREAK\n"
     ]
    },
    {
     "name": "stderr",
     "output_type": "stream",
     "text": [
      "Your min_length is set to 56, but you input_length is only 9. You might consider decreasing min_length manually, e.g. summarizer('...', min_length=10)\n",
      "Your max_length is set to 142, but you input_length is only 9. You might consider decreasing max_length manually, e.g. summarizer('...', max_length=50)\n"
     ]
    },
    {
     "name": "stdout",
     "output_type": "stream",
     "text": [
      "We would like to thank the Cameroon Government and the National Institute of Statistics. Technical working group for this project consisted of: Dr. Serge Billong (CNLS), Raoul Fodjo (CNLS), Arlette Messeh (GTC-CNLS), Dr. Armand Nwetchsu (DROS), Viviane Fossouo (ONSP), Valentine Mondoleba/Nguemne Duplextine (CAMNAFAW), Laure Moukam (ACMS), Dr Steave Nemande/Alain Loyem (Evolve), Ondoa Ambo Hortence (Horizons Femmes), Isaac Macauley/Jean Christophel (CARE Cameroon), Dr. Flavien Ndonko (GIZ), Dr. Ekanmian Gatien (UNAIDS), Thomas Ologo Issekou (Affirmative Action), Eitel J. Ella Ella (CAMFAIDS), Franz Mananga/Joseline Mandeng (Alternatives), Jules Eloundou (Humanity First), Adonis Tchoudja (AIDS ACODEV), Souaibou Moussa/Alice Tchakote (INS), Ubald Tamoufe (GV), Matthew LeBreton (GV/Metabiota), Erin Papworth (JHU), Claire Holland (JHU), Aristide Kamla (GV). Key Field Investigative Team: Erin Papworth (JHU), Ubald Tamoufe (GV), Aristide Kamla (GV), Claire Holland (JHU). JHU R2P: Deanna Kerrigan, Caitlin Kennedy, Jessica Spielman, Roger McCallister JHU CPHHR: Ashley Grosso, Sosthenes Ketende, Andrea Wirtz, Ju Park, Antonio Lee, Travis Lim. Metabiota San Francisco team: Karen Saylors, Nancy Ortiz List of individuals assisting in field activities/coordination: Julienne Noo, Elisabeth Noulagheu, Didier Geovany, Rostand Vondab, Guy Fako, Adolphe Ngole, Serge Tchuente, Viviane Meguia, Alvine Moussinga, Beatrice Mbongu, Jeanne Mireille Magoum, Veronique Folack, Marlene Nnang, Jacques Bogla, Emmanuel Ny'Onguwa, Cedric Essola, Augustine Ngo Libot, Suzanne Ngo NGoma, Philippe Menkoue, Armel Fotsing, Nana Saidou, ,Peguy Gwatio, Julienne Yoke, Maigari Bangawa, Patrice Djataou, Jacqueline Ngo Kalga, Candas Tchante, Laure Diallo Tedgah, Eric Fopossi, Simeon Domeni, Yves Kamguem, Florence Kuimi, Florence Kenmegne, Fridolin Kenne, Patrick Waffo, Paul Lado, Fotso Ivan, Eric Lembembe, Alphonsine Banu, Yannick Ndomo, Florence Ngambele, Hortense Ondoa, Berthe Awoh. Local partners: MOTO ACTION, ACODEDUGN, ANDES, AJLC, ABMC, ACFILI, LADYS' CORPORATION and: HIV Prevention for Populations at Risk in Cameroon - final report (4 July 2013).1 \n",
      "BREAK\n"
     ]
    },
    {
     "name": "stderr",
     "output_type": "stream",
     "text": [
      "Your min_length is set to 56, but you input_length is only 9. You might consider decreasing min_length manually, e.g. summarizer('...', min_length=10)\n",
      "Your max_length is set to 142, but you input_length is only 9. You might consider decreasing max_length manually, e.g. summarizer('...', max_length=50)\n"
     ]
    },
    {
     "name": "stdout",
     "output_type": "stream",
     "text": [
      "This study does not permit national extrapolations outside of major cities, no rural sites were included in the study limiting our ability to understand key populations and access to services in those areas. However, as many of the individuals in those areas will likely be moving to larger cities to seek testing and treatment care the coverage in this report is probably representative of the services they are accessing. Additionally, as the majority of the target populations probably occur in urban centers a large proportion of the population was captured and assessed in this study. Multiple techniques were used for population estimation as each method has limitations and assumptions. For example, estimations by the unique object method are reduced by the closed nature of the communities and the limited methods of access. The objects distributed by CBOs were recuperated in part by working with the same CBOs in areas where they operate. This certainly reduces the population size estimates using this technique. Additionally, estimations by the network sum method without corrections lead to overestimations as the target population will likely know more members of the target population than the general population. HIV Prevention for Populations at Risk in Cameroon - final report (4 July 2013).17 \n",
      "BREAK\n"
     ]
    },
    {
     "name": "stderr",
     "output_type": "stream",
     "text": [
      "Your min_length is set to 56, but you input_length is only 9. You might consider decreasing min_length manually, e.g. summarizer('...', min_length=10)\n",
      "Your max_length is set to 142, but you input_length is only 9. You might consider decreasing max_length manually, e.g. summarizer('...', max_length=50)\n"
     ]
    },
    {
     "name": "stdout",
     "output_type": "stream",
     "text": [
      "HIV Prevention for Populations at Risk in Cameroon - final report (4 July 2013).23 \n",
      "BREAK\n"
     ]
    },
    {
     "name": "stderr",
     "output_type": "stream",
     "text": [
      "Your min_length is set to 56, but you input_length is only 9. You might consider decreasing min_length manually, e.g. summarizer('...', min_length=10)\n",
      "Your max_length is set to 142, but you input_length is only 9. You might consider decreasing max_length manually, e.g. summarizer('...', max_length=50)\n"
     ]
    },
    {
     "name": "stdout",
     "output_type": "stream",
     "text": [
      "HIV Prevention for Populations at Risk in Cameroon - final report (4 July 2013).25 \n",
      "BREAK\n"
     ]
    },
    {
     "name": "stderr",
     "output_type": "stream",
     "text": [
      "Your min_length is set to 56, but you input_length is only 4. You might consider decreasing min_length manually, e.g. summarizer('...', min_length=10)\n",
      "Your max_length is set to 142, but you input_length is only 4. You might consider decreasing max_length manually, e.g. summarizer('...', max_length=50)\n"
     ]
    },
    {
     "name": "stdout",
     "output_type": "stream",
     "text": [
      "HIV Prevention for Populations at Risk in Cameroon - final report (4 July 2013).27 \n",
      "BREAK\n",
      "The prevalence of rape among MSM was important with 27.3% indicating they had been forced to have sex on at least one occasion. This varied from 16.7% in Bertoua to 41.1% in Kribi (see Appendix 2, Table 2). Self-reported denial of health care services because of sexual orientation was 5.7% and 1.6% in Bertoua to 10.5% in Kribi. Bad treatment because of sexual orientation was reported by 8.3% of participants, varying from 2.0% in Bamenda to 17.5% in Bafoussam. Having been blackmailed was commonly reported by participants with 39.8% reporting across all sites and 68.0% reporting this in Bamenda. Bertoua had the lowest rate with 18.8% of individuals reporting having been blackmailed. Having been beaten or physically hurt was reported by 14.5% of participants with 4.4% reporting in Bertoua up to 27.5% in Bamenda. Self-reported levels of denial of police protection because of sexual orientation was 8.1% across all sites and varied from 0% in Bamenda to 15.1% in Yaounde and 15.3% in Kribi. Arrest\n",
      "BREAK\n",
      "finish!\n"
     ]
    }
   ],
   "source": [
    "datapath ='./upload_folder/'\n",
    "pdfnames = os.listdir(datapath)\n",
    "print(datapath+pdfnames[0])\n",
    "paragraphs = pdf_parse_functions.pdf_parser(datapath+pdfnames[0])\n",
    "paragraphs_with_key_words = pdf_parse_functions.get_paragraphs_with_key_words(paragraphs, (\"HIV\", \"STI\", \"sex\"))\n",
    "    \n",
    "lista = []\n",
    "summaries = []\n",
    "for i in range(0,len(paragraphs_with_key_words)):\n",
    "    lista.append(paragraphs_with_key_words[i]['heading'])\n",
    "    summaries.append(summa(paragraphs_with_key_words[i]['heading'])) #remove this for demo\n",
    "    print(paragraphs_with_key_words[i]['text'])\n",
    "    print(\"BREAK\")\n",
    "    #break # only to speed up\n",
    "print(\"finish!\")\n"
   ]
  },
  {
   "cell_type": "code",
   "execution_count": null,
   "id": "00f1bfd6",
   "metadata": {},
   "outputs": [],
   "source": [
    "##DATABASE AND OUT IT THERE"
   ]
  },
  {
   "cell_type": "code",
   "execution_count": 208,
   "id": "99a67514",
   "metadata": {},
   "outputs": [
    {
     "data": {
      "text/plain": [
       "['test', 'resumenes']"
      ]
     },
     "execution_count": 208,
     "metadata": {},
     "output_type": "execute_result"
    }
   ],
   "source": [
    "from pymongo import MongoClient\n",
    "client = MongoClient(\"mongodb://localhost:27017/\")\n",
    "mydatabase = client[\"resumenesDB\"]\n",
    "mydatabase.list_collection_names()"
   ]
  },
  {
   "cell_type": "code",
   "execution_count": 209,
   "id": "42d48ca9",
   "metadata": {},
   "outputs": [],
   "source": [
    "mycollection = mydatabase[\"test\"]"
   ]
  },
  {
   "cell_type": "code",
   "execution_count": 210,
   "id": "88241aae",
   "metadata": {},
   "outputs": [],
   "source": [
    "country = \"Cameroon\"\n"
   ]
  },
  {
   "cell_type": "code",
   "execution_count": 214,
   "id": "47d4c882",
   "metadata": {},
   "outputs": [],
   "source": [
    "import datetime\n",
    "for summary in summaries:\n",
    "    date = datetime.datetime.now()\n",
    "    mycollection.insert_one({\"country\": country, \"time\": date,  \"summary\": summary[0][\"summary_text\"]})\n",
    "    "
   ]
  },
  {
   "cell_type": "code",
   "execution_count": 181,
   "id": "00f33f03",
   "metadata": {},
   "outputs": [
    {
     "name": "stdout",
     "output_type": "stream",
     "text": [
      "[{'summary_text': ' FSW HIV prevalence by Region in Cameroon (Tamoufe and Medang 2009) HIV prevalence is highest in the country . HIV-related clinical services mentioned by FSW and visited by study staff in the Bafoussam area and the Douala area . HIV related clinical services and CBOs mentioned by . FSW staff in Douala, Bamenda, Ngaoundere, Yaounde and Bamenda areas .'}]\n"
     ]
    }
   ],
   "source": [
    "for record in summaries:\n",
    "    print(record)\n",
    "    test.insert_one(record)"
   ]
  },
  {
   "cell_type": "code",
   "execution_count": 188,
   "id": "0dd84dd2",
   "metadata": {},
   "outputs": [
    {
     "name": "stdout",
     "output_type": "stream",
     "text": [
      "1 a\n",
      "2 b\n",
      "4 c\n"
     ]
    }
   ],
   "source": [
    "for f, b in zip([1,2,4], ['a','b','c']):\n",
    "    print(f, b)"
   ]
  },
  {
   "cell_type": "code",
   "execution_count": 206,
   "id": "a82605a0",
   "metadata": {},
   "outputs": [
    {
     "data": {
      "text/plain": [
       "\" CNN.com will feature iReporter photos in a weekly Travel Snapshots gallery . Please submit your best shots for next week's gallery of snapshots of the world's top athletes . Visit CNN iReport.com/Travel next Friday for a new look at the top 10 things you know about .\""
      ]
     },
     "execution_count": 206,
     "metadata": {},
     "output_type": "execute_result"
    }
   ],
   "source": [
    "summaries[0][0][\"summary_text\"]"
   ]
  },
  {
   "cell_type": "code",
   "execution_count": null,
   "id": "de4ea72c",
   "metadata": {},
   "outputs": [],
   "source": []
  },
  {
   "cell_type": "code",
   "execution_count": null,
   "id": "0c969186",
   "metadata": {},
   "outputs": [],
   "source": []
  },
  {
   "cell_type": "code",
   "execution_count": 154,
   "id": "46975984",
   "metadata": {},
   "outputs": [
    {
     "data": {
      "text/plain": [
       "str"
      ]
     },
     "execution_count": 154,
     "metadata": {},
     "output_type": "execute_result"
    }
   ],
   "source": [
    "type(paragraphs_with_key_words[3]['text'])"
   ]
  },
  {
   "cell_type": "code",
   "execution_count": 11,
   "id": "c57f0f35",
   "metadata": {},
   "outputs": [
    {
     "name": "stderr",
     "output_type": "stream",
     "text": [
      "Your max_length is set to 142, but you input_length is only 128. You might consider decreasing max_length manually, e.g. summarizer('...', max_length=50)\n",
      "Your max_length is set to 142, but you input_length is only 137. You might consider decreasing max_length manually, e.g. summarizer('...', max_length=50)\n",
      "Your max_length is set to 142, but you input_length is only 138. You might consider decreasing max_length manually, e.g. summarizer('...', max_length=50)\n",
      "Your max_length is set to 142, but you input_length is only 54. You might consider decreasing max_length manually, e.g. summarizer('...', max_length=50)\n",
      "Your max_length is set to 142, but you input_length is only 76. You might consider decreasing max_length manually, e.g. summarizer('...', max_length=50)\n",
      "Your max_length is set to 142, but you input_length is only 94. You might consider decreasing max_length manually, e.g. summarizer('...', max_length=50)\n",
      "Your max_length is set to 142, but you input_length is only 63. You might consider decreasing max_length manually, e.g. summarizer('...', max_length=50)\n",
      "Your max_length is set to 142, but you input_length is only 135. You might consider decreasing max_length manually, e.g. summarizer('...', max_length=50)\n",
      "Your max_length is set to 142, but you input_length is only 62. You might consider decreasing max_length manually, e.g. summarizer('...', max_length=50)\n",
      "Your max_length is set to 142, but you input_length is only 50. You might consider decreasing max_length manually, e.g. summarizer('...', max_length=50)\n",
      "Your max_length is set to 142, but you input_length is only 67. You might consider decreasing max_length manually, e.g. summarizer('...', max_length=50)\n",
      "Your max_length is set to 142, but you input_length is only 52. You might consider decreasing max_length manually, e.g. summarizer('...', max_length=50)\n"
     ]
    }
   ],
   "source": [
    "# Loop to automatize this process\n",
    "lista = []\n",
    "summaries = []\n",
    "for i in range(0,len(paragraphs_with_key_words)):\n",
    "     lista.append(paragraphs_with_key_words[i]['text'])\n",
    "    \n",
    "     summaries.append(summa(paragraphs_with_key_words[i]['text']))\n"
   ]
  },
  {
   "cell_type": "markdown",
   "id": "442195d8",
   "metadata": {},
   "source": [
    "Sentiment analyses\n"
   ]
  },
  {
   "cell_type": "code",
   "execution_count": 15,
   "id": "308185d2",
   "metadata": {},
   "outputs": [],
   "source": [
    "import pymongo\n",
    "\n",
    "myclient = pymongo.MongoClient(\"mongodb://localhost:27017/\")\n",
    "\n",
    "mydb = myclient[\"SummariesDB\"]"
   ]
  },
  {
   "cell_type": "code",
   "execution_count": 16,
   "id": "b7dcf48a",
   "metadata": {},
   "outputs": [],
   "source": [
    "mycol = mydb[\"summaries\"]"
   ]
  },
  {
   "cell_type": "code",
   "execution_count": 29,
   "id": "162d5056",
   "metadata": {},
   "outputs": [],
   "source": [
    "#x = mycol.insert_many(summaries)\n",
    "for i in summaries:\n",
    "    x = mycol.insert_one(i[0])"
   ]
  },
  {
   "cell_type": "code",
   "execution_count": 219,
   "id": "f66dac15",
   "metadata": {},
   "outputs": [],
   "source": [
    "stuff = mycollection.find()"
   ]
  },
  {
   "cell_type": "code",
   "execution_count": 221,
   "id": "383e0cba",
   "metadata": {},
   "outputs": [],
   "source": [
    "summaries = []\n",
    "for i in stuff:\n",
    "    summaries.append(i)\n",
    "    "
   ]
  },
  {
   "cell_type": "code",
   "execution_count": 243,
   "id": "32077fcd",
   "metadata": {},
   "outputs": [
    {
     "name": "stdin",
     "output_type": "stream",
     "text": [
      "Please enter a number:  ö\n"
     ]
    },
    {
     "name": "stdout",
     "output_type": "stream",
     "text": [
      "Oops!  That was no valid number.  Try again...\n"
     ]
    },
    {
     "name": "stdin",
     "output_type": "stream",
     "text": [
      "Please enter a number:  2\n"
     ]
    }
   ],
   "source": [
    "while True:\n",
    "    try:\n",
    "        x = int(input(\"Please enter a number: \"))\n",
    "        break\n",
    "    except ValueError:\n",
    "        print(\"Oops!  That was no valid number.  Try again...\")"
   ]
  },
  {
   "cell_type": "code",
   "execution_count": 241,
   "id": "abc7928e",
   "metadata": {},
   "outputs": [
    {
     "ename": "IndexError",
     "evalue": "index out of range in self",
     "output_type": "error",
     "traceback": [
      "\u001b[0;31m---------------------------------------------------------------------------\u001b[0m",
      "\u001b[0;31mIndexError\u001b[0m                                Traceback (most recent call last)",
      "\u001b[0;32m<ipython-input-241-a7675a527d5d>\u001b[0m in \u001b[0;36m<module>\u001b[0;34m\u001b[0m\n\u001b[1;32m      1\u001b[0m \u001b[0msummaries\u001b[0m\u001b[0;34m[\u001b[0m\u001b[0;36m0\u001b[0m\u001b[0;34m]\u001b[0m\u001b[0;34m[\u001b[0m\u001b[0;34m'summary'\u001b[0m\u001b[0;34m]\u001b[0m\u001b[0;34m\u001b[0m\u001b[0;34m\u001b[0m\u001b[0m\n\u001b[0;32m----> 2\u001b[0;31m \u001b[0msentiment_analysis\u001b[0m\u001b[0;34m(\u001b[0m\u001b[0msummaries\u001b[0m\u001b[0;34m[\u001b[0m\u001b[0;36m25\u001b[0m\u001b[0;34m]\u001b[0m\u001b[0;34m[\u001b[0m\u001b[0;34m'summary'\u001b[0m\u001b[0;34m]\u001b[0m\u001b[0;34m)\u001b[0m\u001b[0;34m\u001b[0m\u001b[0;34m\u001b[0m\u001b[0m\n\u001b[0m",
      "\u001b[0;32m~/anaconda3/envs/sum/lib/python3.8/site-packages/transformers/pipelines/text_classification.py\u001b[0m in \u001b[0;36m__call__\u001b[0;34m(self, *args, **kwargs)\u001b[0m\n\u001b[1;32m     63\u001b[0m             \u001b[0mIf\u001b[0m\u001b[0;31m \u001b[0m\u001b[0;31m`\u001b[0m\u001b[0;31m`\u001b[0m\u001b[0mself\u001b[0m\u001b[0;34m.\u001b[0m\u001b[0mreturn_all_scores\u001b[0m\u001b[0;34m=\u001b[0m\u001b[0;32mTrue\u001b[0m\u001b[0;31m`\u001b[0m\u001b[0;31m`\u001b[0m\u001b[0;34m,\u001b[0m \u001b[0mone\u001b[0m \u001b[0msuch\u001b[0m \u001b[0mdictionary\u001b[0m \u001b[0;32mis\u001b[0m \u001b[0mreturned\u001b[0m \u001b[0mper\u001b[0m \u001b[0mlabel\u001b[0m\u001b[0;34m.\u001b[0m\u001b[0;34m\u001b[0m\u001b[0;34m\u001b[0m\u001b[0m\n\u001b[1;32m     64\u001b[0m         \"\"\"\n\u001b[0;32m---> 65\u001b[0;31m         \u001b[0moutputs\u001b[0m \u001b[0;34m=\u001b[0m \u001b[0msuper\u001b[0m\u001b[0;34m(\u001b[0m\u001b[0;34m)\u001b[0m\u001b[0;34m.\u001b[0m\u001b[0m__call__\u001b[0m\u001b[0;34m(\u001b[0m\u001b[0;34m*\u001b[0m\u001b[0margs\u001b[0m\u001b[0;34m,\u001b[0m \u001b[0;34m**\u001b[0m\u001b[0mkwargs\u001b[0m\u001b[0;34m)\u001b[0m\u001b[0;34m\u001b[0m\u001b[0;34m\u001b[0m\u001b[0m\n\u001b[0m\u001b[1;32m     66\u001b[0m \u001b[0;34m\u001b[0m\u001b[0m\n\u001b[1;32m     67\u001b[0m         \u001b[0;32mif\u001b[0m \u001b[0mself\u001b[0m\u001b[0;34m.\u001b[0m\u001b[0mmodel\u001b[0m\u001b[0;34m.\u001b[0m\u001b[0mconfig\u001b[0m\u001b[0;34m.\u001b[0m\u001b[0mnum_labels\u001b[0m \u001b[0;34m==\u001b[0m \u001b[0;36m1\u001b[0m\u001b[0;34m:\u001b[0m\u001b[0;34m\u001b[0m\u001b[0;34m\u001b[0m\u001b[0m\n",
      "\u001b[0;32m~/anaconda3/envs/sum/lib/python3.8/site-packages/transformers/pipelines/base.py\u001b[0m in \u001b[0;36m__call__\u001b[0;34m(self, *args, **kwargs)\u001b[0m\n\u001b[1;32m    655\u001b[0m     \u001b[0;32mdef\u001b[0m \u001b[0m__call__\u001b[0m\u001b[0;34m(\u001b[0m\u001b[0mself\u001b[0m\u001b[0;34m,\u001b[0m \u001b[0;34m*\u001b[0m\u001b[0margs\u001b[0m\u001b[0;34m,\u001b[0m \u001b[0;34m**\u001b[0m\u001b[0mkwargs\u001b[0m\u001b[0;34m)\u001b[0m\u001b[0;34m:\u001b[0m\u001b[0;34m\u001b[0m\u001b[0;34m\u001b[0m\u001b[0m\n\u001b[1;32m    656\u001b[0m         \u001b[0minputs\u001b[0m \u001b[0;34m=\u001b[0m \u001b[0mself\u001b[0m\u001b[0;34m.\u001b[0m\u001b[0m_parse_and_tokenize\u001b[0m\u001b[0;34m(\u001b[0m\u001b[0;34m*\u001b[0m\u001b[0margs\u001b[0m\u001b[0;34m,\u001b[0m \u001b[0;34m**\u001b[0m\u001b[0mkwargs\u001b[0m\u001b[0;34m)\u001b[0m\u001b[0;34m\u001b[0m\u001b[0;34m\u001b[0m\u001b[0m\n\u001b[0;32m--> 657\u001b[0;31m         \u001b[0;32mreturn\u001b[0m \u001b[0mself\u001b[0m\u001b[0;34m.\u001b[0m\u001b[0m_forward\u001b[0m\u001b[0;34m(\u001b[0m\u001b[0minputs\u001b[0m\u001b[0;34m)\u001b[0m\u001b[0;34m\u001b[0m\u001b[0;34m\u001b[0m\u001b[0m\n\u001b[0m\u001b[1;32m    658\u001b[0m \u001b[0;34m\u001b[0m\u001b[0m\n\u001b[1;32m    659\u001b[0m     \u001b[0;32mdef\u001b[0m \u001b[0m_forward\u001b[0m\u001b[0;34m(\u001b[0m\u001b[0mself\u001b[0m\u001b[0;34m,\u001b[0m \u001b[0minputs\u001b[0m\u001b[0;34m,\u001b[0m \u001b[0mreturn_tensors\u001b[0m\u001b[0;34m=\u001b[0m\u001b[0;32mFalse\u001b[0m\u001b[0;34m)\u001b[0m\u001b[0;34m:\u001b[0m\u001b[0;34m\u001b[0m\u001b[0;34m\u001b[0m\u001b[0m\n",
      "\u001b[0;32m~/anaconda3/envs/sum/lib/python3.8/site-packages/transformers/pipelines/base.py\u001b[0m in \u001b[0;36m_forward\u001b[0;34m(self, inputs, return_tensors)\u001b[0m\n\u001b[1;32m    676\u001b[0m                 \u001b[0;32mwith\u001b[0m \u001b[0mtorch\u001b[0m\u001b[0;34m.\u001b[0m\u001b[0mno_grad\u001b[0m\u001b[0;34m(\u001b[0m\u001b[0;34m)\u001b[0m\u001b[0;34m:\u001b[0m\u001b[0;34m\u001b[0m\u001b[0;34m\u001b[0m\u001b[0m\n\u001b[1;32m    677\u001b[0m                     \u001b[0minputs\u001b[0m \u001b[0;34m=\u001b[0m \u001b[0mself\u001b[0m\u001b[0;34m.\u001b[0m\u001b[0mensure_tensor_on_device\u001b[0m\u001b[0;34m(\u001b[0m\u001b[0;34m**\u001b[0m\u001b[0minputs\u001b[0m\u001b[0;34m)\u001b[0m\u001b[0;34m\u001b[0m\u001b[0;34m\u001b[0m\u001b[0m\n\u001b[0;32m--> 678\u001b[0;31m                     \u001b[0mpredictions\u001b[0m \u001b[0;34m=\u001b[0m \u001b[0mself\u001b[0m\u001b[0;34m.\u001b[0m\u001b[0mmodel\u001b[0m\u001b[0;34m(\u001b[0m\u001b[0;34m**\u001b[0m\u001b[0minputs\u001b[0m\u001b[0;34m)\u001b[0m\u001b[0;34m[\u001b[0m\u001b[0;36m0\u001b[0m\u001b[0;34m]\u001b[0m\u001b[0;34m.\u001b[0m\u001b[0mcpu\u001b[0m\u001b[0;34m(\u001b[0m\u001b[0;34m)\u001b[0m\u001b[0;34m\u001b[0m\u001b[0;34m\u001b[0m\u001b[0m\n\u001b[0m\u001b[1;32m    679\u001b[0m \u001b[0;34m\u001b[0m\u001b[0m\n\u001b[1;32m    680\u001b[0m         \u001b[0;32mif\u001b[0m \u001b[0mreturn_tensors\u001b[0m\u001b[0;34m:\u001b[0m\u001b[0;34m\u001b[0m\u001b[0;34m\u001b[0m\u001b[0m\n",
      "\u001b[0;32m~/anaconda3/envs/sum/lib/python3.8/site-packages/torch/nn/modules/module.py\u001b[0m in \u001b[0;36m_call_impl\u001b[0;34m(self, *input, **kwargs)\u001b[0m\n\u001b[1;32m    887\u001b[0m             \u001b[0mresult\u001b[0m \u001b[0;34m=\u001b[0m \u001b[0mself\u001b[0m\u001b[0;34m.\u001b[0m\u001b[0m_slow_forward\u001b[0m\u001b[0;34m(\u001b[0m\u001b[0;34m*\u001b[0m\u001b[0minput\u001b[0m\u001b[0;34m,\u001b[0m \u001b[0;34m**\u001b[0m\u001b[0mkwargs\u001b[0m\u001b[0;34m)\u001b[0m\u001b[0;34m\u001b[0m\u001b[0;34m\u001b[0m\u001b[0m\n\u001b[1;32m    888\u001b[0m         \u001b[0;32melse\u001b[0m\u001b[0;34m:\u001b[0m\u001b[0;34m\u001b[0m\u001b[0;34m\u001b[0m\u001b[0m\n\u001b[0;32m--> 889\u001b[0;31m             \u001b[0mresult\u001b[0m \u001b[0;34m=\u001b[0m \u001b[0mself\u001b[0m\u001b[0;34m.\u001b[0m\u001b[0mforward\u001b[0m\u001b[0;34m(\u001b[0m\u001b[0;34m*\u001b[0m\u001b[0minput\u001b[0m\u001b[0;34m,\u001b[0m \u001b[0;34m**\u001b[0m\u001b[0mkwargs\u001b[0m\u001b[0;34m)\u001b[0m\u001b[0;34m\u001b[0m\u001b[0;34m\u001b[0m\u001b[0m\n\u001b[0m\u001b[1;32m    890\u001b[0m         for hook in itertools.chain(\n\u001b[1;32m    891\u001b[0m                 \u001b[0m_global_forward_hooks\u001b[0m\u001b[0;34m.\u001b[0m\u001b[0mvalues\u001b[0m\u001b[0;34m(\u001b[0m\u001b[0;34m)\u001b[0m\u001b[0;34m,\u001b[0m\u001b[0;34m\u001b[0m\u001b[0;34m\u001b[0m\u001b[0m\n",
      "\u001b[0;32m~/anaconda3/envs/sum/lib/python3.8/site-packages/transformers/models/distilbert/modeling_distilbert.py\u001b[0m in \u001b[0;36mforward\u001b[0;34m(self, input_ids, attention_mask, head_mask, inputs_embeds, labels, output_attentions, output_hidden_states, return_dict)\u001b[0m\n\u001b[1;32m    614\u001b[0m         \u001b[0mreturn_dict\u001b[0m \u001b[0;34m=\u001b[0m \u001b[0mreturn_dict\u001b[0m \u001b[0;32mif\u001b[0m \u001b[0mreturn_dict\u001b[0m \u001b[0;32mis\u001b[0m \u001b[0;32mnot\u001b[0m \u001b[0;32mNone\u001b[0m \u001b[0;32melse\u001b[0m \u001b[0mself\u001b[0m\u001b[0;34m.\u001b[0m\u001b[0mconfig\u001b[0m\u001b[0;34m.\u001b[0m\u001b[0muse_return_dict\u001b[0m\u001b[0;34m\u001b[0m\u001b[0;34m\u001b[0m\u001b[0m\n\u001b[1;32m    615\u001b[0m \u001b[0;34m\u001b[0m\u001b[0m\n\u001b[0;32m--> 616\u001b[0;31m         distilbert_output = self.distilbert(\n\u001b[0m\u001b[1;32m    617\u001b[0m             \u001b[0minput_ids\u001b[0m\u001b[0;34m=\u001b[0m\u001b[0minput_ids\u001b[0m\u001b[0;34m,\u001b[0m\u001b[0;34m\u001b[0m\u001b[0;34m\u001b[0m\u001b[0m\n\u001b[1;32m    618\u001b[0m             \u001b[0mattention_mask\u001b[0m\u001b[0;34m=\u001b[0m\u001b[0mattention_mask\u001b[0m\u001b[0;34m,\u001b[0m\u001b[0;34m\u001b[0m\u001b[0;34m\u001b[0m\u001b[0m\n",
      "\u001b[0;32m~/anaconda3/envs/sum/lib/python3.8/site-packages/torch/nn/modules/module.py\u001b[0m in \u001b[0;36m_call_impl\u001b[0;34m(self, *input, **kwargs)\u001b[0m\n\u001b[1;32m    887\u001b[0m             \u001b[0mresult\u001b[0m \u001b[0;34m=\u001b[0m \u001b[0mself\u001b[0m\u001b[0;34m.\u001b[0m\u001b[0m_slow_forward\u001b[0m\u001b[0;34m(\u001b[0m\u001b[0;34m*\u001b[0m\u001b[0minput\u001b[0m\u001b[0;34m,\u001b[0m \u001b[0;34m**\u001b[0m\u001b[0mkwargs\u001b[0m\u001b[0;34m)\u001b[0m\u001b[0;34m\u001b[0m\u001b[0;34m\u001b[0m\u001b[0m\n\u001b[1;32m    888\u001b[0m         \u001b[0;32melse\u001b[0m\u001b[0;34m:\u001b[0m\u001b[0;34m\u001b[0m\u001b[0;34m\u001b[0m\u001b[0m\n\u001b[0;32m--> 889\u001b[0;31m             \u001b[0mresult\u001b[0m \u001b[0;34m=\u001b[0m \u001b[0mself\u001b[0m\u001b[0;34m.\u001b[0m\u001b[0mforward\u001b[0m\u001b[0;34m(\u001b[0m\u001b[0;34m*\u001b[0m\u001b[0minput\u001b[0m\u001b[0;34m,\u001b[0m \u001b[0;34m**\u001b[0m\u001b[0mkwargs\u001b[0m\u001b[0;34m)\u001b[0m\u001b[0;34m\u001b[0m\u001b[0;34m\u001b[0m\u001b[0m\n\u001b[0m\u001b[1;32m    890\u001b[0m         for hook in itertools.chain(\n\u001b[1;32m    891\u001b[0m                 \u001b[0m_global_forward_hooks\u001b[0m\u001b[0;34m.\u001b[0m\u001b[0mvalues\u001b[0m\u001b[0;34m(\u001b[0m\u001b[0;34m)\u001b[0m\u001b[0;34m,\u001b[0m\u001b[0;34m\u001b[0m\u001b[0;34m\u001b[0m\u001b[0m\n",
      "\u001b[0;32m~/anaconda3/envs/sum/lib/python3.8/site-packages/transformers/models/distilbert/modeling_distilbert.py\u001b[0m in \u001b[0;36mforward\u001b[0;34m(self, input_ids, attention_mask, head_mask, inputs_embeds, output_attentions, output_hidden_states, return_dict)\u001b[0m\n\u001b[1;32m    478\u001b[0m \u001b[0;34m\u001b[0m\u001b[0m\n\u001b[1;32m    479\u001b[0m         \u001b[0;32mif\u001b[0m \u001b[0minputs_embeds\u001b[0m \u001b[0;32mis\u001b[0m \u001b[0;32mNone\u001b[0m\u001b[0;34m:\u001b[0m\u001b[0;34m\u001b[0m\u001b[0;34m\u001b[0m\u001b[0m\n\u001b[0;32m--> 480\u001b[0;31m             \u001b[0minputs_embeds\u001b[0m \u001b[0;34m=\u001b[0m \u001b[0mself\u001b[0m\u001b[0;34m.\u001b[0m\u001b[0membeddings\u001b[0m\u001b[0;34m(\u001b[0m\u001b[0minput_ids\u001b[0m\u001b[0;34m)\u001b[0m  \u001b[0;31m# (bs, seq_length, dim)\u001b[0m\u001b[0;34m\u001b[0m\u001b[0;34m\u001b[0m\u001b[0m\n\u001b[0m\u001b[1;32m    481\u001b[0m         return self.transformer(\n\u001b[1;32m    482\u001b[0m             \u001b[0mx\u001b[0m\u001b[0;34m=\u001b[0m\u001b[0minputs_embeds\u001b[0m\u001b[0;34m,\u001b[0m\u001b[0;34m\u001b[0m\u001b[0;34m\u001b[0m\u001b[0m\n",
      "\u001b[0;32m~/anaconda3/envs/sum/lib/python3.8/site-packages/torch/nn/modules/module.py\u001b[0m in \u001b[0;36m_call_impl\u001b[0;34m(self, *input, **kwargs)\u001b[0m\n\u001b[1;32m    887\u001b[0m             \u001b[0mresult\u001b[0m \u001b[0;34m=\u001b[0m \u001b[0mself\u001b[0m\u001b[0;34m.\u001b[0m\u001b[0m_slow_forward\u001b[0m\u001b[0;34m(\u001b[0m\u001b[0;34m*\u001b[0m\u001b[0minput\u001b[0m\u001b[0;34m,\u001b[0m \u001b[0;34m**\u001b[0m\u001b[0mkwargs\u001b[0m\u001b[0;34m)\u001b[0m\u001b[0;34m\u001b[0m\u001b[0;34m\u001b[0m\u001b[0m\n\u001b[1;32m    888\u001b[0m         \u001b[0;32melse\u001b[0m\u001b[0;34m:\u001b[0m\u001b[0;34m\u001b[0m\u001b[0;34m\u001b[0m\u001b[0m\n\u001b[0;32m--> 889\u001b[0;31m             \u001b[0mresult\u001b[0m \u001b[0;34m=\u001b[0m \u001b[0mself\u001b[0m\u001b[0;34m.\u001b[0m\u001b[0mforward\u001b[0m\u001b[0;34m(\u001b[0m\u001b[0;34m*\u001b[0m\u001b[0minput\u001b[0m\u001b[0;34m,\u001b[0m \u001b[0;34m**\u001b[0m\u001b[0mkwargs\u001b[0m\u001b[0;34m)\u001b[0m\u001b[0;34m\u001b[0m\u001b[0;34m\u001b[0m\u001b[0m\n\u001b[0m\u001b[1;32m    890\u001b[0m         for hook in itertools.chain(\n\u001b[1;32m    891\u001b[0m                 \u001b[0m_global_forward_hooks\u001b[0m\u001b[0;34m.\u001b[0m\u001b[0mvalues\u001b[0m\u001b[0;34m(\u001b[0m\u001b[0;34m)\u001b[0m\u001b[0;34m,\u001b[0m\u001b[0;34m\u001b[0m\u001b[0;34m\u001b[0m\u001b[0m\n",
      "\u001b[0;32m~/anaconda3/envs/sum/lib/python3.8/site-packages/transformers/models/distilbert/modeling_distilbert.py\u001b[0m in \u001b[0;36mforward\u001b[0;34m(self, input_ids)\u001b[0m\n\u001b[1;32m    106\u001b[0m \u001b[0;34m\u001b[0m\u001b[0m\n\u001b[1;32m    107\u001b[0m         \u001b[0mword_embeddings\u001b[0m \u001b[0;34m=\u001b[0m \u001b[0mself\u001b[0m\u001b[0;34m.\u001b[0m\u001b[0mword_embeddings\u001b[0m\u001b[0;34m(\u001b[0m\u001b[0minput_ids\u001b[0m\u001b[0;34m)\u001b[0m  \u001b[0;31m# (bs, max_seq_length, dim)\u001b[0m\u001b[0;34m\u001b[0m\u001b[0;34m\u001b[0m\u001b[0m\n\u001b[0;32m--> 108\u001b[0;31m         \u001b[0mposition_embeddings\u001b[0m \u001b[0;34m=\u001b[0m \u001b[0mself\u001b[0m\u001b[0;34m.\u001b[0m\u001b[0mposition_embeddings\u001b[0m\u001b[0;34m(\u001b[0m\u001b[0mposition_ids\u001b[0m\u001b[0;34m)\u001b[0m  \u001b[0;31m# (bs, max_seq_length, dim)\u001b[0m\u001b[0;34m\u001b[0m\u001b[0;34m\u001b[0m\u001b[0m\n\u001b[0m\u001b[1;32m    109\u001b[0m \u001b[0;34m\u001b[0m\u001b[0m\n\u001b[1;32m    110\u001b[0m         \u001b[0membeddings\u001b[0m \u001b[0;34m=\u001b[0m \u001b[0mword_embeddings\u001b[0m \u001b[0;34m+\u001b[0m \u001b[0mposition_embeddings\u001b[0m  \u001b[0;31m# (bs, max_seq_length, dim)\u001b[0m\u001b[0;34m\u001b[0m\u001b[0;34m\u001b[0m\u001b[0m\n",
      "\u001b[0;32m~/anaconda3/envs/sum/lib/python3.8/site-packages/torch/nn/modules/module.py\u001b[0m in \u001b[0;36m_call_impl\u001b[0;34m(self, *input, **kwargs)\u001b[0m\n\u001b[1;32m    887\u001b[0m             \u001b[0mresult\u001b[0m \u001b[0;34m=\u001b[0m \u001b[0mself\u001b[0m\u001b[0;34m.\u001b[0m\u001b[0m_slow_forward\u001b[0m\u001b[0;34m(\u001b[0m\u001b[0;34m*\u001b[0m\u001b[0minput\u001b[0m\u001b[0;34m,\u001b[0m \u001b[0;34m**\u001b[0m\u001b[0mkwargs\u001b[0m\u001b[0;34m)\u001b[0m\u001b[0;34m\u001b[0m\u001b[0;34m\u001b[0m\u001b[0m\n\u001b[1;32m    888\u001b[0m         \u001b[0;32melse\u001b[0m\u001b[0;34m:\u001b[0m\u001b[0;34m\u001b[0m\u001b[0;34m\u001b[0m\u001b[0m\n\u001b[0;32m--> 889\u001b[0;31m             \u001b[0mresult\u001b[0m \u001b[0;34m=\u001b[0m \u001b[0mself\u001b[0m\u001b[0;34m.\u001b[0m\u001b[0mforward\u001b[0m\u001b[0;34m(\u001b[0m\u001b[0;34m*\u001b[0m\u001b[0minput\u001b[0m\u001b[0;34m,\u001b[0m \u001b[0;34m**\u001b[0m\u001b[0mkwargs\u001b[0m\u001b[0;34m)\u001b[0m\u001b[0;34m\u001b[0m\u001b[0;34m\u001b[0m\u001b[0m\n\u001b[0m\u001b[1;32m    890\u001b[0m         for hook in itertools.chain(\n\u001b[1;32m    891\u001b[0m                 \u001b[0m_global_forward_hooks\u001b[0m\u001b[0;34m.\u001b[0m\u001b[0mvalues\u001b[0m\u001b[0;34m(\u001b[0m\u001b[0;34m)\u001b[0m\u001b[0;34m,\u001b[0m\u001b[0;34m\u001b[0m\u001b[0;34m\u001b[0m\u001b[0m\n",
      "\u001b[0;32m~/anaconda3/envs/sum/lib/python3.8/site-packages/torch/nn/modules/sparse.py\u001b[0m in \u001b[0;36mforward\u001b[0;34m(self, input)\u001b[0m\n\u001b[1;32m    154\u001b[0m \u001b[0;34m\u001b[0m\u001b[0m\n\u001b[1;32m    155\u001b[0m     \u001b[0;32mdef\u001b[0m \u001b[0mforward\u001b[0m\u001b[0;34m(\u001b[0m\u001b[0mself\u001b[0m\u001b[0;34m,\u001b[0m \u001b[0minput\u001b[0m\u001b[0;34m:\u001b[0m \u001b[0mTensor\u001b[0m\u001b[0;34m)\u001b[0m \u001b[0;34m->\u001b[0m \u001b[0mTensor\u001b[0m\u001b[0;34m:\u001b[0m\u001b[0;34m\u001b[0m\u001b[0;34m\u001b[0m\u001b[0m\n\u001b[0;32m--> 156\u001b[0;31m         return F.embedding(\n\u001b[0m\u001b[1;32m    157\u001b[0m             \u001b[0minput\u001b[0m\u001b[0;34m,\u001b[0m \u001b[0mself\u001b[0m\u001b[0;34m.\u001b[0m\u001b[0mweight\u001b[0m\u001b[0;34m,\u001b[0m \u001b[0mself\u001b[0m\u001b[0;34m.\u001b[0m\u001b[0mpadding_idx\u001b[0m\u001b[0;34m,\u001b[0m \u001b[0mself\u001b[0m\u001b[0;34m.\u001b[0m\u001b[0mmax_norm\u001b[0m\u001b[0;34m,\u001b[0m\u001b[0;34m\u001b[0m\u001b[0;34m\u001b[0m\u001b[0m\n\u001b[1;32m    158\u001b[0m             self.norm_type, self.scale_grad_by_freq, self.sparse)\n",
      "\u001b[0;32m~/anaconda3/envs/sum/lib/python3.8/site-packages/torch/nn/functional.py\u001b[0m in \u001b[0;36membedding\u001b[0;34m(input, weight, padding_idx, max_norm, norm_type, scale_grad_by_freq, sparse)\u001b[0m\n\u001b[1;32m   1914\u001b[0m         \u001b[0;31m# remove once script supports set_grad_enabled\u001b[0m\u001b[0;34m\u001b[0m\u001b[0;34m\u001b[0m\u001b[0;34m\u001b[0m\u001b[0m\n\u001b[1;32m   1915\u001b[0m         \u001b[0m_no_grad_embedding_renorm_\u001b[0m\u001b[0;34m(\u001b[0m\u001b[0mweight\u001b[0m\u001b[0;34m,\u001b[0m \u001b[0minput\u001b[0m\u001b[0;34m,\u001b[0m \u001b[0mmax_norm\u001b[0m\u001b[0;34m,\u001b[0m \u001b[0mnorm_type\u001b[0m\u001b[0;34m)\u001b[0m\u001b[0;34m\u001b[0m\u001b[0;34m\u001b[0m\u001b[0m\n\u001b[0;32m-> 1916\u001b[0;31m     \u001b[0;32mreturn\u001b[0m \u001b[0mtorch\u001b[0m\u001b[0;34m.\u001b[0m\u001b[0membedding\u001b[0m\u001b[0;34m(\u001b[0m\u001b[0mweight\u001b[0m\u001b[0;34m,\u001b[0m \u001b[0minput\u001b[0m\u001b[0;34m,\u001b[0m \u001b[0mpadding_idx\u001b[0m\u001b[0;34m,\u001b[0m \u001b[0mscale_grad_by_freq\u001b[0m\u001b[0;34m,\u001b[0m \u001b[0msparse\u001b[0m\u001b[0;34m)\u001b[0m\u001b[0;34m\u001b[0m\u001b[0;34m\u001b[0m\u001b[0m\n\u001b[0m\u001b[1;32m   1917\u001b[0m \u001b[0;34m\u001b[0m\u001b[0m\n\u001b[1;32m   1918\u001b[0m \u001b[0;34m\u001b[0m\u001b[0m\n",
      "\u001b[0;31mIndexError\u001b[0m: index out of range in self"
     ]
    }
   ],
   "source": [
    "summaries[0]['summary']\n",
    "try:\n",
    "    sentiment_analysis(summaries[25]['summary'])\n",
    "except"
   ]
  },
  {
   "cell_type": "code",
   "execution_count": 245,
   "id": "7a474212",
   "metadata": {},
   "outputs": [
    {
     "name": "stdout",
     "output_type": "stream",
     "text": [
      "{'label': 'NEGATIVE', 'score': 0.9691808223724365}\n",
      "{'label': 'POSITIVE', 'score': 0.9980064034461975}\n",
      "{'label': 'POSITIVE', 'score': 0.945490300655365}\n",
      "{'label': 'POSITIVE', 'score': 0.9936396479606628}\n",
      "{'label': 'NEGATIVE', 'score': 0.9970672130584717}\n",
      "{'label': 'POSITIVE', 'score': 0.9894372224807739}\n",
      "{'label': 'NEGATIVE', 'score': 0.9980884790420532}\n",
      "{'label': 'POSITIVE', 'score': 0.9444937109947205}\n",
      "{'label': 'POSITIVE', 'score': 0.9577524065971375}\n",
      "{'label': 'POSITIVE', 'score': 0.9722762107849121}\n",
      "{'label': 'POSITIVE', 'score': 0.997793972492218}\n",
      "{'label': 'POSITIVE', 'score': 0.9577524065971375}\n",
      "{'label': 'POSITIVE', 'score': 0.9839016199111938}\n",
      "{'label': 'POSITIVE', 'score': 0.9956543445587158}\n",
      "{'label': 'NEGATIVE', 'score': 0.9710613489151001}\n",
      "{'label': 'POSITIVE', 'score': 0.9577524065971375}\n",
      "{'label': 'NEGATIVE', 'score': 0.9715346693992615}\n",
      "{'label': 'POSITIVE', 'score': 0.9928081035614014}\n",
      "{'label': 'POSITIVE', 'score': 0.9977829456329346}\n",
      "{'label': 'POSITIVE', 'score': 0.9996432065963745}\n",
      "{'label': 'POSITIVE', 'score': 0.9752596020698547}\n",
      "{'label': 'POSITIVE', 'score': 0.9977829456329346}\n",
      "{'label': 'POSITIVE', 'score': 0.9971877932548523}\n",
      "{'label': 'NEGATIVE', 'score': 0.9931485056877136}\n",
      "{'label': 'POSITIVE', 'score': 0.9633530378341675}\n",
      "{'label': 'NEGATIVE', 'score': 0.8939529061317444}\n",
      "{'label': 'NEGATIVE', 'score': 0.9988818764686584}\n",
      "{'label': 'NEGATIVE', 'score': 0.9592800736427307}\n",
      "{'label': 'NEGATIVE', 'score': 0.9592800736427307}\n",
      "{'label': 'NEGATIVE', 'score': 0.9592800736427307}\n",
      "{'label': 'POSITIVE', 'score': 0.9977829456329346}\n"
     ]
    }
   ],
   "source": [
    "label = []\n",
    "score = []\n",
    "\n",
    "j =0\n",
    "for i in summaries:\n",
    "    try:\n",
    "        result = sentiment_analysis((i['summary']))[0]\n",
    "        #print(j)\n",
    "        print(result)\n",
    "        label.append(result['label'])\n",
    "        score.append(result['score']) \n",
    "    except:\n",
    "        pass\n",
    "    j += 1"
   ]
  },
  {
   "cell_type": "code",
   "execution_count": 51,
   "id": "2b4faf04",
   "metadata": {},
   "outputs": [
    {
     "data": {
      "text/plain": [
       "{'label': 'NEGATIVE', 'score': 0.9944685101509094}"
      ]
     },
     "execution_count": 51,
     "metadata": {},
     "output_type": "execute_result"
    }
   ],
   "source": [
    "result"
   ]
  },
  {
   "cell_type": "code",
   "execution_count": 246,
   "id": "9b94c2ff",
   "metadata": {},
   "outputs": [],
   "source": [
    "def plot(summaries):\n",
    "    label = []\n",
    "    score = []\n",
    "    for i in summaries:\n",
    "        try:\n",
    "            result = sentiment_analysis((i['summary']))[0]\n",
    "            #print(j)\n",
    "            #print(result)\n",
    "            label.append(result['label'])\n",
    "            score.append(result['score']) \n",
    "        except:\n",
    "            pass  \n",
    "    \n",
    "    data_tuples = list(zip(label, score))\n",
    "    df = pd.DataFrame(data_tuples, columns=['label','score'])\n",
    "\n",
    "    posit = df[df[\"label\"] == \"POSITIVE\"]\n",
    "    negat = df[df[\"label\"] == \"NEGATIVE\"]\n",
    "    means = [posit['score'].mean(), negat['score'].mean() ]\n",
    "    labe = [\"POSITIVE\", \"NEGATIVE\"]\n",
    "\n",
    "    fig = plt.figure()\n",
    "\n",
    "\n",
    "    ax = fig.add_axes([0,0,1,1])\n",
    "    ax.set_ylim([0,1])\n",
    "    ax.bar(labe, means)\n",
    "    ax.set_xlabel(\"sentiment\")\n",
    "    ax.set_title(\"Article 2\")\n",
    "    ax.set_ylabel(\"Mean score Latin America\")\n",
    "    plt.show()"
   ]
  },
  {
   "cell_type": "code",
   "execution_count": 247,
   "id": "7e4dd8a6",
   "metadata": {},
   "outputs": [
    {
     "name": "stdout",
     "output_type": "stream",
     "text": [
      "{'label': 'NEGATIVE', 'score': 0.9691808223724365}\n",
      "{'label': 'POSITIVE', 'score': 0.9980064034461975}\n",
      "{'label': 'POSITIVE', 'score': 0.945490300655365}\n",
      "{'label': 'POSITIVE', 'score': 0.9936396479606628}\n",
      "{'label': 'NEGATIVE', 'score': 0.9970672130584717}\n",
      "{'label': 'POSITIVE', 'score': 0.9894372224807739}\n",
      "{'label': 'NEGATIVE', 'score': 0.9980884790420532}\n",
      "{'label': 'POSITIVE', 'score': 0.9444937109947205}\n",
      "{'label': 'POSITIVE', 'score': 0.9577524065971375}\n",
      "{'label': 'POSITIVE', 'score': 0.9722762107849121}\n",
      "{'label': 'POSITIVE', 'score': 0.997793972492218}\n",
      "{'label': 'POSITIVE', 'score': 0.9577524065971375}\n",
      "{'label': 'POSITIVE', 'score': 0.9839016199111938}\n",
      "{'label': 'POSITIVE', 'score': 0.9956543445587158}\n",
      "{'label': 'NEGATIVE', 'score': 0.9710613489151001}\n",
      "{'label': 'POSITIVE', 'score': 0.9577524065971375}\n",
      "{'label': 'NEGATIVE', 'score': 0.9715346693992615}\n",
      "{'label': 'POSITIVE', 'score': 0.9928081035614014}\n",
      "{'label': 'POSITIVE', 'score': 0.9977829456329346}\n",
      "{'label': 'POSITIVE', 'score': 0.9996432065963745}\n",
      "{'label': 'POSITIVE', 'score': 0.9752596020698547}\n",
      "{'label': 'POSITIVE', 'score': 0.9977829456329346}\n",
      "{'label': 'POSITIVE', 'score': 0.9971877932548523}\n",
      "{'label': 'NEGATIVE', 'score': 0.9931485056877136}\n",
      "{'label': 'POSITIVE', 'score': 0.9633530378341675}\n",
      "{'label': 'NEGATIVE', 'score': 0.8939529061317444}\n",
      "{'label': 'NEGATIVE', 'score': 0.9988818764686584}\n",
      "{'label': 'NEGATIVE', 'score': 0.9592800736427307}\n",
      "{'label': 'NEGATIVE', 'score': 0.9592800736427307}\n",
      "{'label': 'NEGATIVE', 'score': 0.9592800736427307}\n",
      "{'label': 'POSITIVE', 'score': 0.9977829456329346}\n"
     ]
    },
    {
     "data": {
      "image/png": "[encoded data removed]",
      "text/plain": [
       "<Figure size 432x288 with 1 Axes>"
      ]
     },
     "metadata": {
      "needs_background": "light"
     },
     "output_type": "display_data"
    }
   ],
   "source": [
    "plot(summaries)"
   ]
  },
  {
   "cell_type": "markdown",
   "id": "8278115d",
   "metadata": {},
   "source": [
    "# MongoDB"
   ]
  },
  {
   "cell_type": "code",
   "execution_count": 22,
   "id": "f369cabd",
   "metadata": {},
   "outputs": [],
   "source": [
    "country = \"colombia\""
   ]
  },
  {
   "cell_type": "code",
   "execution_count": 44,
   "id": "4e1e16b6",
   "metadata": {},
   "outputs": [],
   "source": [
    "# importing module\n",
    "from pymongo import MongoClient\n",
    "  \n",
    "# creation of MongoClient\n",
    "client=MongoClient()\n",
    "  \n",
    "# Connect with the portnumber and host\n",
    "client = MongoClient(\"mongodb://localhost:27017/\")\n",
    "  \n",
    "# Access database\n",
    "mydatabase = client[\"UNAIDS_db\"]\n",
    "  \n",
    "# Access collection of the database\n",
    "mycollection = mydatabase[\"summaryTable\"]\n",
    " "
   ]
  },
  {
   "cell_type": "code",
   "execution_count": 54,
   "id": "31308b38",
   "metadata": {},
   "outputs": [],
   "source": [
    "for para in paragraphs_with_key_words:\n",
    "    mydatabase.summaryTable.insert_one(para)"
   ]
  },
  {
   "cell_type": "code",
   "execution_count": 55,
   "id": "3dbb607c",
   "metadata": {},
   "outputs": [
    {
     "name": "stdout",
     "output_type": "stream",
     "text": [
      "{'_id': ObjectId('6093c92a2799b9616a6f8a11'), 'heading': '6. Conclusions ', 'text': 'The costing of HIV interventions in this study is based on 2016 HIV guidelines and considers two scenarios: NASCOP and Standard. The NASCOP scenario was based on national HIV programme targets towards achievement of 90-90-90, and the Standard scenario was based on the assumption that the guidelines would be fully implemented as spelt out in the 2016 ART guidelines. In the NASCOP scenario, the population base is assumed to be constant for the four-year costing projections, while the Standard scenario adjusts its population in need to consider incidence, mortality, and population growth rates. However, both scenarios considered two key assumptions: the gains obtained from the reduction in HIV mortality and the reduction in HIV incidence rates. Findings have shown that the average annual cost of putting a patient on ARVs is Ksh 12,032.36 (US$115.7). The Standard scenario costs more than the NASCOP scenario, although differences vary across programme areas. The key biomedical cost drivers in both scenarios were ARTs and laboratory management. Although non-biomedical interventions seemed to be a cost driver, these cost estimates were derived as a proportion of the total cost based on the report of a cost study of HIV treatment conducted in 2013 (U.S. Centers for Diseases Control and Kenya Ministry of Health, (2013), which had an in-depth micro-costing of both medical and non-medical HIV programme interventions. In conclusion, there is an expected escalation in future costs with the implementation of the new 2016 ART guidelines. This is due to inclusion of more people living with HIV in care and treatment programmes, and further enhanced by a reduction in HIV-related mortality. The inclusion of PrEP and PEP as prevention measures might have a significant impact on reducing the HIV incidence rate. This will, however, come with a considerable increase in the resources needed to fund interventions. Therefore, the key policy interventions introduced in the new guidelines center on prevention and acceleration of treatment aimed at reducing HIV incidence rates and related mortalities. This calls for resources to cover an increased number of people targeted for care and treatment programmes. A lowered mortality rate achieved through an ART programme implies increased HIV costs, as the number of people living with HIV who require HIV care will also increase. Kenya must explore channels for financing its increased need for HIV care and treatment. These could include coverage of HIV services in health insurance benefits packages (social or private health insurance), increased domestic resource mobilisation (including allocations from national and county governments), and engaging the private sector to play a bigger role in HIV financing. 20', 'key_words_info': {'key_words': ['HIV', 'sex'], 'counts': [17, 0]}, 'importance': 17, 'country': 'kenya'}\n",
      "{'_id': ObjectId('6093c92a2799b9616a6f8a12'), 'heading': 'Executive Summary ', 'text': 'In 2016, the Ministry of Health (MOH) updated Kenya’s national HIV guidelines to provide guidance on the use of antiretrovirals (ARVs) to treat and prevent HIV infection. To inform implementation and resource mobilisation, the MOH needed to understand the costing implications of implementing the new guidelines. This created the need for a study to estimate the costs of implementing the new guidelines, based on the country targets and covering all known people living with HIV in Kenya. This study adopted a micro-costing approach using population data from 2015 HIV revised estimates. The study considered two costing scenarios—the “NASCOP scenario,” based on NASCOP (National AIDS/STI Control Programme) targets to achieve the UNAIDS 90-90-90 targets; and the “Standard scenario,” based on full adoption of the new guidelines. The results show that the average annual unit cost of an adult on ARVs is Ksh 12,032.36 (US$115.7). The unit cost varies by regimen type, with the unit cost of an adults first-line regimen being Ksh 9,501.44 (US$91.4) per year, compared to Ksh 26,499.20 (US$254.8) for second-line. The annual unit cost of pediatric ARVs was estimated at Ksh 17,800.64 (US$171.2) per patient. As shown in Table E1, implementation of the new antiretroviral therapy (ART) guidelines under the Standard scenario will cost about 20 percent more than under the NASCOP scenario. The estimated cost of implementingthe new guidelines under the NASCOP and Standard scenarios in the next four years (FY2016/17–2019/20) is Ksh 197.8 billion (US$1.9 billion) and Ksh 239.2 billion (US$2.3 billion), respectively. The higher costs under the Standard scenario can explained by the higher number of people living with HIV expected to be initiated on treatment. In both scenarios, key commodities (ARVs, laboratory management, and test kits) are the main cost drivers, accounting for 61 percent of the total cost (seeTable E1). ', 'key_words_info': {'key_words': ['HIV', 'sex'], 'counts': [5, 0]}, 'importance': 5, 'country': 'kenya'}\n",
      "{'_id': ObjectId('6093c92a2799b9616a6f8a13'), 'heading': '5.7 HIV testing services for the general population   ', 'text': 'Under the NASCOP scenario, HIV testing services cost approximately Ksh 1 billion (US$10 million) in 2016/17 (see Figure 13). The total cost drops over the two subsequent periods and then increases slightly in the last period. Key cost drivers for HIV testing services are the HIV rapid kits, at a cost of approximately Ksh 936 million (US$9 million), and blood collection bags. The reason for the low estimated costs for confirmatory tests is that the test is only administered to people who have tested positive from the HIV rapid kits—this is expected to be a small proportion of the total population under testing. ', 'key_words_info': {'key_words': ['HIV', 'sex'], 'counts': [5, 0]}, 'importance': 5, 'country': 'kenya'}\n",
      "{'_id': ObjectId('6093c92a2799b9616a6f8a14'), 'heading': 'List of Figures ', 'text': 'Figure E1: Relative Costs for NCD Screening, by Disease (FY2016/17–2019/20) .......... ix Figure 1: Linkages between Key Programmatic Areas and Costing Framework for 2016 HIV Guidelines ................................................................................................... 6 Figure 2: Trend in the Costs of HIV 2016 Guideline Implementation ........................... 10 Figure 3: Costs of Routine Adult and Pediatric ARVs under NASCOP Scenario............ 10 Figure 4: Trend in Costs of Providing ARVs for Care and Treatment ............................. 11 Figure 5: Laboratory Management: Adults versus Pediatrics, NASCOP Scenario .......... 11 Figure 6: Costs of Laboratory Management between NASCOP and Standard Scenarios ......................................................................................................... 12 Figure 7: Costs of Viral Load Test ................................................................................... 12 Figure 8: Cost for PEP, NASCOP and Standard Scenarios ............................................. 13 Figure 9: PMTCT, NASCOP Scenario ............................................................................. 13 Figure 10: PMTCT Costs, NASCOP versus Standard Scenarios ..................................... 14 Figure 11: PrEP, NASCOP Scenario ................................................................................ 14 Figure 12: PrEP, NASCOP versus Standard Scenarios ................................................... 15 Figure 13: HIV Testing Services Cost Estimates, NASCOP Scenario.............................. 15 Figure 14: HIV Testing Services Cost Estimates, NASCOP versus Standard Scenarios ......................................................................................................... 16 Figure 15: Screening NCD and Co-morbidities, NASCOP Scenario ............................... 16 Figure 16: Screening for NCDs and Co-morbidities, NASCOP versus Standard Scenarios ......................................................................................................... 17 Figure 17: Medicines for Opportunistic Diseases, NASCOP Scenario ............................ 17 Figure 18: Medicines for Opportunistic Diseases, NASCOP versus Standard Scenarios ......................................................................................................... 18 v ', 'key_words_info': {'key_words': ['HIV', 'sex'], 'counts': [4, 0]}, 'importance': 4, 'country': 'kenya'}\n",
      "{'_id': ObjectId('6093c92a2799b9616a6f8a15'), 'heading': '5.5 Prevention of mother-to-child transmission ', 'text': 'Figure 9 shows the estimated cost of PMTCT using the NASCOP scenario. The PMTCT costs incorporate three estimated cost components: rapid HIV testing for pregnant mothers, early infant diagnosis (or infant PCR test), and prophylaxis (the primary cost driver). HIV rapid testing for pregnant mothers, which includes blood collection bags and testing kits, is the second-greatest cost driver. The proportion of pregnant and breastfeeding women living with HIV remains constant over the four-year period, in line with the targets set by the national HIV programme. ', 'key_words_info': {'key_words': ['HIV', 'sex'], 'counts': [4, 0]}, 'importance': 4, 'country': 'kenya'}\n",
      "{'_id': ObjectId('6093c92a2799b9616a6f8a16'), 'heading': '2.Summary of the 2016 HIV Guidelines on the Use of Antiretroviral Drugs for Treating and Preventing HIV Infection in Kenya ', 'text': 'This section summarises key programme areas covered in the 2016 HIV guidelines. (For a detailed description, see MOH and NASCOP, 2016). ', 'key_words_info': {'key_words': ['HIV', 'sex'], 'counts': [3, 0]}, 'importance': 3, 'country': 'kenya'}\n",
      "{'_id': ObjectId('6093c92a2799b9616a6f8a17'), 'heading': '5.9 Medicines for opportunistic diseases ', 'text': 'Figure 17 shows that the estimated cost of medicines for opportunistic diseases is projected to increase over time. This is consistent with the target of getting more people living with HIV into care over the projected period, as Kenya moves towards achieving the 90-90-90 targets under the test-and-treat policy. The new guidelines emphasise the need to put people living with HIV on medicines for opportunistic diseases to reduce their mortality rate. A lower mortality rate is expected to bring additional costs as demand for medicines for opportunistic diseases increases. The key driver of this programme cost is the cost for adults, which is not surprising as adults account for the bulk of people living with HIV. ', 'key_words_info': {'key_words': ['HIV', 'sex'], 'counts': [3, 0]}, 'importance': 3, 'country': 'kenya'}\n",
      "{'_id': ObjectId('6093c92a2799b9616a6f8a18'), 'heading': '5.6 Pre-exposure prophylaxis ', 'text': 'Figure 11 shows the cost of providing PrEP under the NASCOP scenario. This cost will increase to more than double current levels in the next four years as a result of increases in HIV-negative key populations under this prevention programme. The key cost driver under this programme is the regimen cost (the cost of ARVs), which increases over the entire period. However, the cost of HIV testing is also significant due to the numerous tests expected under this prevention programme.', 'key_words_info': {'key_words': ['HIV', 'sex'], 'counts': [2, 0]}, 'importance': 2, 'country': 'kenya'}\n",
      "{'_id': ObjectId('6093c92a2799b9616a6f8a19'), 'heading': '5.8 NCDs and other co-morbidity ', 'text': 'The 2016 ART guidelines recommend screening among people living with HIV for key NCDs and co-morbidities, including cancer, high blood pressure, hepatitis B and C, diabetes, and liver functions. Figure 15 shows the estimated cost of screening for these NCDs and co-morbidities under the NASCOP scenario. Screening for cervical cancer, diabetes, and cholesterol are the main cost drivers for this new programme area. The estimates show rising costs in line with an increased incidence rate of NCDs and co-morbidities over the time periods, given that the NASCOP scenario expects to put more people living with HIV on treatment in the future and that the incidence rate is positive over the entire period. ', 'key_words_info': {'key_words': ['HIV', 'sex'], 'counts': [2, 0]}, 'importance': 2, 'country': 'kenya'}\n",
      "{'_id': ObjectId('6093c92a2799b9616a6f8a1a'), 'heading': '1.1 Context  ', 'text': 'HIV and AIDS remain a major public health problem in Kenya. Therefore, there is continued need for guidance from the Ministry of Health (MOH) and other key stakeholders on how to manage current and new infections. According to the ', 'key_words_info': {'key_words': ['HIV', 'sex'], 'counts': [1, 0]}, 'importance': 1, 'country': 'kenya'}\n",
      "{'_id': ObjectId('6093c92a2799b9616a6f8a1b'), 'heading': '1.2 Study Objectives ', 'text': 'The costing exercise addresses two questions: a)What is the cost of implementing the 2016 ART guidelines based on the country targets? b)What is the total cost of implementing the 2016 ART guidelines to cover 100 percent of known people living with HIV? ', 'key_words_info': {'key_words': ['HIV', 'sex'], 'counts': [1, 0]}, 'importance': 1, 'country': 'kenya'}\n",
      "{'_id': ObjectId('6093c92a2799b9616a6f8a1c'), 'heading': '5. Costing Results ', 'text': 'This section presents the estimated cost of HIV treatment and prevention, based on the revised 2016 guidelines. The data shows the aggregated cost estimated for the NASCOP and Standard scenarios. This is followed by a disaggregation of these costs by programme area, and compared across two scenarios to provide some insight on what the guideline implementation would cost in the next four years. ', 'key_words_info': {'key_words': ['HIV', 'sex'], 'counts': [1, 0]}, 'importance': 1, 'country': 'kenya'}\n",
      "{'_id': ObjectId('6093c92a2799b9616a6f8a1d'), 'heading': '5.1 Estimated HIV programme costs between NASCOP and Standard scenarios ', 'text': 'The results presented in Table 1 show that the average unit cost of putting a patient on ARVs per year is Ksh 12,032.4 (US$115.7). The unit cost varies by regimen type, with the unit cost of an adult first-line ARV regimen at Ksh 9,501.44 (US$91.4) and second-line at Ksh 26,499.20 (US$254.8) per year. On the other hand, the annual unit cost of pediatric ARVs is 17,800.64 (US$171.2) per patient. ', 'key_words_info': {'key_words': ['HIV', 'sex'], 'counts': [1, 0]}, 'importance': 1, 'country': 'kenya'}\n",
      "{'_id': ObjectId('6093c92a2799b9616a6f8a1e'), 'heading': '5.4 Cost of post-exposure prophylaxis ', 'text': 'The costs of providing PEP under the NASCOP and Standard scenarios were equal at Ksh 555.7 million (US$5.3 million), structured as shown in Figure 8. The lack of variation between the two scenarios is explained by an assumption that an equal population will require PEP in both cases, because PEP population estimates were based on programme data and are the same in both scenarios. It is also assumed that ARVs for PEP are included under general adult ARV cost estimates. Therefore, the main cost elements were identified as additional HIV testing and kidney tests needed for the PEP programme due to use of a TDF regimen. 13 ', 'key_words_info': {'key_words': ['HIV', 'sex'], 'counts': [1, 0]}, 'importance': 1, 'country': 'kenya'}\n",
      "{'_id': ObjectId('6093c92a2799b9616a6f8a1f'), 'heading': '7.Study Limitations ', 'text': '1.The only data available on mortality rates for people living with HIV comes from the mortuary survey. This study is not representative of the current nationwide attrition rate, as it is based on Nairobi County data. A mortuary survey should be administered nationwide to create a countrywide database for attrition rate. 2.The costing model has not incorporated a six-month buffer stock, as this was not in the scope of the study. The model, however, can be customised to capture the buffer stock when used for commodity quantification for processes such as the Global Fund application. 3.The estimates for non-medical costs were based on the ', 'key_words_info': {'key_words': ['HIV', 'sex'], 'counts': [1, 0]}, 'importance': 1, 'country': 'kenya'}\n",
      "{'_id': ObjectId('6093c9f92799b9616a6f8a20'), 'heading': '6. Conclusions ', 'text': 'The costing of HIV interventions in this study is based on 2016 HIV guidelines and considers two scenarios: NASCOP and Standard. The NASCOP scenario was based on national HIV programme targets towards achievement of 90-90-90, and the Standard scenario was based on the assumption that the guidelines would be fully implemented as spelt out in the 2016 ART guidelines. In the NASCOP scenario, the population base is assumed to be constant for the four-year costing projections, while the Standard scenario adjusts its population in need to consider incidence, mortality, and population growth rates. However, both scenarios considered two key assumptions: the gains obtained from the reduction in HIV mortality and the reduction in HIV incidence rates. Findings have shown that the average annual cost of putting a patient on ARVs is Ksh 12,032.36 (US$115.7). The Standard scenario costs more than the NASCOP scenario, although differences vary across programme areas. The key biomedical cost drivers in both scenarios were ARTs and laboratory management. Although non-biomedical interventions seemed to be a cost driver, these cost estimates were derived as a proportion of the total cost based on the report of a cost study of HIV treatment conducted in 2013 (U.S. Centers for Diseases Control and Kenya Ministry of Health, (2013), which had an in-depth micro-costing of both medical and non-medical HIV programme interventions. In conclusion, there is an expected escalation in future costs with the implementation of the new 2016 ART guidelines. This is due to inclusion of more people living with HIV in care and treatment programmes, and further enhanced by a reduction in HIV-related mortality. The inclusion of PrEP and PEP as prevention measures might have a significant impact on reducing the HIV incidence rate. This will, however, come with a considerable increase in the resources needed to fund interventions. Therefore, the key policy interventions introduced in the new guidelines center on prevention and acceleration of treatment aimed at reducing HIV incidence rates and related mortalities. This calls for resources to cover an increased number of people targeted for care and treatment programmes. A lowered mortality rate achieved through an ART programme implies increased HIV costs, as the number of people living with HIV who require HIV care will also increase. Kenya must explore channels for financing its increased need for HIV care and treatment. These could include coverage of HIV services in health insurance benefits packages (social or private health insurance), increased domestic resource mobilisation (including allocations from national and county governments), and engaging the private sector to play a bigger role in HIV financing. 20', 'key_words_info': {'key_words': ['HIV', 'sex'], 'counts': [17, 0]}, 'importance': 17}\n",
      "{'_id': ObjectId('6093c9f92799b9616a6f8a21'), 'heading': 'Executive Summary ', 'text': 'In 2016, the Ministry of Health (MOH) updated Kenya’s national HIV guidelines to provide guidance on the use of antiretrovirals (ARVs) to treat and prevent HIV infection. To inform implementation and resource mobilisation, the MOH needed to understand the costing implications of implementing the new guidelines. This created the need for a study to estimate the costs of implementing the new guidelines, based on the country targets and covering all known people living with HIV in Kenya. This study adopted a micro-costing approach using population data from 2015 HIV revised estimates. The study considered two costing scenarios—the “NASCOP scenario,” based on NASCOP (National AIDS/STI Control Programme) targets to achieve the UNAIDS 90-90-90 targets; and the “Standard scenario,” based on full adoption of the new guidelines. The results show that the average annual unit cost of an adult on ARVs is Ksh 12,032.36 (US$115.7). The unit cost varies by regimen type, with the unit cost of an adults first-line regimen being Ksh 9,501.44 (US$91.4) per year, compared to Ksh 26,499.20 (US$254.8) for second-line. The annual unit cost of pediatric ARVs was estimated at Ksh 17,800.64 (US$171.2) per patient. As shown in Table E1, implementation of the new antiretroviral therapy (ART) guidelines under the Standard scenario will cost about 20 percent more than under the NASCOP scenario. The estimated cost of implementingthe new guidelines under the NASCOP and Standard scenarios in the next four years (FY2016/17–2019/20) is Ksh 197.8 billion (US$1.9 billion) and Ksh 239.2 billion (US$2.3 billion), respectively. The higher costs under the Standard scenario can explained by the higher number of people living with HIV expected to be initiated on treatment. In both scenarios, key commodities (ARVs, laboratory management, and test kits) are the main cost drivers, accounting for 61 percent of the total cost (seeTable E1). ', 'key_words_info': {'key_words': ['HIV', 'sex'], 'counts': [5, 0]}, 'importance': 5}\n",
      "{'_id': ObjectId('6093c9f92799b9616a6f8a22'), 'heading': '5.7 HIV testing services for the general population   ', 'text': 'Under the NASCOP scenario, HIV testing services cost approximately Ksh 1 billion (US$10 million) in 2016/17 (see Figure 13). The total cost drops over the two subsequent periods and then increases slightly in the last period. Key cost drivers for HIV testing services are the HIV rapid kits, at a cost of approximately Ksh 936 million (US$9 million), and blood collection bags. The reason for the low estimated costs for confirmatory tests is that the test is only administered to people who have tested positive from the HIV rapid kits—this is expected to be a small proportion of the total population under testing. ', 'key_words_info': {'key_words': ['HIV', 'sex'], 'counts': [5, 0]}, 'importance': 5}\n",
      "{'_id': ObjectId('6093c9f92799b9616a6f8a23'), 'heading': 'List of Figures ', 'text': 'Figure E1: Relative Costs for NCD Screening, by Disease (FY2016/17–2019/20) .......... ix Figure 1: Linkages between Key Programmatic Areas and Costing Framework for 2016 HIV Guidelines ................................................................................................... 6 Figure 2: Trend in the Costs of HIV 2016 Guideline Implementation ........................... 10 Figure 3: Costs of Routine Adult and Pediatric ARVs under NASCOP Scenario............ 10 Figure 4: Trend in Costs of Providing ARVs for Care and Treatment ............................. 11 Figure 5: Laboratory Management: Adults versus Pediatrics, NASCOP Scenario .......... 11 Figure 6: Costs of Laboratory Management between NASCOP and Standard Scenarios ......................................................................................................... 12 Figure 7: Costs of Viral Load Test ................................................................................... 12 Figure 8: Cost for PEP, NASCOP and Standard Scenarios ............................................. 13 Figure 9: PMTCT, NASCOP Scenario ............................................................................. 13 Figure 10: PMTCT Costs, NASCOP versus Standard Scenarios ..................................... 14 Figure 11: PrEP, NASCOP Scenario ................................................................................ 14 Figure 12: PrEP, NASCOP versus Standard Scenarios ................................................... 15 Figure 13: HIV Testing Services Cost Estimates, NASCOP Scenario.............................. 15 Figure 14: HIV Testing Services Cost Estimates, NASCOP versus Standard Scenarios ......................................................................................................... 16 Figure 15: Screening NCD and Co-morbidities, NASCOP Scenario ............................... 16 Figure 16: Screening for NCDs and Co-morbidities, NASCOP versus Standard Scenarios ......................................................................................................... 17 Figure 17: Medicines for Opportunistic Diseases, NASCOP Scenario ............................ 17 Figure 18: Medicines for Opportunistic Diseases, NASCOP versus Standard Scenarios ......................................................................................................... 18 v ', 'key_words_info': {'key_words': ['HIV', 'sex'], 'counts': [4, 0]}, 'importance': 4}\n",
      "{'_id': ObjectId('6093c9f92799b9616a6f8a24'), 'heading': '5.5 Prevention of mother-to-child transmission ', 'text': 'Figure 9 shows the estimated cost of PMTCT using the NASCOP scenario. The PMTCT costs incorporate three estimated cost components: rapid HIV testing for pregnant mothers, early infant diagnosis (or infant PCR test), and prophylaxis (the primary cost driver). HIV rapid testing for pregnant mothers, which includes blood collection bags and testing kits, is the second-greatest cost driver. The proportion of pregnant and breastfeeding women living with HIV remains constant over the four-year period, in line with the targets set by the national HIV programme. ', 'key_words_info': {'key_words': ['HIV', 'sex'], 'counts': [4, 0]}, 'importance': 4}\n",
      "{'_id': ObjectId('6093c9f92799b9616a6f8a25'), 'heading': '2.Summary of the 2016 HIV Guidelines on the Use of Antiretroviral Drugs for Treating and Preventing HIV Infection in Kenya ', 'text': 'This section summarises key programme areas covered in the 2016 HIV guidelines. (For a detailed description, see MOH and NASCOP, 2016). ', 'key_words_info': {'key_words': ['HIV', 'sex'], 'counts': [3, 0]}, 'importance': 3}\n",
      "{'_id': ObjectId('6093c9f92799b9616a6f8a26'), 'heading': '5.9 Medicines for opportunistic diseases ', 'text': 'Figure 17 shows that the estimated cost of medicines for opportunistic diseases is projected to increase over time. This is consistent with the target of getting more people living with HIV into care over the projected period, as Kenya moves towards achieving the 90-90-90 targets under the test-and-treat policy. The new guidelines emphasise the need to put people living with HIV on medicines for opportunistic diseases to reduce their mortality rate. A lower mortality rate is expected to bring additional costs as demand for medicines for opportunistic diseases increases. The key driver of this programme cost is the cost for adults, which is not surprising as adults account for the bulk of people living with HIV. ', 'key_words_info': {'key_words': ['HIV', 'sex'], 'counts': [3, 0]}, 'importance': 3}\n",
      "{'_id': ObjectId('6093c9f92799b9616a6f8a27'), 'heading': '5.6 Pre-exposure prophylaxis ', 'text': 'Figure 11 shows the cost of providing PrEP under the NASCOP scenario. This cost will increase to more than double current levels in the next four years as a result of increases in HIV-negative key populations under this prevention programme. The key cost driver under this programme is the regimen cost (the cost of ARVs), which increases over the entire period. However, the cost of HIV testing is also significant due to the numerous tests expected under this prevention programme.', 'key_words_info': {'key_words': ['HIV', 'sex'], 'counts': [2, 0]}, 'importance': 2}\n",
      "{'_id': ObjectId('6093c9f92799b9616a6f8a28'), 'heading': '5.8 NCDs and other co-morbidity ', 'text': 'The 2016 ART guidelines recommend screening among people living with HIV for key NCDs and co-morbidities, including cancer, high blood pressure, hepatitis B and C, diabetes, and liver functions. Figure 15 shows the estimated cost of screening for these NCDs and co-morbidities under the NASCOP scenario. Screening for cervical cancer, diabetes, and cholesterol are the main cost drivers for this new programme area. The estimates show rising costs in line with an increased incidence rate of NCDs and co-morbidities over the time periods, given that the NASCOP scenario expects to put more people living with HIV on treatment in the future and that the incidence rate is positive over the entire period. ', 'key_words_info': {'key_words': ['HIV', 'sex'], 'counts': [2, 0]}, 'importance': 2}\n",
      "{'_id': ObjectId('6093c9f92799b9616a6f8a29'), 'heading': '1.1 Context  ', 'text': 'HIV and AIDS remain a major public health problem in Kenya. Therefore, there is continued need for guidance from the Ministry of Health (MOH) and other key stakeholders on how to manage current and new infections. According to the ', 'key_words_info': {'key_words': ['HIV', 'sex'], 'counts': [1, 0]}, 'importance': 1}\n",
      "{'_id': ObjectId('6093c9f92799b9616a6f8a2a'), 'heading': '1.2 Study Objectives ', 'text': 'The costing exercise addresses two questions: a)What is the cost of implementing the 2016 ART guidelines based on the country targets? b)What is the total cost of implementing the 2016 ART guidelines to cover 100 percent of known people living with HIV? ', 'key_words_info': {'key_words': ['HIV', 'sex'], 'counts': [1, 0]}, 'importance': 1}\n",
      "{'_id': ObjectId('6093c9f92799b9616a6f8a2b'), 'heading': '5. Costing Results ', 'text': 'This section presents the estimated cost of HIV treatment and prevention, based on the revised 2016 guidelines. The data shows the aggregated cost estimated for the NASCOP and Standard scenarios. This is followed by a disaggregation of these costs by programme area, and compared across two scenarios to provide some insight on what the guideline implementation would cost in the next four years. ', 'key_words_info': {'key_words': ['HIV', 'sex'], 'counts': [1, 0]}, 'importance': 1}\n",
      "{'_id': ObjectId('6093c9f92799b9616a6f8a2c'), 'heading': '5.1 Estimated HIV programme costs between NASCOP and Standard scenarios ', 'text': 'The results presented in Table 1 show that the average unit cost of putting a patient on ARVs per year is Ksh 12,032.4 (US$115.7). The unit cost varies by regimen type, with the unit cost of an adult first-line ARV regimen at Ksh 9,501.44 (US$91.4) and second-line at Ksh 26,499.20 (US$254.8) per year. On the other hand, the annual unit cost of pediatric ARVs is 17,800.64 (US$171.2) per patient. ', 'key_words_info': {'key_words': ['HIV', 'sex'], 'counts': [1, 0]}, 'importance': 1}\n",
      "{'_id': ObjectId('6093c9f92799b9616a6f8a2d'), 'heading': '5.4 Cost of post-exposure prophylaxis ', 'text': 'The costs of providing PEP under the NASCOP and Standard scenarios were equal at Ksh 555.7 million (US$5.3 million), structured as shown in Figure 8. The lack of variation between the two scenarios is explained by an assumption that an equal population will require PEP in both cases, because PEP population estimates were based on programme data and are the same in both scenarios. It is also assumed that ARVs for PEP are included under general adult ARV cost estimates. Therefore, the main cost elements were identified as additional HIV testing and kidney tests needed for the PEP programme due to use of a TDF regimen. 13 ', 'key_words_info': {'key_words': ['HIV', 'sex'], 'counts': [1, 0]}, 'importance': 1}\n",
      "{'_id': ObjectId('6093c9f92799b9616a6f8a2e'), 'heading': '7.Study Limitations ', 'text': '1.The only data available on mortality rates for people living with HIV comes from the mortuary survey. This study is not representative of the current nationwide attrition rate, as it is based on Nairobi County data. A mortuary survey should be administered nationwide to create a countrywide database for attrition rate. 2.The costing model has not incorporated a six-month buffer stock, as this was not in the scope of the study. The model, however, can be customised to capture the buffer stock when used for commodity quantification for processes such as the Global Fund application. 3.The estimates for non-medical costs were based on the ', 'key_words_info': {'key_words': ['HIV', 'sex'], 'counts': [1, 0]}, 'importance': 1}\n"
     ]
    }
   ],
   "source": [
    "cursor = mycollection.find()\n",
    "for record in cursor:\n",
    "    print(record)"
   ]
  },
  {
   "cell_type": "code",
   "execution_count": 57,
   "id": "93cd43f1",
   "metadata": {},
   "outputs": [
    {
     "name": "stdout",
     "output_type": "stream",
     "text": [
      "{'_id': ObjectId('6093c92a2799b9616a6f8a11'), 'heading': '6. Conclusions ', 'text': 'The costing of HIV interventions in this study is based on 2016 HIV guidelines and considers two scenarios: NASCOP and Standard. The NASCOP scenario was based on national HIV programme targets towards achievement of 90-90-90, and the Standard scenario was based on the assumption that the guidelines would be fully implemented as spelt out in the 2016 ART guidelines. In the NASCOP scenario, the population base is assumed to be constant for the four-year costing projections, while the Standard scenario adjusts its population in need to consider incidence, mortality, and population growth rates. However, both scenarios considered two key assumptions: the gains obtained from the reduction in HIV mortality and the reduction in HIV incidence rates. Findings have shown that the average annual cost of putting a patient on ARVs is Ksh 12,032.36 (US$115.7). The Standard scenario costs more than the NASCOP scenario, although differences vary across programme areas. The key biomedical cost drivers in both scenarios were ARTs and laboratory management. Although non-biomedical interventions seemed to be a cost driver, these cost estimates were derived as a proportion of the total cost based on the report of a cost study of HIV treatment conducted in 2013 (U.S. Centers for Diseases Control and Kenya Ministry of Health, (2013), which had an in-depth micro-costing of both medical and non-medical HIV programme interventions. In conclusion, there is an expected escalation in future costs with the implementation of the new 2016 ART guidelines. This is due to inclusion of more people living with HIV in care and treatment programmes, and further enhanced by a reduction in HIV-related mortality. The inclusion of PrEP and PEP as prevention measures might have a significant impact on reducing the HIV incidence rate. This will, however, come with a considerable increase in the resources needed to fund interventions. Therefore, the key policy interventions introduced in the new guidelines center on prevention and acceleration of treatment aimed at reducing HIV incidence rates and related mortalities. This calls for resources to cover an increased number of people targeted for care and treatment programmes. A lowered mortality rate achieved through an ART programme implies increased HIV costs, as the number of people living with HIV who require HIV care will also increase. Kenya must explore channels for financing its increased need for HIV care and treatment. These could include coverage of HIV services in health insurance benefits packages (social or private health insurance), increased domestic resource mobilisation (including allocations from national and county governments), and engaging the private sector to play a bigger role in HIV financing. 20', 'key_words_info': {'key_words': ['HIV', 'sex'], 'counts': [17, 0]}, 'importance': 17, 'country': 'kenya'}\n"
     ]
    }
   ],
   "source": [
    "# Find first document\n",
    "x = mycollection.find_one()\n",
    "print(x)"
   ]
  },
  {
   "cell_type": "code",
   "execution_count": 58,
   "id": "794b3cfc",
   "metadata": {},
   "outputs": [
    {
     "data": {
      "text/plain": [
       "dict_keys(['_id', 'heading', 'text', 'key_words_info', 'importance', 'country'])"
      ]
     },
     "execution_count": 58,
     "metadata": {},
     "output_type": "execute_result"
    }
   ],
   "source": [
    "x.keys()"
   ]
  },
  {
   "cell_type": "code",
   "execution_count": 64,
   "id": "e5b0d353",
   "metadata": {},
   "outputs": [],
   "source": [
    "# Filtering the Quantities greater\n",
    "# than 40 using query.\n",
    "cursor = mycollection.find({\"importance\": {\"$lt\": 10}})"
   ]
  },
  {
   "cell_type": "code",
   "execution_count": 65,
   "id": "370e1633",
   "metadata": {},
   "outputs": [
    {
     "name": "stdout",
     "output_type": "stream",
     "text": [
      "The data having Quantity greater than 40 is:\n",
      "{'_id': ObjectId('6093c92a2799b9616a6f8a12'), 'heading': 'Executive Summary ', 'text': 'In 2016, the Ministry of Health (MOH) updated Kenya’s national HIV guidelines to provide guidance on the use of antiretrovirals (ARVs) to treat and prevent HIV infection. To inform implementation and resource mobilisation, the MOH needed to understand the costing implications of implementing the new guidelines. This created the need for a study to estimate the costs of implementing the new guidelines, based on the country targets and covering all known people living with HIV in Kenya. This study adopted a micro-costing approach using population data from 2015 HIV revised estimates. The study considered two costing scenarios—the “NASCOP scenario,” based on NASCOP (National AIDS/STI Control Programme) targets to achieve the UNAIDS 90-90-90 targets; and the “Standard scenario,” based on full adoption of the new guidelines. The results show that the average annual unit cost of an adult on ARVs is Ksh 12,032.36 (US$115.7). The unit cost varies by regimen type, with the unit cost of an adults first-line regimen being Ksh 9,501.44 (US$91.4) per year, compared to Ksh 26,499.20 (US$254.8) for second-line. The annual unit cost of pediatric ARVs was estimated at Ksh 17,800.64 (US$171.2) per patient. As shown in Table E1, implementation of the new antiretroviral therapy (ART) guidelines under the Standard scenario will cost about 20 percent more than under the NASCOP scenario. The estimated cost of implementingthe new guidelines under the NASCOP and Standard scenarios in the next four years (FY2016/17–2019/20) is Ksh 197.8 billion (US$1.9 billion) and Ksh 239.2 billion (US$2.3 billion), respectively. The higher costs under the Standard scenario can explained by the higher number of people living with HIV expected to be initiated on treatment. In both scenarios, key commodities (ARVs, laboratory management, and test kits) are the main cost drivers, accounting for 61 percent of the total cost (seeTable E1). ', 'key_words_info': {'key_words': ['HIV', 'sex'], 'counts': [5, 0]}, 'importance': 5, 'country': 'kenya'}\n",
      "{'_id': ObjectId('6093c92a2799b9616a6f8a13'), 'heading': '5.7 HIV testing services for the general population   ', 'text': 'Under the NASCOP scenario, HIV testing services cost approximately Ksh 1 billion (US$10 million) in 2016/17 (see Figure 13). The total cost drops over the two subsequent periods and then increases slightly in the last period. Key cost drivers for HIV testing services are the HIV rapid kits, at a cost of approximately Ksh 936 million (US$9 million), and blood collection bags. The reason for the low estimated costs for confirmatory tests is that the test is only administered to people who have tested positive from the HIV rapid kits—this is expected to be a small proportion of the total population under testing. ', 'key_words_info': {'key_words': ['HIV', 'sex'], 'counts': [5, 0]}, 'importance': 5, 'country': 'kenya'}\n",
      "{'_id': ObjectId('6093c92a2799b9616a6f8a14'), 'heading': 'List of Figures ', 'text': 'Figure E1: Relative Costs for NCD Screening, by Disease (FY2016/17–2019/20) .......... ix Figure 1: Linkages between Key Programmatic Areas and Costing Framework for 2016 HIV Guidelines ................................................................................................... 6 Figure 2: Trend in the Costs of HIV 2016 Guideline Implementation ........................... 10 Figure 3: Costs of Routine Adult and Pediatric ARVs under NASCOP Scenario............ 10 Figure 4: Trend in Costs of Providing ARVs for Care and Treatment ............................. 11 Figure 5: Laboratory Management: Adults versus Pediatrics, NASCOP Scenario .......... 11 Figure 6: Costs of Laboratory Management between NASCOP and Standard Scenarios ......................................................................................................... 12 Figure 7: Costs of Viral Load Test ................................................................................... 12 Figure 8: Cost for PEP, NASCOP and Standard Scenarios ............................................. 13 Figure 9: PMTCT, NASCOP Scenario ............................................................................. 13 Figure 10: PMTCT Costs, NASCOP versus Standard Scenarios ..................................... 14 Figure 11: PrEP, NASCOP Scenario ................................................................................ 14 Figure 12: PrEP, NASCOP versus Standard Scenarios ................................................... 15 Figure 13: HIV Testing Services Cost Estimates, NASCOP Scenario.............................. 15 Figure 14: HIV Testing Services Cost Estimates, NASCOP versus Standard Scenarios ......................................................................................................... 16 Figure 15: Screening NCD and Co-morbidities, NASCOP Scenario ............................... 16 Figure 16: Screening for NCDs and Co-morbidities, NASCOP versus Standard Scenarios ......................................................................................................... 17 Figure 17: Medicines for Opportunistic Diseases, NASCOP Scenario ............................ 17 Figure 18: Medicines for Opportunistic Diseases, NASCOP versus Standard Scenarios ......................................................................................................... 18 v ', 'key_words_info': {'key_words': ['HIV', 'sex'], 'counts': [4, 0]}, 'importance': 4, 'country': 'kenya'}\n",
      "{'_id': ObjectId('6093c92a2799b9616a6f8a15'), 'heading': '5.5 Prevention of mother-to-child transmission ', 'text': 'Figure 9 shows the estimated cost of PMTCT using the NASCOP scenario. The PMTCT costs incorporate three estimated cost components: rapid HIV testing for pregnant mothers, early infant diagnosis (or infant PCR test), and prophylaxis (the primary cost driver). HIV rapid testing for pregnant mothers, which includes blood collection bags and testing kits, is the second-greatest cost driver. The proportion of pregnant and breastfeeding women living with HIV remains constant over the four-year period, in line with the targets set by the national HIV programme. ', 'key_words_info': {'key_words': ['HIV', 'sex'], 'counts': [4, 0]}, 'importance': 4, 'country': 'kenya'}\n",
      "{'_id': ObjectId('6093c92a2799b9616a6f8a16'), 'heading': '2.Summary of the 2016 HIV Guidelines on the Use of Antiretroviral Drugs for Treating and Preventing HIV Infection in Kenya ', 'text': 'This section summarises key programme areas covered in the 2016 HIV guidelines. (For a detailed description, see MOH and NASCOP, 2016). ', 'key_words_info': {'key_words': ['HIV', 'sex'], 'counts': [3, 0]}, 'importance': 3, 'country': 'kenya'}\n",
      "{'_id': ObjectId('6093c92a2799b9616a6f8a17'), 'heading': '5.9 Medicines for opportunistic diseases ', 'text': 'Figure 17 shows that the estimated cost of medicines for opportunistic diseases is projected to increase over time. This is consistent with the target of getting more people living with HIV into care over the projected period, as Kenya moves towards achieving the 90-90-90 targets under the test-and-treat policy. The new guidelines emphasise the need to put people living with HIV on medicines for opportunistic diseases to reduce their mortality rate. A lower mortality rate is expected to bring additional costs as demand for medicines for opportunistic diseases increases. The key driver of this programme cost is the cost for adults, which is not surprising as adults account for the bulk of people living with HIV. ', 'key_words_info': {'key_words': ['HIV', 'sex'], 'counts': [3, 0]}, 'importance': 3, 'country': 'kenya'}\n",
      "{'_id': ObjectId('6093c92a2799b9616a6f8a18'), 'heading': '5.6 Pre-exposure prophylaxis ', 'text': 'Figure 11 shows the cost of providing PrEP under the NASCOP scenario. This cost will increase to more than double current levels in the next four years as a result of increases in HIV-negative key populations under this prevention programme. The key cost driver under this programme is the regimen cost (the cost of ARVs), which increases over the entire period. However, the cost of HIV testing is also significant due to the numerous tests expected under this prevention programme.', 'key_words_info': {'key_words': ['HIV', 'sex'], 'counts': [2, 0]}, 'importance': 2, 'country': 'kenya'}\n",
      "{'_id': ObjectId('6093c92a2799b9616a6f8a19'), 'heading': '5.8 NCDs and other co-morbidity ', 'text': 'The 2016 ART guidelines recommend screening among people living with HIV for key NCDs and co-morbidities, including cancer, high blood pressure, hepatitis B and C, diabetes, and liver functions. Figure 15 shows the estimated cost of screening for these NCDs and co-morbidities under the NASCOP scenario. Screening for cervical cancer, diabetes, and cholesterol are the main cost drivers for this new programme area. The estimates show rising costs in line with an increased incidence rate of NCDs and co-morbidities over the time periods, given that the NASCOP scenario expects to put more people living with HIV on treatment in the future and that the incidence rate is positive over the entire period. ', 'key_words_info': {'key_words': ['HIV', 'sex'], 'counts': [2, 0]}, 'importance': 2, 'country': 'kenya'}\n",
      "{'_id': ObjectId('6093c92a2799b9616a6f8a1a'), 'heading': '1.1 Context  ', 'text': 'HIV and AIDS remain a major public health problem in Kenya. Therefore, there is continued need for guidance from the Ministry of Health (MOH) and other key stakeholders on how to manage current and new infections. According to the ', 'key_words_info': {'key_words': ['HIV', 'sex'], 'counts': [1, 0]}, 'importance': 1, 'country': 'kenya'}\n",
      "{'_id': ObjectId('6093c92a2799b9616a6f8a1b'), 'heading': '1.2 Study Objectives ', 'text': 'The costing exercise addresses two questions: a)What is the cost of implementing the 2016 ART guidelines based on the country targets? b)What is the total cost of implementing the 2016 ART guidelines to cover 100 percent of known people living with HIV? ', 'key_words_info': {'key_words': ['HIV', 'sex'], 'counts': [1, 0]}, 'importance': 1, 'country': 'kenya'}\n",
      "{'_id': ObjectId('6093c92a2799b9616a6f8a1c'), 'heading': '5. Costing Results ', 'text': 'This section presents the estimated cost of HIV treatment and prevention, based on the revised 2016 guidelines. The data shows the aggregated cost estimated for the NASCOP and Standard scenarios. This is followed by a disaggregation of these costs by programme area, and compared across two scenarios to provide some insight on what the guideline implementation would cost in the next four years. ', 'key_words_info': {'key_words': ['HIV', 'sex'], 'counts': [1, 0]}, 'importance': 1, 'country': 'kenya'}\n",
      "{'_id': ObjectId('6093c92a2799b9616a6f8a1d'), 'heading': '5.1 Estimated HIV programme costs between NASCOP and Standard scenarios ', 'text': 'The results presented in Table 1 show that the average unit cost of putting a patient on ARVs per year is Ksh 12,032.4 (US$115.7). The unit cost varies by regimen type, with the unit cost of an adult first-line ARV regimen at Ksh 9,501.44 (US$91.4) and second-line at Ksh 26,499.20 (US$254.8) per year. On the other hand, the annual unit cost of pediatric ARVs is 17,800.64 (US$171.2) per patient. ', 'key_words_info': {'key_words': ['HIV', 'sex'], 'counts': [1, 0]}, 'importance': 1, 'country': 'kenya'}\n",
      "{'_id': ObjectId('6093c92a2799b9616a6f8a1e'), 'heading': '5.4 Cost of post-exposure prophylaxis ', 'text': 'The costs of providing PEP under the NASCOP and Standard scenarios were equal at Ksh 555.7 million (US$5.3 million), structured as shown in Figure 8. The lack of variation between the two scenarios is explained by an assumption that an equal population will require PEP in both cases, because PEP population estimates were based on programme data and are the same in both scenarios. It is also assumed that ARVs for PEP are included under general adult ARV cost estimates. Therefore, the main cost elements were identified as additional HIV testing and kidney tests needed for the PEP programme due to use of a TDF regimen. 13 ', 'key_words_info': {'key_words': ['HIV', 'sex'], 'counts': [1, 0]}, 'importance': 1, 'country': 'kenya'}\n",
      "{'_id': ObjectId('6093c92a2799b9616a6f8a1f'), 'heading': '7.Study Limitations ', 'text': '1.The only data available on mortality rates for people living with HIV comes from the mortuary survey. This study is not representative of the current nationwide attrition rate, as it is based on Nairobi County data. A mortuary survey should be administered nationwide to create a countrywide database for attrition rate. 2.The costing model has not incorporated a six-month buffer stock, as this was not in the scope of the study. The model, however, can be customised to capture the buffer stock when used for commodity quantification for processes such as the Global Fund application. 3.The estimates for non-medical costs were based on the ', 'key_words_info': {'key_words': ['HIV', 'sex'], 'counts': [1, 0]}, 'importance': 1, 'country': 'kenya'}\n",
      "{'_id': ObjectId('6093c9f92799b9616a6f8a21'), 'heading': 'Executive Summary ', 'text': 'In 2016, the Ministry of Health (MOH) updated Kenya’s national HIV guidelines to provide guidance on the use of antiretrovirals (ARVs) to treat and prevent HIV infection. To inform implementation and resource mobilisation, the MOH needed to understand the costing implications of implementing the new guidelines. This created the need for a study to estimate the costs of implementing the new guidelines, based on the country targets and covering all known people living with HIV in Kenya. This study adopted a micro-costing approach using population data from 2015 HIV revised estimates. The study considered two costing scenarios—the “NASCOP scenario,” based on NASCOP (National AIDS/STI Control Programme) targets to achieve the UNAIDS 90-90-90 targets; and the “Standard scenario,” based on full adoption of the new guidelines. The results show that the average annual unit cost of an adult on ARVs is Ksh 12,032.36 (US$115.7). The unit cost varies by regimen type, with the unit cost of an adults first-line regimen being Ksh 9,501.44 (US$91.4) per year, compared to Ksh 26,499.20 (US$254.8) for second-line. The annual unit cost of pediatric ARVs was estimated at Ksh 17,800.64 (US$171.2) per patient. As shown in Table E1, implementation of the new antiretroviral therapy (ART) guidelines under the Standard scenario will cost about 20 percent more than under the NASCOP scenario. The estimated cost of implementingthe new guidelines under the NASCOP and Standard scenarios in the next four years (FY2016/17–2019/20) is Ksh 197.8 billion (US$1.9 billion) and Ksh 239.2 billion (US$2.3 billion), respectively. The higher costs under the Standard scenario can explained by the higher number of people living with HIV expected to be initiated on treatment. In both scenarios, key commodities (ARVs, laboratory management, and test kits) are the main cost drivers, accounting for 61 percent of the total cost (seeTable E1). ', 'key_words_info': {'key_words': ['HIV', 'sex'], 'counts': [5, 0]}, 'importance': 5}\n",
      "{'_id': ObjectId('6093c9f92799b9616a6f8a22'), 'heading': '5.7 HIV testing services for the general population   ', 'text': 'Under the NASCOP scenario, HIV testing services cost approximately Ksh 1 billion (US$10 million) in 2016/17 (see Figure 13). The total cost drops over the two subsequent periods and then increases slightly in the last period. Key cost drivers for HIV testing services are the HIV rapid kits, at a cost of approximately Ksh 936 million (US$9 million), and blood collection bags. The reason for the low estimated costs for confirmatory tests is that the test is only administered to people who have tested positive from the HIV rapid kits—this is expected to be a small proportion of the total population under testing. ', 'key_words_info': {'key_words': ['HIV', 'sex'], 'counts': [5, 0]}, 'importance': 5}\n",
      "{'_id': ObjectId('6093c9f92799b9616a6f8a23'), 'heading': 'List of Figures ', 'text': 'Figure E1: Relative Costs for NCD Screening, by Disease (FY2016/17–2019/20) .......... ix Figure 1: Linkages between Key Programmatic Areas and Costing Framework for 2016 HIV Guidelines ................................................................................................... 6 Figure 2: Trend in the Costs of HIV 2016 Guideline Implementation ........................... 10 Figure 3: Costs of Routine Adult and Pediatric ARVs under NASCOP Scenario............ 10 Figure 4: Trend in Costs of Providing ARVs for Care and Treatment ............................. 11 Figure 5: Laboratory Management: Adults versus Pediatrics, NASCOP Scenario .......... 11 Figure 6: Costs of Laboratory Management between NASCOP and Standard Scenarios ......................................................................................................... 12 Figure 7: Costs of Viral Load Test ................................................................................... 12 Figure 8: Cost for PEP, NASCOP and Standard Scenarios ............................................. 13 Figure 9: PMTCT, NASCOP Scenario ............................................................................. 13 Figure 10: PMTCT Costs, NASCOP versus Standard Scenarios ..................................... 14 Figure 11: PrEP, NASCOP Scenario ................................................................................ 14 Figure 12: PrEP, NASCOP versus Standard Scenarios ................................................... 15 Figure 13: HIV Testing Services Cost Estimates, NASCOP Scenario.............................. 15 Figure 14: HIV Testing Services Cost Estimates, NASCOP versus Standard Scenarios ......................................................................................................... 16 Figure 15: Screening NCD and Co-morbidities, NASCOP Scenario ............................... 16 Figure 16: Screening for NCDs and Co-morbidities, NASCOP versus Standard Scenarios ......................................................................................................... 17 Figure 17: Medicines for Opportunistic Diseases, NASCOP Scenario ............................ 17 Figure 18: Medicines for Opportunistic Diseases, NASCOP versus Standard Scenarios ......................................................................................................... 18 v ', 'key_words_info': {'key_words': ['HIV', 'sex'], 'counts': [4, 0]}, 'importance': 4}\n",
      "{'_id': ObjectId('6093c9f92799b9616a6f8a24'), 'heading': '5.5 Prevention of mother-to-child transmission ', 'text': 'Figure 9 shows the estimated cost of PMTCT using the NASCOP scenario. The PMTCT costs incorporate three estimated cost components: rapid HIV testing for pregnant mothers, early infant diagnosis (or infant PCR test), and prophylaxis (the primary cost driver). HIV rapid testing for pregnant mothers, which includes blood collection bags and testing kits, is the second-greatest cost driver. The proportion of pregnant and breastfeeding women living with HIV remains constant over the four-year period, in line with the targets set by the national HIV programme. ', 'key_words_info': {'key_words': ['HIV', 'sex'], 'counts': [4, 0]}, 'importance': 4}\n",
      "{'_id': ObjectId('6093c9f92799b9616a6f8a25'), 'heading': '2.Summary of the 2016 HIV Guidelines on the Use of Antiretroviral Drugs for Treating and Preventing HIV Infection in Kenya ', 'text': 'This section summarises key programme areas covered in the 2016 HIV guidelines. (For a detailed description, see MOH and NASCOP, 2016). ', 'key_words_info': {'key_words': ['HIV', 'sex'], 'counts': [3, 0]}, 'importance': 3}\n",
      "{'_id': ObjectId('6093c9f92799b9616a6f8a26'), 'heading': '5.9 Medicines for opportunistic diseases ', 'text': 'Figure 17 shows that the estimated cost of medicines for opportunistic diseases is projected to increase over time. This is consistent with the target of getting more people living with HIV into care over the projected period, as Kenya moves towards achieving the 90-90-90 targets under the test-and-treat policy. The new guidelines emphasise the need to put people living with HIV on medicines for opportunistic diseases to reduce their mortality rate. A lower mortality rate is expected to bring additional costs as demand for medicines for opportunistic diseases increases. The key driver of this programme cost is the cost for adults, which is not surprising as adults account for the bulk of people living with HIV. ', 'key_words_info': {'key_words': ['HIV', 'sex'], 'counts': [3, 0]}, 'importance': 3}\n",
      "{'_id': ObjectId('6093c9f92799b9616a6f8a27'), 'heading': '5.6 Pre-exposure prophylaxis ', 'text': 'Figure 11 shows the cost of providing PrEP under the NASCOP scenario. This cost will increase to more than double current levels in the next four years as a result of increases in HIV-negative key populations under this prevention programme. The key cost driver under this programme is the regimen cost (the cost of ARVs), which increases over the entire period. However, the cost of HIV testing is also significant due to the numerous tests expected under this prevention programme.', 'key_words_info': {'key_words': ['HIV', 'sex'], 'counts': [2, 0]}, 'importance': 2}\n",
      "{'_id': ObjectId('6093c9f92799b9616a6f8a28'), 'heading': '5.8 NCDs and other co-morbidity ', 'text': 'The 2016 ART guidelines recommend screening among people living with HIV for key NCDs and co-morbidities, including cancer, high blood pressure, hepatitis B and C, diabetes, and liver functions. Figure 15 shows the estimated cost of screening for these NCDs and co-morbidities under the NASCOP scenario. Screening for cervical cancer, diabetes, and cholesterol are the main cost drivers for this new programme area. The estimates show rising costs in line with an increased incidence rate of NCDs and co-morbidities over the time periods, given that the NASCOP scenario expects to put more people living with HIV on treatment in the future and that the incidence rate is positive over the entire period. ', 'key_words_info': {'key_words': ['HIV', 'sex'], 'counts': [2, 0]}, 'importance': 2}\n",
      "{'_id': ObjectId('6093c9f92799b9616a6f8a29'), 'heading': '1.1 Context  ', 'text': 'HIV and AIDS remain a major public health problem in Kenya. Therefore, there is continued need for guidance from the Ministry of Health (MOH) and other key stakeholders on how to manage current and new infections. According to the ', 'key_words_info': {'key_words': ['HIV', 'sex'], 'counts': [1, 0]}, 'importance': 1}\n",
      "{'_id': ObjectId('6093c9f92799b9616a6f8a2a'), 'heading': '1.2 Study Objectives ', 'text': 'The costing exercise addresses two questions: a)What is the cost of implementing the 2016 ART guidelines based on the country targets? b)What is the total cost of implementing the 2016 ART guidelines to cover 100 percent of known people living with HIV? ', 'key_words_info': {'key_words': ['HIV', 'sex'], 'counts': [1, 0]}, 'importance': 1}\n",
      "{'_id': ObjectId('6093c9f92799b9616a6f8a2b'), 'heading': '5. Costing Results ', 'text': 'This section presents the estimated cost of HIV treatment and prevention, based on the revised 2016 guidelines. The data shows the aggregated cost estimated for the NASCOP and Standard scenarios. This is followed by a disaggregation of these costs by programme area, and compared across two scenarios to provide some insight on what the guideline implementation would cost in the next four years. ', 'key_words_info': {'key_words': ['HIV', 'sex'], 'counts': [1, 0]}, 'importance': 1}\n",
      "{'_id': ObjectId('6093c9f92799b9616a6f8a2c'), 'heading': '5.1 Estimated HIV programme costs between NASCOP and Standard scenarios ', 'text': 'The results presented in Table 1 show that the average unit cost of putting a patient on ARVs per year is Ksh 12,032.4 (US$115.7). The unit cost varies by regimen type, with the unit cost of an adult first-line ARV regimen at Ksh 9,501.44 (US$91.4) and second-line at Ksh 26,499.20 (US$254.8) per year. On the other hand, the annual unit cost of pediatric ARVs is 17,800.64 (US$171.2) per patient. ', 'key_words_info': {'key_words': ['HIV', 'sex'], 'counts': [1, 0]}, 'importance': 1}\n",
      "{'_id': ObjectId('6093c9f92799b9616a6f8a2d'), 'heading': '5.4 Cost of post-exposure prophylaxis ', 'text': 'The costs of providing PEP under the NASCOP and Standard scenarios were equal at Ksh 555.7 million (US$5.3 million), structured as shown in Figure 8. The lack of variation between the two scenarios is explained by an assumption that an equal population will require PEP in both cases, because PEP population estimates were based on programme data and are the same in both scenarios. It is also assumed that ARVs for PEP are included under general adult ARV cost estimates. Therefore, the main cost elements were identified as additional HIV testing and kidney tests needed for the PEP programme due to use of a TDF regimen. 13 ', 'key_words_info': {'key_words': ['HIV', 'sex'], 'counts': [1, 0]}, 'importance': 1}\n",
      "{'_id': ObjectId('6093c9f92799b9616a6f8a2e'), 'heading': '7.Study Limitations ', 'text': '1.The only data available on mortality rates for people living with HIV comes from the mortuary survey. This study is not representative of the current nationwide attrition rate, as it is based on Nairobi County data. A mortuary survey should be administered nationwide to create a countrywide database for attrition rate. 2.The costing model has not incorporated a six-month buffer stock, as this was not in the scope of the study. The model, however, can be customised to capture the buffer stock when used for commodity quantification for processes such as the Global Fund application. 3.The estimates for non-medical costs were based on the ', 'key_words_info': {'key_words': ['HIV', 'sex'], 'counts': [1, 0]}, 'importance': 1}\n"
     ]
    }
   ],
   "source": [
    "print(\"The data having Quantity greater than 40 is:\")\n",
    "for record in cursor: \n",
    "    print(record) "
   ]
  },
  {
   "cell_type": "code",
   "execution_count": null,
   "id": "afc6bfef",
   "metadata": {},
   "outputs": [],
   "source": [
    "filter = { 'appliance': 'tv' }"
   ]
  },
  {
   "cell_type": "code",
   "execution_count": 272,
   "id": "89389ee9",
   "metadata": {},
   "outputs": [],
   "source": [
    "cursorII = mycollection.find()"
   ]
  },
  {
   "cell_type": "code",
   "execution_count": 275,
   "id": "e4388c01",
   "metadata": {},
   "outputs": [],
   "source": [
    "j = 0\n",
    "for record in cursorII: \n",
    "    summary = record[\"summary\"]\n",
    "    j += 1\n",
    "    if j = 5:\n",
    "        break"
   ]
  },
  {
   "cell_type": "code",
   "execution_count": 276,
   "id": "0637c133",
   "metadata": {},
   "outputs": [
    {
     "data": {
      "text/plain": [
       "[{'summary_text': ' MSM    MSM \\xa0MSMS is a news organization that focuses on African-American issues . It has been in the news for more than a decade . It is a network of African-Americans living in the U.S. for the first time in their history .'}]"
      ]
     },
     "execution_count": 276,
     "metadata": {},
     "output_type": "execute_result"
    }
   ],
   "source": [
    "summary"
   ]
  },
  {
   "cell_type": "code",
   "execution_count": null,
   "id": "322dfaa0",
   "metadata": {},
   "outputs": [],
   "source": []
  }
 ],
 "metadata": {
  "kernelspec": {
   "display_name": "Python 3.8.8 64-bit ('sum': conda)",
   "language": "python",
   "name": "python388jvsc74a57bd02ce0e3a8d7fc5f9aafeadb3c51918d18d98157851c7a9385b653ef486aeaa209"
  },
  "language_info": {
   "codemirror_mode": {
    "name": "ipython",
    "version": 3
   },
   "file_extension": ".py",
   "mimetype": "text/x-python",
   "name": "python",
   "nbconvert_exporter": "python",
   "pygments_lexer": "ipython3",
   "version": "3.8.8"
  }
 },
 "nbformat": 4,
 "nbformat_minor": 5
}
