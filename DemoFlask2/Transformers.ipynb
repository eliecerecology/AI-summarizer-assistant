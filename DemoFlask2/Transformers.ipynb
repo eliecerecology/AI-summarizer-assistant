{
 "cells": [
  {
   "cell_type": "code",
   "execution_count": 1,
   "id": "c2fa9cad",
   "metadata": {},
   "outputs": [],
   "source": [
    "import os\n",
    "import pandas as pd\n",
    "from operator import itemgetter\n",
    "from collections import Counter\n",
    "import re\n",
    "import pdf_parse_functions\n",
    "from transformers import pipeline"
   ]
  },
  {
   "cell_type": "code",
   "execution_count": 2,
   "id": "6aed6d56-f1b4-4529-8b55-29c0fcf338b5",
   "metadata": {},
   "outputs": [],
   "source": [
    "from transformers import pipeline"
   ]
  },
  {
   "cell_type": "code",
   "execution_count": 3,
   "id": "1ee6f533-1389-46b4-9ddd-f8136308454a",
   "metadata": {},
   "outputs": [],
   "source": [
    "summa = pipeline(\"summarization\")"
   ]
  },
  {
   "cell_type": "code",
   "execution_count": 4,
   "id": "b5279342",
   "metadata": {},
   "outputs": [],
   "source": [
    "datapath = \"/home/helix/Documents/UNAIDS/Development/unaids/Demo/pdfs/\" \n",
    "pdfnames = os.listdir(datapath)"
   ]
  },
  {
   "cell_type": "code",
   "execution_count": 5,
   "id": "8bc6219b",
   "metadata": {},
   "outputs": [
    {
     "data": {
      "text/plain": [
       "['colombia.pdf',\n",
       " 'kenya2.pdf',\n",
       " 'SummaryBrazil.pdf',\n",
       " 'ARG.pdf',\n",
       " 'Cameroon Report_July 4 2014.pdf',\n",
       " 'Cameroon2014.pdf',\n",
       " 'Libro TRANS 2016.pdf']"
      ]
     },
     "execution_count": 5,
     "metadata": {},
     "output_type": "execute_result"
    }
   ],
   "source": [
    "pdfnames"
   ]
  },
  {
   "cell_type": "code",
   "execution_count": 32,
   "id": "d4b99217",
   "metadata": {},
   "outputs": [],
   "source": [
    "language = \"english\"\n",
    "\n",
    "if language == \"spanish\":\n",
    "    keywords = ('sida', 'sexo', 'ETS')\n",
    "    listOfStrings = ['TABLAS' , 'FIGURAS', 'figura', 'tabla', '...']\n",
    "else:\n",
    "    keywords = ('HIV', 'MSM', 'education')\n",
    "    listOfStrings = ['TABLES' , 'FIGURE', 'figure', 'table', '...']"
   ]
  },
  {
   "cell_type": "code",
   "execution_count": 42,
   "id": "5648c519-fa54-452c-ab3b-29a95c55ae60",
   "metadata": {},
   "outputs": [],
   "source": [
    "paragraphs = pdf_parse_functions.pdf_parser(datapath+pdfnames[5])\n",
    "paragraphs_with_key_words = pdf_parse_functions.get_paragraphs_with_key_words(paragraphs, keywords)"
   ]
  },
  {
   "cell_type": "code",
   "execution_count": 43,
   "id": "61143f5d-e9e8-4330-89ff-befa44769d6c",
   "metadata": {},
   "outputs": [],
   "source": [
    "word_list = []\n",
    "for para in paragraphs_with_key_words:\n",
    "    if any(w in para['heading'] for w in listOfStrings)  == True:\n",
    "        pass\n",
    "    else:\n",
    "        word_list.append(para)"
   ]
  },
  {
   "cell_type": "code",
   "execution_count": 44,
   "id": "875d9818-45f2-4c98-983d-2efee3a22628",
   "metadata": {},
   "outputs": [],
   "source": [
    "paragraphs_with_key_words = word_list"
   ]
  },
  {
   "cell_type": "code",
   "execution_count": 36,
   "id": "428dc057",
   "metadata": {},
   "outputs": [],
   "source": [
    "#paragraphs[0].keys()"
   ]
  },
  {
   "cell_type": "code",
   "execution_count": 45,
   "id": "e17427c8",
   "metadata": {},
   "outputs": [],
   "source": [
    "df = pd.DataFrame.from_dict(paragraphs_with_key_words)"
   ]
  },
  {
   "cell_type": "code",
   "execution_count": 46,
   "id": "e53e12e8",
   "metadata": {},
   "outputs": [
    {
     "data": {
      "text/html": [
       "<div>\n",
       "<style scoped>\n",
       "    .dataframe tbody tr th:only-of-type {\n",
       "        vertical-align: middle;\n",
       "    }\n",
       "\n",
       "    .dataframe tbody tr th {\n",
       "        vertical-align: top;\n",
       "    }\n",
       "\n",
       "    .dataframe thead th {\n",
       "        text-align: right;\n",
       "    }\n",
       "</style>\n",
       "<table border=\"1\" class=\"dataframe\">\n",
       "  <thead>\n",
       "    <tr style=\"text-align: right;\">\n",
       "      <th></th>\n",
       "      <th>heading</th>\n",
       "      <th>text</th>\n",
       "      <th>key_words_info</th>\n",
       "      <th>importance</th>\n",
       "    </tr>\n",
       "  </thead>\n",
       "  <tbody>\n",
       "    <tr>\n",
       "      <th>0</th>\n",
       "      <td>Yaounde</td>\n",
       "      <td>Nineteen services mentioned by MSM were visite...</td>\n",
       "      <td>{'key_words': ('HIV', 'MSM', 'education'), 'co...</td>\n",
       "      <td>23</td>\n",
       "    </tr>\n",
       "    <tr>\n",
       "      <th>1</th>\n",
       "      <td>AMEROON</td>\n",
       "      <td>The results of this study indicate that the be...</td>\n",
       "      <td>{'key_words': ('HIV', 'MSM', 'education'), 'co...</td>\n",
       "      <td>22</td>\n",
       "    </tr>\n",
       "    <tr>\n",
       "      <th>2</th>\n",
       "      <td>Douala</td>\n",
       "      <td>Twenty services mentioned by MSM were visited ...</td>\n",
       "      <td>{'key_words': ('HIV', 'MSM', 'education'), 'co...</td>\n",
       "      <td>19</td>\n",
       "    </tr>\n",
       "    <tr>\n",
       "      <th>3</th>\n",
       "      <td>NTRODUCTION</td>\n",
       "      <td>This study was conducted in the framework of t...</td>\n",
       "      <td>{'key_words': ('HIV', 'MSM', 'education'), 'co...</td>\n",
       "      <td>14</td>\n",
       "    </tr>\n",
       "    <tr>\n",
       "      <th>4</th>\n",
       "      <td>MSM</td>\n",
       "      <td>In this section we have attempted to detail wh...</td>\n",
       "      <td>{'key_words': ('HIV', 'MSM', 'education'), 'co...</td>\n",
       "      <td>14</td>\n",
       "    </tr>\n",
       "    <tr>\n",
       "      <th>5</th>\n",
       "      <td>HEALTH SERVICE ASSESSMENT: CITY SPECIFIC BREAK...</td>\n",
       "      <td>Eight services mentioned by MSM were visited i...</td>\n",
       "      <td>{'key_words': ('HIV', 'MSM', 'education'), 'co...</td>\n",
       "      <td>13</td>\n",
       "    </tr>\n",
       "    <tr>\n",
       "      <th>6</th>\n",
       "      <td>Bertoua</td>\n",
       "      <td>Six services mentioned by MSM were visited in ...</td>\n",
       "      <td>{'key_words': ('HIV', 'MSM', 'education'), 'co...</td>\n",
       "      <td>13</td>\n",
       "    </tr>\n",
       "    <tr>\n",
       "      <th>7</th>\n",
       "      <td>Kribi</td>\n",
       "      <td>Seven services mentioned by MSM were visited i...</td>\n",
       "      <td>{'key_words': ('HIV', 'MSM', 'education'), 'co...</td>\n",
       "      <td>13</td>\n",
       "    </tr>\n",
       "    <tr>\n",
       "      <th>8</th>\n",
       "      <td>Ngaoundere</td>\n",
       "      <td>Eight services mentioned by MSM were visited i...</td>\n",
       "      <td>{'key_words': ('HIV', 'MSM', 'education'), 'co...</td>\n",
       "      <td>12</td>\n",
       "    </tr>\n",
       "    <tr>\n",
       "      <th>9</th>\n",
       "      <td>Bafoussam</td>\n",
       "      <td>Eight services mentioned by MSM were visited i...</td>\n",
       "      <td>{'key_words': ('HIV', 'MSM', 'education'), 'co...</td>\n",
       "      <td>10</td>\n",
       "    </tr>\n",
       "    <tr>\n",
       "      <th>10</th>\n",
       "      <td>OPIES OF ADMINISTRATIVE AUTHORIZATIONS</td>\n",
       "      <td>HIV Prevention for Populations at Risk in Came...</td>\n",
       "      <td>{'key_words': ('HIV', 'MSM', 'education'), 'co...</td>\n",
       "      <td>10</td>\n",
       "    </tr>\n",
       "    <tr>\n",
       "      <th>11</th>\n",
       "      <td>TESTING CARE AND TREATMENT SERVICES</td>\n",
       "      <td>Under the Cameroon National Strategic Plan for...</td>\n",
       "      <td>{'key_words': ('HIV', 'MSM', 'education'), 'co...</td>\n",
       "      <td>9</td>\n",
       "    </tr>\n",
       "    <tr>\n",
       "      <th>12</th>\n",
       "      <td>.</td>\n",
       "      <td>ACMS: Association Camerounaise pour le Marketi...</td>\n",
       "      <td>{'key_words': ('HIV', 'MSM', 'education'), 'co...</td>\n",
       "      <td>9</td>\n",
       "    </tr>\n",
       "    <tr>\n",
       "      <th>13</th>\n",
       "      <td>ONCLUSIONS</td>\n",
       "      <td>Review of the HIV epidemic in West and Central...</td>\n",
       "      <td>{'key_words': ('HIV', 'MSM', 'education'), 'co...</td>\n",
       "      <td>7</td>\n",
       "    </tr>\n",
       "    <tr>\n",
       "      <th>14</th>\n",
       "      <td>RIANGULATION</td>\n",
       "      <td>Numerous studies and data sources covering key...</td>\n",
       "      <td>{'key_words': ('HIV', 'MSM', 'education'), 'co...</td>\n",
       "      <td>6</td>\n",
       "    </tr>\n",
       "    <tr>\n",
       "      <th>15</th>\n",
       "      <td>MSM</td>\n",
       "      <td>The diversity of results across cities for MSM...</td>\n",
       "      <td>{'key_words': ('HIV', 'MSM', 'education'), 'co...</td>\n",
       "      <td>6</td>\n",
       "    </tr>\n",
       "    <tr>\n",
       "      <th>16</th>\n",
       "      <td>FSW</td>\n",
       "      <td>In this section we have attempted to detail wh...</td>\n",
       "      <td>{'key_words': ('HIV', 'MSM', 'education'), 'co...</td>\n",
       "      <td>5</td>\n",
       "    </tr>\n",
       "    <tr>\n",
       "      <th>17</th>\n",
       "      <td>FSW</td>\n",
       "      <td>The diversity of results among FSW across site...</td>\n",
       "      <td>{'key_words': ('HIV', 'MSM', 'education'), 'co...</td>\n",
       "      <td>4</td>\n",
       "    </tr>\n",
       "    <tr>\n",
       "      <th>18</th>\n",
       "      <td>DATA</td>\n",
       "      <td>The collection of data available for triangula...</td>\n",
       "      <td>{'key_words': ('HIV', 'MSM', 'education'), 'co...</td>\n",
       "      <td>3</td>\n",
       "    </tr>\n",
       "    <tr>\n",
       "      <th>19</th>\n",
       "      <td>THICAL REVIEW</td>\n",
       "      <td>A technical review was undertaken by the Camer...</td>\n",
       "      <td>{'key_words': ('HIV', 'MSM', 'education'), 'co...</td>\n",
       "      <td>2</td>\n",
       "    </tr>\n",
       "    <tr>\n",
       "      <th>20</th>\n",
       "      <td>ONDOM AND LUBRICANT USE</td>\n",
       "      <td>33.1% of participants who had engaged in vagin...</td>\n",
       "      <td>{'key_words': ('HIV', 'MSM', 'education'), 'co...</td>\n",
       "      <td>2</td>\n",
       "    </tr>\n",
       "    <tr>\n",
       "      <th>21</th>\n",
       "      <td>MSM</td>\n",
       "      <td>The prevalence of rape among MSM was important...</td>\n",
       "      <td>{'key_words': ('HIV', 'MSM', 'education'), 'co...</td>\n",
       "      <td>2</td>\n",
       "    </tr>\n",
       "    <tr>\n",
       "      <th>22</th>\n",
       "      <td>% % % % % % % %</td>\n",
       "      <td>Male condom use during vaginal sex with client...</td>\n",
       "      <td>{'key_words': ('HIV', 'MSM', 'education'), 'co...</td>\n",
       "      <td>2</td>\n",
       "    </tr>\n",
       "    <tr>\n",
       "      <th>23</th>\n",
       "      <td>CKNOWLEDGEMENTS</td>\n",
       "      <td>We would like to thank the Cameroon Government...</td>\n",
       "      <td>{'key_words': ('HIV', 'MSM', 'education'), 'co...</td>\n",
       "      <td>1</td>\n",
       "    </tr>\n",
       "    <tr>\n",
       "      <th>24</th>\n",
       "      <td>TUDY LIMITATIONS</td>\n",
       "      <td>This study does not permit national extrapolat...</td>\n",
       "      <td>{'key_words': ('HIV', 'MSM', 'education'), 'co...</td>\n",
       "      <td>1</td>\n",
       "    </tr>\n",
       "    <tr>\n",
       "      <th>25</th>\n",
       "      <td>- - - - - -</td>\n",
       "      <td>HIV Prevention for Populations at Risk in Came...</td>\n",
       "      <td>{'key_words': ('HIV', 'MSM', 'education'), 'co...</td>\n",
       "      <td>1</td>\n",
       "    </tr>\n",
       "    <tr>\n",
       "      <th>26</th>\n",
       "      <td>- - - - - -</td>\n",
       "      <td>HIV Prevention for Populations at Risk in Came...</td>\n",
       "      <td>{'key_words': ('HIV', 'MSM', 'education'), 'co...</td>\n",
       "      <td>1</td>\n",
       "    </tr>\n",
       "    <tr>\n",
       "      <th>27</th>\n",
       "      <td>- - - - - -</td>\n",
       "      <td>HIV Prevention for Populations at Risk in Came...</td>\n",
       "      <td>{'key_words': ('HIV', 'MSM', 'education'), 'co...</td>\n",
       "      <td>1</td>\n",
       "    </tr>\n",
       "    <tr>\n",
       "      <th>28</th>\n",
       "      <td>FSW</td>\n",
       "      <td>The prevalence of rape among FSW was high with...</td>\n",
       "      <td>{'key_words': ('HIV', 'MSM', 'education'), 'co...</td>\n",
       "      <td>1</td>\n",
       "    </tr>\n",
       "  </tbody>\n",
       "</table>\n",
       "</div>"
      ],
      "text/plain": [
       "                                              heading  \\\n",
       "0                                            Yaounde    \n",
       "1                                             AMEROON   \n",
       "2                                             Douala    \n",
       "3                                        NTRODUCTION    \n",
       "4                                                MSM    \n",
       "5   HEALTH SERVICE ASSESSMENT: CITY SPECIFIC BREAK...   \n",
       "6                                            Bertoua    \n",
       "7                                              Kribi    \n",
       "8                                        Ngaoundere     \n",
       "9                                          Bafoussam    \n",
       "10             OPIES OF ADMINISTRATIVE AUTHORIZATIONS   \n",
       "11               TESTING CARE AND TREATMENT SERVICES    \n",
       "12                                                 .    \n",
       "13                                        ONCLUSIONS    \n",
       "14                                       RIANGULATION   \n",
       "15                                               MSM    \n",
       "16                                               FSW    \n",
       "17                                               FSW    \n",
       "18                                               DATA   \n",
       "19                                     THICAL REVIEW    \n",
       "20                            ONDOM AND LUBRICANT USE   \n",
       "21                                               MSM    \n",
       "22                                   % % % % % % % %    \n",
       "23                                    CKNOWLEDGEMENTS   \n",
       "24                                  TUDY LIMITATIONS    \n",
       "25                                       - - - - - -    \n",
       "26                                       - - - - - -    \n",
       "27                                       - - - - - -    \n",
       "28                                               FSW    \n",
       "\n",
       "                                                 text  \\\n",
       "0   Nineteen services mentioned by MSM were visite...   \n",
       "1   The results of this study indicate that the be...   \n",
       "2   Twenty services mentioned by MSM were visited ...   \n",
       "3   This study was conducted in the framework of t...   \n",
       "4   In this section we have attempted to detail wh...   \n",
       "5   Eight services mentioned by MSM were visited i...   \n",
       "6   Six services mentioned by MSM were visited in ...   \n",
       "7   Seven services mentioned by MSM were visited i...   \n",
       "8   Eight services mentioned by MSM were visited i...   \n",
       "9   Eight services mentioned by MSM were visited i...   \n",
       "10  HIV Prevention for Populations at Risk in Came...   \n",
       "11  Under the Cameroon National Strategic Plan for...   \n",
       "12  ACMS: Association Camerounaise pour le Marketi...   \n",
       "13  Review of the HIV epidemic in West and Central...   \n",
       "14  Numerous studies and data sources covering key...   \n",
       "15  The diversity of results across cities for MSM...   \n",
       "16  In this section we have attempted to detail wh...   \n",
       "17  The diversity of results among FSW across site...   \n",
       "18  The collection of data available for triangula...   \n",
       "19  A technical review was undertaken by the Camer...   \n",
       "20  33.1% of participants who had engaged in vagin...   \n",
       "21  The prevalence of rape among MSM was important...   \n",
       "22  Male condom use during vaginal sex with client...   \n",
       "23  We would like to thank the Cameroon Government...   \n",
       "24  This study does not permit national extrapolat...   \n",
       "25  HIV Prevention for Populations at Risk in Came...   \n",
       "26  HIV Prevention for Populations at Risk in Came...   \n",
       "27  HIV Prevention for Populations at Risk in Came...   \n",
       "28  The prevalence of rape among FSW was high with...   \n",
       "\n",
       "                                       key_words_info  importance  \n",
       "0   {'key_words': ('HIV', 'MSM', 'education'), 'co...          23  \n",
       "1   {'key_words': ('HIV', 'MSM', 'education'), 'co...          22  \n",
       "2   {'key_words': ('HIV', 'MSM', 'education'), 'co...          19  \n",
       "3   {'key_words': ('HIV', 'MSM', 'education'), 'co...          14  \n",
       "4   {'key_words': ('HIV', 'MSM', 'education'), 'co...          14  \n",
       "5   {'key_words': ('HIV', 'MSM', 'education'), 'co...          13  \n",
       "6   {'key_words': ('HIV', 'MSM', 'education'), 'co...          13  \n",
       "7   {'key_words': ('HIV', 'MSM', 'education'), 'co...          13  \n",
       "8   {'key_words': ('HIV', 'MSM', 'education'), 'co...          12  \n",
       "9   {'key_words': ('HIV', 'MSM', 'education'), 'co...          10  \n",
       "10  {'key_words': ('HIV', 'MSM', 'education'), 'co...          10  \n",
       "11  {'key_words': ('HIV', 'MSM', 'education'), 'co...           9  \n",
       "12  {'key_words': ('HIV', 'MSM', 'education'), 'co...           9  \n",
       "13  {'key_words': ('HIV', 'MSM', 'education'), 'co...           7  \n",
       "14  {'key_words': ('HIV', 'MSM', 'education'), 'co...           6  \n",
       "15  {'key_words': ('HIV', 'MSM', 'education'), 'co...           6  \n",
       "16  {'key_words': ('HIV', 'MSM', 'education'), 'co...           5  \n",
       "17  {'key_words': ('HIV', 'MSM', 'education'), 'co...           4  \n",
       "18  {'key_words': ('HIV', 'MSM', 'education'), 'co...           3  \n",
       "19  {'key_words': ('HIV', 'MSM', 'education'), 'co...           2  \n",
       "20  {'key_words': ('HIV', 'MSM', 'education'), 'co...           2  \n",
       "21  {'key_words': ('HIV', 'MSM', 'education'), 'co...           2  \n",
       "22  {'key_words': ('HIV', 'MSM', 'education'), 'co...           2  \n",
       "23  {'key_words': ('HIV', 'MSM', 'education'), 'co...           1  \n",
       "24  {'key_words': ('HIV', 'MSM', 'education'), 'co...           1  \n",
       "25  {'key_words': ('HIV', 'MSM', 'education'), 'co...           1  \n",
       "26  {'key_words': ('HIV', 'MSM', 'education'), 'co...           1  \n",
       "27  {'key_words': ('HIV', 'MSM', 'education'), 'co...           1  \n",
       "28  {'key_words': ('HIV', 'MSM', 'education'), 'co...           1  "
      ]
     },
     "execution_count": 46,
     "metadata": {},
     "output_type": "execute_result"
    }
   ],
   "source": [
    "df"
   ]
  },
  {
   "cell_type": "code",
   "execution_count": 26,
   "id": "026857e9",
   "metadata": {},
   "outputs": [],
   "source": [
    "#df.to_csv('/home/helix/Documents/UNAIDS/Development/DemoFlask2/SA.csv', index=False)"
   ]
  },
  {
   "cell_type": "code",
   "execution_count": 27,
   "id": "2b51994f",
   "metadata": {},
   "outputs": [],
   "source": [
    "#df[df['heading'] == '2) Gender'].text"
   ]
  },
  {
   "cell_type": "code",
   "execution_count": 47,
   "id": "7b4119b1",
   "metadata": {},
   "outputs": [
    {
     "data": {
      "text/plain": [
       "29"
      ]
     },
     "execution_count": 47,
     "metadata": {},
     "output_type": "execute_result"
    }
   ],
   "source": [
    "len(paragraphs_with_key_words)"
   ]
  },
  {
   "cell_type": "code",
   "execution_count": 48,
   "id": "c6c625f2",
   "metadata": {},
   "outputs": [
    {
     "data": {
      "text/plain": [
       "'Six services mentioned by MSM were visited in Bertoua including four public facilities, and 2 private. Two of the services reported specialized training for staff in dealing with MSM or FSW. All of the services had undertaken HIV counseling and testing in the past month and one, which was an association, had undertaken specialized sessions (for MSM or FSW), three of the six services had provided ARV medication in last month and all of these reported ARV shortages in the last 12 months. HIV Prevention for Populations at Risk in Cameroon - final report (4 July 2013).43 Of the top three services listed, none had specialized training on the health needs of MSM or FSW, two of the three provided ARV medication and both reported ARV stock outages in the past 12 months. Eight services mentioned by FSW were visited in Bertoua including four public facilities, three private and one CBO. Four of the services reported specialized training for staff in dealing with MSM or FSW. All of the services had undertaken HIV counseling and testing in the past month and three had undertaken specialized sessions (for MSM or FSW), four services had provided ARV medication in last month and all of these reported ARV shortages in the last 12 months. Of the top five services or centers listed by FSW, two of them provided ARV mediation in the past 12 months and both reported ARV stock outages (the same two listed by the MSM population). It is noteworthy that the centers that reported specialized FSW/MSM activity were PEPFAR funded localities, and also did not provide care and treatment services. In Bertoua, 4.9% of the MSM population and 9.6% of the FSW population reported seeking, knowing or receiving no HIV prevention, care or treatment service. '"
      ]
     },
     "execution_count": 48,
     "metadata": {},
     "output_type": "execute_result"
    }
   ],
   "source": [
    "paragraphs_with_key_words[6]['text']"
   ]
  },
  {
   "cell_type": "code",
   "execution_count": 49,
   "id": "58f25007",
   "metadata": {},
   "outputs": [
    {
     "data": {
      "text/plain": [
       "[{'summary_text': ' In Bertoua, 4.9% of the MSM population and 9.6% of FSW population reported seeking, knowing or receiving no HIV prevention, care or treatment service . Four services mentioned by FSW reported specialized training for staff in dealing with MSM or FSW .'}]"
      ]
     },
     "execution_count": 49,
     "metadata": {},
     "output_type": "execute_result"
    }
   ],
   "source": [
    "summa(paragraphs_with_key_words[6]['text'])"
   ]
  },
  {
   "cell_type": "code",
   "execution_count": 217,
   "id": "e4e15b06",
   "metadata": {},
   "outputs": [],
   "source": [
    "# Loop to automatize this process\n",
    "lista = []\n",
    "summaries = []\n",
    "for i in range(0,len(paragraphs_with_key_words)):\n",
    "     lista.append(paragraphs_with_key_words[i]['text'])\n",
    "    \n",
    "     summaries.append(summa(paragraphs_with_key_words[i]['text']))\n"
   ]
  },
  {
   "cell_type": "code",
   "execution_count": null,
   "id": "8d238701-2ed5-4f61-a9d2-0e4f7ea1ecd3",
   "metadata": {},
   "outputs": [],
   "source": []
  },
  {
   "cell_type": "markdown",
   "id": "184b9ebf",
   "metadata": {},
   "source": [
    "# MongoDB"
   ]
  },
  {
   "cell_type": "code",
   "execution_count": 22,
   "id": "cd1c77c1",
   "metadata": {},
   "outputs": [],
   "source": [
    "country = \"colombia\""
   ]
  },
  {
   "cell_type": "code",
   "execution_count": 44,
   "id": "00206ffd",
   "metadata": {},
   "outputs": [],
   "source": [
    "# importing module\n",
    "from pymongo import MongoClient\n",
    "  \n",
    "# creation of MongoClient\n",
    "client=MongoClient()\n",
    "  \n",
    "# Connect with the portnumber and host\n",
    "client = MongoClient(\"mongodb://localhost:27017/\")\n",
    "  \n",
    "# Access database\n",
    "mydatabase = client[\"UNAIDS_db\"]\n",
    "  \n",
    "# Access collection of the database\n",
    "mycollection = mydatabase[\"summaryTable\"]\n",
    " "
   ]
  },
  {
   "cell_type": "code",
   "execution_count": 54,
   "id": "de8b7e47",
   "metadata": {},
   "outputs": [],
   "source": [
    "for para in paragraphs_with_key_words:\n",
    "    mydatabase.summaryTable.insert_one(para)"
   ]
  },
  {
   "cell_type": "code",
   "execution_count": 55,
   "id": "218facea",
   "metadata": {},
   "outputs": [
    {
     "name": "stdout",
     "output_type": "stream",
     "text": [
      "{'_id': ObjectId('6093c92a2799b9616a6f8a11'), 'heading': '6. Conclusions ', 'text': 'The costing of HIV interventions in this study is based on 2016 HIV guidelines and considers two scenarios: NASCOP and Standard. The NASCOP scenario was based on national HIV programme targets towards achievement of 90-90-90, and the Standard scenario was based on the assumption that the guidelines would be fully implemented as spelt out in the 2016 ART guidelines. In the NASCOP scenario, the population base is assumed to be constant for the four-year costing projections, while the Standard scenario adjusts its population in need to consider incidence, mortality, and population growth rates. However, both scenarios considered two key assumptions: the gains obtained from the reduction in HIV mortality and the reduction in HIV incidence rates. Findings have shown that the average annual cost of putting a patient on ARVs is Ksh 12,032.36 (US$115.7). The Standard scenario costs more than the NASCOP scenario, although differences vary across programme areas. The key biomedical cost drivers in both scenarios were ARTs and laboratory management. Although non-biomedical interventions seemed to be a cost driver, these cost estimates were derived as a proportion of the total cost based on the report of a cost study of HIV treatment conducted in 2013 (U.S. Centers for Diseases Control and Kenya Ministry of Health, (2013), which had an in-depth micro-costing of both medical and non-medical HIV programme interventions. In conclusion, there is an expected escalation in future costs with the implementation of the new 2016 ART guidelines. This is due to inclusion of more people living with HIV in care and treatment programmes, and further enhanced by a reduction in HIV-related mortality. The inclusion of PrEP and PEP as prevention measures might have a significant impact on reducing the HIV incidence rate. This will, however, come with a considerable increase in the resources needed to fund interventions. Therefore, the key policy interventions introduced in the new guidelines center on prevention and acceleration of treatment aimed at reducing HIV incidence rates and related mortalities. This calls for resources to cover an increased number of people targeted for care and treatment programmes. A lowered mortality rate achieved through an ART programme implies increased HIV costs, as the number of people living with HIV who require HIV care will also increase. Kenya must explore channels for financing its increased need for HIV care and treatment. These could include coverage of HIV services in health insurance benefits packages (social or private health insurance), increased domestic resource mobilisation (including allocations from national and county governments), and engaging the private sector to play a bigger role in HIV financing. 20', 'key_words_info': {'key_words': ['HIV', 'sex'], 'counts': [17, 0]}, 'importance': 17, 'country': 'kenya'}\n",
      "{'_id': ObjectId('6093c92a2799b9616a6f8a12'), 'heading': 'Executive Summary ', 'text': 'In 2016, the Ministry of Health (MOH) updated Kenya’s national HIV guidelines to provide guidance on the use of antiretrovirals (ARVs) to treat and prevent HIV infection. To inform implementation and resource mobilisation, the MOH needed to understand the costing implications of implementing the new guidelines. This created the need for a study to estimate the costs of implementing the new guidelines, based on the country targets and covering all known people living with HIV in Kenya. This study adopted a micro-costing approach using population data from 2015 HIV revised estimates. The study considered two costing scenarios—the “NASCOP scenario,” based on NASCOP (National AIDS/STI Control Programme) targets to achieve the UNAIDS 90-90-90 targets; and the “Standard scenario,” based on full adoption of the new guidelines. The results show that the average annual unit cost of an adult on ARVs is Ksh 12,032.36 (US$115.7). The unit cost varies by regimen type, with the unit cost of an adults first-line regimen being Ksh 9,501.44 (US$91.4) per year, compared to Ksh 26,499.20 (US$254.8) for second-line. The annual unit cost of pediatric ARVs was estimated at Ksh 17,800.64 (US$171.2) per patient. As shown in Table E1, implementation of the new antiretroviral therapy (ART) guidelines under the Standard scenario will cost about 20 percent more than under the NASCOP scenario. The estimated cost of implementingthe new guidelines under the NASCOP and Standard scenarios in the next four years (FY2016/17–2019/20) is Ksh 197.8 billion (US$1.9 billion) and Ksh 239.2 billion (US$2.3 billion), respectively. The higher costs under the Standard scenario can explained by the higher number of people living with HIV expected to be initiated on treatment. In both scenarios, key commodities (ARVs, laboratory management, and test kits) are the main cost drivers, accounting for 61 percent of the total cost (seeTable E1). ', 'key_words_info': {'key_words': ['HIV', 'sex'], 'counts': [5, 0]}, 'importance': 5, 'country': 'kenya'}\n",
      "{'_id': ObjectId('6093c92a2799b9616a6f8a13'), 'heading': '5.7 HIV testing services for the general population   ', 'text': 'Under the NASCOP scenario, HIV testing services cost approximately Ksh 1 billion (US$10 million) in 2016/17 (see Figure 13). The total cost drops over the two subsequent periods and then increases slightly in the last period. Key cost drivers for HIV testing services are the HIV rapid kits, at a cost of approximately Ksh 936 million (US$9 million), and blood collection bags. The reason for the low estimated costs for confirmatory tests is that the test is only administered to people who have tested positive from the HIV rapid kits—this is expected to be a small proportion of the total population under testing. ', 'key_words_info': {'key_words': ['HIV', 'sex'], 'counts': [5, 0]}, 'importance': 5, 'country': 'kenya'}\n",
      "{'_id': ObjectId('6093c92a2799b9616a6f8a14'), 'heading': 'List of Figures ', 'text': 'Figure E1: Relative Costs for NCD Screening, by Disease (FY2016/17–2019/20) .......... ix Figure 1: Linkages between Key Programmatic Areas and Costing Framework for 2016 HIV Guidelines ................................................................................................... 6 Figure 2: Trend in the Costs of HIV 2016 Guideline Implementation ........................... 10 Figure 3: Costs of Routine Adult and Pediatric ARVs under NASCOP Scenario............ 10 Figure 4: Trend in Costs of Providing ARVs for Care and Treatment ............................. 11 Figure 5: Laboratory Management: Adults versus Pediatrics, NASCOP Scenario .......... 11 Figure 6: Costs of Laboratory Management between NASCOP and Standard Scenarios ......................................................................................................... 12 Figure 7: Costs of Viral Load Test ................................................................................... 12 Figure 8: Cost for PEP, NASCOP and Standard Scenarios ............................................. 13 Figure 9: PMTCT, NASCOP Scenario ............................................................................. 13 Figure 10: PMTCT Costs, NASCOP versus Standard Scenarios ..................................... 14 Figure 11: PrEP, NASCOP Scenario ................................................................................ 14 Figure 12: PrEP, NASCOP versus Standard Scenarios ................................................... 15 Figure 13: HIV Testing Services Cost Estimates, NASCOP Scenario.............................. 15 Figure 14: HIV Testing Services Cost Estimates, NASCOP versus Standard Scenarios ......................................................................................................... 16 Figure 15: Screening NCD and Co-morbidities, NASCOP Scenario ............................... 16 Figure 16: Screening for NCDs and Co-morbidities, NASCOP versus Standard Scenarios ......................................................................................................... 17 Figure 17: Medicines for Opportunistic Diseases, NASCOP Scenario ............................ 17 Figure 18: Medicines for Opportunistic Diseases, NASCOP versus Standard Scenarios ......................................................................................................... 18 v ', 'key_words_info': {'key_words': ['HIV', 'sex'], 'counts': [4, 0]}, 'importance': 4, 'country': 'kenya'}\n",
      "{'_id': ObjectId('6093c92a2799b9616a6f8a15'), 'heading': '5.5 Prevention of mother-to-child transmission ', 'text': 'Figure 9 shows the estimated cost of PMTCT using the NASCOP scenario. The PMTCT costs incorporate three estimated cost components: rapid HIV testing for pregnant mothers, early infant diagnosis (or infant PCR test), and prophylaxis (the primary cost driver). HIV rapid testing for pregnant mothers, which includes blood collection bags and testing kits, is the second-greatest cost driver. The proportion of pregnant and breastfeeding women living with HIV remains constant over the four-year period, in line with the targets set by the national HIV programme. ', 'key_words_info': {'key_words': ['HIV', 'sex'], 'counts': [4, 0]}, 'importance': 4, 'country': 'kenya'}\n",
      "{'_id': ObjectId('6093c92a2799b9616a6f8a16'), 'heading': '2.Summary of the 2016 HIV Guidelines on the Use of Antiretroviral Drugs for Treating and Preventing HIV Infection in Kenya ', 'text': 'This section summarises key programme areas covered in the 2016 HIV guidelines. (For a detailed description, see MOH and NASCOP, 2016). ', 'key_words_info': {'key_words': ['HIV', 'sex'], 'counts': [3, 0]}, 'importance': 3, 'country': 'kenya'}\n",
      "{'_id': ObjectId('6093c92a2799b9616a6f8a17'), 'heading': '5.9 Medicines for opportunistic diseases ', 'text': 'Figure 17 shows that the estimated cost of medicines for opportunistic diseases is projected to increase over time. This is consistent with the target of getting more people living with HIV into care over the projected period, as Kenya moves towards achieving the 90-90-90 targets under the test-and-treat policy. The new guidelines emphasise the need to put people living with HIV on medicines for opportunistic diseases to reduce their mortality rate. A lower mortality rate is expected to bring additional costs as demand for medicines for opportunistic diseases increases. The key driver of this programme cost is the cost for adults, which is not surprising as adults account for the bulk of people living with HIV. ', 'key_words_info': {'key_words': ['HIV', 'sex'], 'counts': [3, 0]}, 'importance': 3, 'country': 'kenya'}\n",
      "{'_id': ObjectId('6093c92a2799b9616a6f8a18'), 'heading': '5.6 Pre-exposure prophylaxis ', 'text': 'Figure 11 shows the cost of providing PrEP under the NASCOP scenario. This cost will increase to more than double current levels in the next four years as a result of increases in HIV-negative key populations under this prevention programme. The key cost driver under this programme is the regimen cost (the cost of ARVs), which increases over the entire period. However, the cost of HIV testing is also significant due to the numerous tests expected under this prevention programme.', 'key_words_info': {'key_words': ['HIV', 'sex'], 'counts': [2, 0]}, 'importance': 2, 'country': 'kenya'}\n",
      "{'_id': ObjectId('6093c92a2799b9616a6f8a19'), 'heading': '5.8 NCDs and other co-morbidity ', 'text': 'The 2016 ART guidelines recommend screening among people living with HIV for key NCDs and co-morbidities, including cancer, high blood pressure, hepatitis B and C, diabetes, and liver functions. Figure 15 shows the estimated cost of screening for these NCDs and co-morbidities under the NASCOP scenario. Screening for cervical cancer, diabetes, and cholesterol are the main cost drivers for this new programme area. The estimates show rising costs in line with an increased incidence rate of NCDs and co-morbidities over the time periods, given that the NASCOP scenario expects to put more people living with HIV on treatment in the future and that the incidence rate is positive over the entire period. ', 'key_words_info': {'key_words': ['HIV', 'sex'], 'counts': [2, 0]}, 'importance': 2, 'country': 'kenya'}\n",
      "{'_id': ObjectId('6093c92a2799b9616a6f8a1a'), 'heading': '1.1 Context  ', 'text': 'HIV and AIDS remain a major public health problem in Kenya. Therefore, there is continued need for guidance from the Ministry of Health (MOH) and other key stakeholders on how to manage current and new infections. According to the ', 'key_words_info': {'key_words': ['HIV', 'sex'], 'counts': [1, 0]}, 'importance': 1, 'country': 'kenya'}\n",
      "{'_id': ObjectId('6093c92a2799b9616a6f8a1b'), 'heading': '1.2 Study Objectives ', 'text': 'The costing exercise addresses two questions: a)What is the cost of implementing the 2016 ART guidelines based on the country targets? b)What is the total cost of implementing the 2016 ART guidelines to cover 100 percent of known people living with HIV? ', 'key_words_info': {'key_words': ['HIV', 'sex'], 'counts': [1, 0]}, 'importance': 1, 'country': 'kenya'}\n",
      "{'_id': ObjectId('6093c92a2799b9616a6f8a1c'), 'heading': '5. Costing Results ', 'text': 'This section presents the estimated cost of HIV treatment and prevention, based on the revised 2016 guidelines. The data shows the aggregated cost estimated for the NASCOP and Standard scenarios. This is followed by a disaggregation of these costs by programme area, and compared across two scenarios to provide some insight on what the guideline implementation would cost in the next four years. ', 'key_words_info': {'key_words': ['HIV', 'sex'], 'counts': [1, 0]}, 'importance': 1, 'country': 'kenya'}\n",
      "{'_id': ObjectId('6093c92a2799b9616a6f8a1d'), 'heading': '5.1 Estimated HIV programme costs between NASCOP and Standard scenarios ', 'text': 'The results presented in Table 1 show that the average unit cost of putting a patient on ARVs per year is Ksh 12,032.4 (US$115.7). The unit cost varies by regimen type, with the unit cost of an adult first-line ARV regimen at Ksh 9,501.44 (US$91.4) and second-line at Ksh 26,499.20 (US$254.8) per year. On the other hand, the annual unit cost of pediatric ARVs is 17,800.64 (US$171.2) per patient. ', 'key_words_info': {'key_words': ['HIV', 'sex'], 'counts': [1, 0]}, 'importance': 1, 'country': 'kenya'}\n",
      "{'_id': ObjectId('6093c92a2799b9616a6f8a1e'), 'heading': '5.4 Cost of post-exposure prophylaxis ', 'text': 'The costs of providing PEP under the NASCOP and Standard scenarios were equal at Ksh 555.7 million (US$5.3 million), structured as shown in Figure 8. The lack of variation between the two scenarios is explained by an assumption that an equal population will require PEP in both cases, because PEP population estimates were based on programme data and are the same in both scenarios. It is also assumed that ARVs for PEP are included under general adult ARV cost estimates. Therefore, the main cost elements were identified as additional HIV testing and kidney tests needed for the PEP programme due to use of a TDF regimen. 13 ', 'key_words_info': {'key_words': ['HIV', 'sex'], 'counts': [1, 0]}, 'importance': 1, 'country': 'kenya'}\n",
      "{'_id': ObjectId('6093c92a2799b9616a6f8a1f'), 'heading': '7.Study Limitations ', 'text': '1.The only data available on mortality rates for people living with HIV comes from the mortuary survey. This study is not representative of the current nationwide attrition rate, as it is based on Nairobi County data. A mortuary survey should be administered nationwide to create a countrywide database for attrition rate. 2.The costing model has not incorporated a six-month buffer stock, as this was not in the scope of the study. The model, however, can be customised to capture the buffer stock when used for commodity quantification for processes such as the Global Fund application. 3.The estimates for non-medical costs were based on the ', 'key_words_info': {'key_words': ['HIV', 'sex'], 'counts': [1, 0]}, 'importance': 1, 'country': 'kenya'}\n",
      "{'_id': ObjectId('6093c9f92799b9616a6f8a20'), 'heading': '6. Conclusions ', 'text': 'The costing of HIV interventions in this study is based on 2016 HIV guidelines and considers two scenarios: NASCOP and Standard. The NASCOP scenario was based on national HIV programme targets towards achievement of 90-90-90, and the Standard scenario was based on the assumption that the guidelines would be fully implemented as spelt out in the 2016 ART guidelines. In the NASCOP scenario, the population base is assumed to be constant for the four-year costing projections, while the Standard scenario adjusts its population in need to consider incidence, mortality, and population growth rates. However, both scenarios considered two key assumptions: the gains obtained from the reduction in HIV mortality and the reduction in HIV incidence rates. Findings have shown that the average annual cost of putting a patient on ARVs is Ksh 12,032.36 (US$115.7). The Standard scenario costs more than the NASCOP scenario, although differences vary across programme areas. The key biomedical cost drivers in both scenarios were ARTs and laboratory management. Although non-biomedical interventions seemed to be a cost driver, these cost estimates were derived as a proportion of the total cost based on the report of a cost study of HIV treatment conducted in 2013 (U.S. Centers for Diseases Control and Kenya Ministry of Health, (2013), which had an in-depth micro-costing of both medical and non-medical HIV programme interventions. In conclusion, there is an expected escalation in future costs with the implementation of the new 2016 ART guidelines. This is due to inclusion of more people living with HIV in care and treatment programmes, and further enhanced by a reduction in HIV-related mortality. The inclusion of PrEP and PEP as prevention measures might have a significant impact on reducing the HIV incidence rate. This will, however, come with a considerable increase in the resources needed to fund interventions. Therefore, the key policy interventions introduced in the new guidelines center on prevention and acceleration of treatment aimed at reducing HIV incidence rates and related mortalities. This calls for resources to cover an increased number of people targeted for care and treatment programmes. A lowered mortality rate achieved through an ART programme implies increased HIV costs, as the number of people living with HIV who require HIV care will also increase. Kenya must explore channels for financing its increased need for HIV care and treatment. These could include coverage of HIV services in health insurance benefits packages (social or private health insurance), increased domestic resource mobilisation (including allocations from national and county governments), and engaging the private sector to play a bigger role in HIV financing. 20', 'key_words_info': {'key_words': ['HIV', 'sex'], 'counts': [17, 0]}, 'importance': 17}\n",
      "{'_id': ObjectId('6093c9f92799b9616a6f8a21'), 'heading': 'Executive Summary ', 'text': 'In 2016, the Ministry of Health (MOH) updated Kenya’s national HIV guidelines to provide guidance on the use of antiretrovirals (ARVs) to treat and prevent HIV infection. To inform implementation and resource mobilisation, the MOH needed to understand the costing implications of implementing the new guidelines. This created the need for a study to estimate the costs of implementing the new guidelines, based on the country targets and covering all known people living with HIV in Kenya. This study adopted a micro-costing approach using population data from 2015 HIV revised estimates. The study considered two costing scenarios—the “NASCOP scenario,” based on NASCOP (National AIDS/STI Control Programme) targets to achieve the UNAIDS 90-90-90 targets; and the “Standard scenario,” based on full adoption of the new guidelines. The results show that the average annual unit cost of an adult on ARVs is Ksh 12,032.36 (US$115.7). The unit cost varies by regimen type, with the unit cost of an adults first-line regimen being Ksh 9,501.44 (US$91.4) per year, compared to Ksh 26,499.20 (US$254.8) for second-line. The annual unit cost of pediatric ARVs was estimated at Ksh 17,800.64 (US$171.2) per patient. As shown in Table E1, implementation of the new antiretroviral therapy (ART) guidelines under the Standard scenario will cost about 20 percent more than under the NASCOP scenario. The estimated cost of implementingthe new guidelines under the NASCOP and Standard scenarios in the next four years (FY2016/17–2019/20) is Ksh 197.8 billion (US$1.9 billion) and Ksh 239.2 billion (US$2.3 billion), respectively. The higher costs under the Standard scenario can explained by the higher number of people living with HIV expected to be initiated on treatment. In both scenarios, key commodities (ARVs, laboratory management, and test kits) are the main cost drivers, accounting for 61 percent of the total cost (seeTable E1). ', 'key_words_info': {'key_words': ['HIV', 'sex'], 'counts': [5, 0]}, 'importance': 5}\n",
      "{'_id': ObjectId('6093c9f92799b9616a6f8a22'), 'heading': '5.7 HIV testing services for the general population   ', 'text': 'Under the NASCOP scenario, HIV testing services cost approximately Ksh 1 billion (US$10 million) in 2016/17 (see Figure 13). The total cost drops over the two subsequent periods and then increases slightly in the last period. Key cost drivers for HIV testing services are the HIV rapid kits, at a cost of approximately Ksh 936 million (US$9 million), and blood collection bags. The reason for the low estimated costs for confirmatory tests is that the test is only administered to people who have tested positive from the HIV rapid kits—this is expected to be a small proportion of the total population under testing. ', 'key_words_info': {'key_words': ['HIV', 'sex'], 'counts': [5, 0]}, 'importance': 5}\n",
      "{'_id': ObjectId('6093c9f92799b9616a6f8a23'), 'heading': 'List of Figures ', 'text': 'Figure E1: Relative Costs for NCD Screening, by Disease (FY2016/17–2019/20) .......... ix Figure 1: Linkages between Key Programmatic Areas and Costing Framework for 2016 HIV Guidelines ................................................................................................... 6 Figure 2: Trend in the Costs of HIV 2016 Guideline Implementation ........................... 10 Figure 3: Costs of Routine Adult and Pediatric ARVs under NASCOP Scenario............ 10 Figure 4: Trend in Costs of Providing ARVs for Care and Treatment ............................. 11 Figure 5: Laboratory Management: Adults versus Pediatrics, NASCOP Scenario .......... 11 Figure 6: Costs of Laboratory Management between NASCOP and Standard Scenarios ......................................................................................................... 12 Figure 7: Costs of Viral Load Test ................................................................................... 12 Figure 8: Cost for PEP, NASCOP and Standard Scenarios ............................................. 13 Figure 9: PMTCT, NASCOP Scenario ............................................................................. 13 Figure 10: PMTCT Costs, NASCOP versus Standard Scenarios ..................................... 14 Figure 11: PrEP, NASCOP Scenario ................................................................................ 14 Figure 12: PrEP, NASCOP versus Standard Scenarios ................................................... 15 Figure 13: HIV Testing Services Cost Estimates, NASCOP Scenario.............................. 15 Figure 14: HIV Testing Services Cost Estimates, NASCOP versus Standard Scenarios ......................................................................................................... 16 Figure 15: Screening NCD and Co-morbidities, NASCOP Scenario ............................... 16 Figure 16: Screening for NCDs and Co-morbidities, NASCOP versus Standard Scenarios ......................................................................................................... 17 Figure 17: Medicines for Opportunistic Diseases, NASCOP Scenario ............................ 17 Figure 18: Medicines for Opportunistic Diseases, NASCOP versus Standard Scenarios ......................................................................................................... 18 v ', 'key_words_info': {'key_words': ['HIV', 'sex'], 'counts': [4, 0]}, 'importance': 4}\n",
      "{'_id': ObjectId('6093c9f92799b9616a6f8a24'), 'heading': '5.5 Prevention of mother-to-child transmission ', 'text': 'Figure 9 shows the estimated cost of PMTCT using the NASCOP scenario. The PMTCT costs incorporate three estimated cost components: rapid HIV testing for pregnant mothers, early infant diagnosis (or infant PCR test), and prophylaxis (the primary cost driver). HIV rapid testing for pregnant mothers, which includes blood collection bags and testing kits, is the second-greatest cost driver. The proportion of pregnant and breastfeeding women living with HIV remains constant over the four-year period, in line with the targets set by the national HIV programme. ', 'key_words_info': {'key_words': ['HIV', 'sex'], 'counts': [4, 0]}, 'importance': 4}\n",
      "{'_id': ObjectId('6093c9f92799b9616a6f8a25'), 'heading': '2.Summary of the 2016 HIV Guidelines on the Use of Antiretroviral Drugs for Treating and Preventing HIV Infection in Kenya ', 'text': 'This section summarises key programme areas covered in the 2016 HIV guidelines. (For a detailed description, see MOH and NASCOP, 2016). ', 'key_words_info': {'key_words': ['HIV', 'sex'], 'counts': [3, 0]}, 'importance': 3}\n",
      "{'_id': ObjectId('6093c9f92799b9616a6f8a26'), 'heading': '5.9 Medicines for opportunistic diseases ', 'text': 'Figure 17 shows that the estimated cost of medicines for opportunistic diseases is projected to increase over time. This is consistent with the target of getting more people living with HIV into care over the projected period, as Kenya moves towards achieving the 90-90-90 targets under the test-and-treat policy. The new guidelines emphasise the need to put people living with HIV on medicines for opportunistic diseases to reduce their mortality rate. A lower mortality rate is expected to bring additional costs as demand for medicines for opportunistic diseases increases. The key driver of this programme cost is the cost for adults, which is not surprising as adults account for the bulk of people living with HIV. ', 'key_words_info': {'key_words': ['HIV', 'sex'], 'counts': [3, 0]}, 'importance': 3}\n",
      "{'_id': ObjectId('6093c9f92799b9616a6f8a27'), 'heading': '5.6 Pre-exposure prophylaxis ', 'text': 'Figure 11 shows the cost of providing PrEP under the NASCOP scenario. This cost will increase to more than double current levels in the next four years as a result of increases in HIV-negative key populations under this prevention programme. The key cost driver under this programme is the regimen cost (the cost of ARVs), which increases over the entire period. However, the cost of HIV testing is also significant due to the numerous tests expected under this prevention programme.', 'key_words_info': {'key_words': ['HIV', 'sex'], 'counts': [2, 0]}, 'importance': 2}\n",
      "{'_id': ObjectId('6093c9f92799b9616a6f8a28'), 'heading': '5.8 NCDs and other co-morbidity ', 'text': 'The 2016 ART guidelines recommend screening among people living with HIV for key NCDs and co-morbidities, including cancer, high blood pressure, hepatitis B and C, diabetes, and liver functions. Figure 15 shows the estimated cost of screening for these NCDs and co-morbidities under the NASCOP scenario. Screening for cervical cancer, diabetes, and cholesterol are the main cost drivers for this new programme area. The estimates show rising costs in line with an increased incidence rate of NCDs and co-morbidities over the time periods, given that the NASCOP scenario expects to put more people living with HIV on treatment in the future and that the incidence rate is positive over the entire period. ', 'key_words_info': {'key_words': ['HIV', 'sex'], 'counts': [2, 0]}, 'importance': 2}\n",
      "{'_id': ObjectId('6093c9f92799b9616a6f8a29'), 'heading': '1.1 Context  ', 'text': 'HIV and AIDS remain a major public health problem in Kenya. Therefore, there is continued need for guidance from the Ministry of Health (MOH) and other key stakeholders on how to manage current and new infections. According to the ', 'key_words_info': {'key_words': ['HIV', 'sex'], 'counts': [1, 0]}, 'importance': 1}\n",
      "{'_id': ObjectId('6093c9f92799b9616a6f8a2a'), 'heading': '1.2 Study Objectives ', 'text': 'The costing exercise addresses two questions: a)What is the cost of implementing the 2016 ART guidelines based on the country targets? b)What is the total cost of implementing the 2016 ART guidelines to cover 100 percent of known people living with HIV? ', 'key_words_info': {'key_words': ['HIV', 'sex'], 'counts': [1, 0]}, 'importance': 1}\n",
      "{'_id': ObjectId('6093c9f92799b9616a6f8a2b'), 'heading': '5. Costing Results ', 'text': 'This section presents the estimated cost of HIV treatment and prevention, based on the revised 2016 guidelines. The data shows the aggregated cost estimated for the NASCOP and Standard scenarios. This is followed by a disaggregation of these costs by programme area, and compared across two scenarios to provide some insight on what the guideline implementation would cost in the next four years. ', 'key_words_info': {'key_words': ['HIV', 'sex'], 'counts': [1, 0]}, 'importance': 1}\n",
      "{'_id': ObjectId('6093c9f92799b9616a6f8a2c'), 'heading': '5.1 Estimated HIV programme costs between NASCOP and Standard scenarios ', 'text': 'The results presented in Table 1 show that the average unit cost of putting a patient on ARVs per year is Ksh 12,032.4 (US$115.7). The unit cost varies by regimen type, with the unit cost of an adult first-line ARV regimen at Ksh 9,501.44 (US$91.4) and second-line at Ksh 26,499.20 (US$254.8) per year. On the other hand, the annual unit cost of pediatric ARVs is 17,800.64 (US$171.2) per patient. ', 'key_words_info': {'key_words': ['HIV', 'sex'], 'counts': [1, 0]}, 'importance': 1}\n",
      "{'_id': ObjectId('6093c9f92799b9616a6f8a2d'), 'heading': '5.4 Cost of post-exposure prophylaxis ', 'text': 'The costs of providing PEP under the NASCOP and Standard scenarios were equal at Ksh 555.7 million (US$5.3 million), structured as shown in Figure 8. The lack of variation between the two scenarios is explained by an assumption that an equal population will require PEP in both cases, because PEP population estimates were based on programme data and are the same in both scenarios. It is also assumed that ARVs for PEP are included under general adult ARV cost estimates. Therefore, the main cost elements were identified as additional HIV testing and kidney tests needed for the PEP programme due to use of a TDF regimen. 13 ', 'key_words_info': {'key_words': ['HIV', 'sex'], 'counts': [1, 0]}, 'importance': 1}\n",
      "{'_id': ObjectId('6093c9f92799b9616a6f8a2e'), 'heading': '7.Study Limitations ', 'text': '1.The only data available on mortality rates for people living with HIV comes from the mortuary survey. This study is not representative of the current nationwide attrition rate, as it is based on Nairobi County data. A mortuary survey should be administered nationwide to create a countrywide database for attrition rate. 2.The costing model has not incorporated a six-month buffer stock, as this was not in the scope of the study. The model, however, can be customised to capture the buffer stock when used for commodity quantification for processes such as the Global Fund application. 3.The estimates for non-medical costs were based on the ', 'key_words_info': {'key_words': ['HIV', 'sex'], 'counts': [1, 0]}, 'importance': 1}\n"
     ]
    }
   ],
   "source": [
    "cursor = mycollection.find()\n",
    "for record in cursor:\n",
    "    print(record)"
   ]
  },
  {
   "cell_type": "code",
   "execution_count": 57,
   "id": "7775b0e7",
   "metadata": {},
   "outputs": [
    {
     "name": "stdout",
     "output_type": "stream",
     "text": [
      "{'_id': ObjectId('6093c92a2799b9616a6f8a11'), 'heading': '6. Conclusions ', 'text': 'The costing of HIV interventions in this study is based on 2016 HIV guidelines and considers two scenarios: NASCOP and Standard. The NASCOP scenario was based on national HIV programme targets towards achievement of 90-90-90, and the Standard scenario was based on the assumption that the guidelines would be fully implemented as spelt out in the 2016 ART guidelines. In the NASCOP scenario, the population base is assumed to be constant for the four-year costing projections, while the Standard scenario adjusts its population in need to consider incidence, mortality, and population growth rates. However, both scenarios considered two key assumptions: the gains obtained from the reduction in HIV mortality and the reduction in HIV incidence rates. Findings have shown that the average annual cost of putting a patient on ARVs is Ksh 12,032.36 (US$115.7). The Standard scenario costs more than the NASCOP scenario, although differences vary across programme areas. The key biomedical cost drivers in both scenarios were ARTs and laboratory management. Although non-biomedical interventions seemed to be a cost driver, these cost estimates were derived as a proportion of the total cost based on the report of a cost study of HIV treatment conducted in 2013 (U.S. Centers for Diseases Control and Kenya Ministry of Health, (2013), which had an in-depth micro-costing of both medical and non-medical HIV programme interventions. In conclusion, there is an expected escalation in future costs with the implementation of the new 2016 ART guidelines. This is due to inclusion of more people living with HIV in care and treatment programmes, and further enhanced by a reduction in HIV-related mortality. The inclusion of PrEP and PEP as prevention measures might have a significant impact on reducing the HIV incidence rate. This will, however, come with a considerable increase in the resources needed to fund interventions. Therefore, the key policy interventions introduced in the new guidelines center on prevention and acceleration of treatment aimed at reducing HIV incidence rates and related mortalities. This calls for resources to cover an increased number of people targeted for care and treatment programmes. A lowered mortality rate achieved through an ART programme implies increased HIV costs, as the number of people living with HIV who require HIV care will also increase. Kenya must explore channels for financing its increased need for HIV care and treatment. These could include coverage of HIV services in health insurance benefits packages (social or private health insurance), increased domestic resource mobilisation (including allocations from national and county governments), and engaging the private sector to play a bigger role in HIV financing. 20', 'key_words_info': {'key_words': ['HIV', 'sex'], 'counts': [17, 0]}, 'importance': 17, 'country': 'kenya'}\n"
     ]
    }
   ],
   "source": [
    "# Find first document\n",
    "x = mycollection.find_one()\n",
    "print(x)"
   ]
  },
  {
   "cell_type": "code",
   "execution_count": 58,
   "id": "6f820118",
   "metadata": {},
   "outputs": [
    {
     "data": {
      "text/plain": [
       "dict_keys(['_id', 'heading', 'text', 'key_words_info', 'importance', 'country'])"
      ]
     },
     "execution_count": 58,
     "metadata": {},
     "output_type": "execute_result"
    }
   ],
   "source": [
    "x.keys()"
   ]
  },
  {
   "cell_type": "code",
   "execution_count": 64,
   "id": "5a2a7c96",
   "metadata": {},
   "outputs": [],
   "source": [
    "# Filtering the Quantities greater\n",
    "# than 40 using query.\n",
    "cursor = mycollection.find({\"importance\": {\"$lt\": 10}})"
   ]
  },
  {
   "cell_type": "code",
   "execution_count": 65,
   "id": "37c598d0",
   "metadata": {},
   "outputs": [
    {
     "name": "stdout",
     "output_type": "stream",
     "text": [
      "The data having Quantity greater than 40 is:\n",
      "{'_id': ObjectId('6093c92a2799b9616a6f8a12'), 'heading': 'Executive Summary ', 'text': 'In 2016, the Ministry of Health (MOH) updated Kenya’s national HIV guidelines to provide guidance on the use of antiretrovirals (ARVs) to treat and prevent HIV infection. To inform implementation and resource mobilisation, the MOH needed to understand the costing implications of implementing the new guidelines. This created the need for a study to estimate the costs of implementing the new guidelines, based on the country targets and covering all known people living with HIV in Kenya. This study adopted a micro-costing approach using population data from 2015 HIV revised estimates. The study considered two costing scenarios—the “NASCOP scenario,” based on NASCOP (National AIDS/STI Control Programme) targets to achieve the UNAIDS 90-90-90 targets; and the “Standard scenario,” based on full adoption of the new guidelines. The results show that the average annual unit cost of an adult on ARVs is Ksh 12,032.36 (US$115.7). The unit cost varies by regimen type, with the unit cost of an adults first-line regimen being Ksh 9,501.44 (US$91.4) per year, compared to Ksh 26,499.20 (US$254.8) for second-line. The annual unit cost of pediatric ARVs was estimated at Ksh 17,800.64 (US$171.2) per patient. As shown in Table E1, implementation of the new antiretroviral therapy (ART) guidelines under the Standard scenario will cost about 20 percent more than under the NASCOP scenario. The estimated cost of implementingthe new guidelines under the NASCOP and Standard scenarios in the next four years (FY2016/17–2019/20) is Ksh 197.8 billion (US$1.9 billion) and Ksh 239.2 billion (US$2.3 billion), respectively. The higher costs under the Standard scenario can explained by the higher number of people living with HIV expected to be initiated on treatment. In both scenarios, key commodities (ARVs, laboratory management, and test kits) are the main cost drivers, accounting for 61 percent of the total cost (seeTable E1). ', 'key_words_info': {'key_words': ['HIV', 'sex'], 'counts': [5, 0]}, 'importance': 5, 'country': 'kenya'}\n",
      "{'_id': ObjectId('6093c92a2799b9616a6f8a13'), 'heading': '5.7 HIV testing services for the general population   ', 'text': 'Under the NASCOP scenario, HIV testing services cost approximately Ksh 1 billion (US$10 million) in 2016/17 (see Figure 13). The total cost drops over the two subsequent periods and then increases slightly in the last period. Key cost drivers for HIV testing services are the HIV rapid kits, at a cost of approximately Ksh 936 million (US$9 million), and blood collection bags. The reason for the low estimated costs for confirmatory tests is that the test is only administered to people who have tested positive from the HIV rapid kits—this is expected to be a small proportion of the total population under testing. ', 'key_words_info': {'key_words': ['HIV', 'sex'], 'counts': [5, 0]}, 'importance': 5, 'country': 'kenya'}\n",
      "{'_id': ObjectId('6093c92a2799b9616a6f8a14'), 'heading': 'List of Figures ', 'text': 'Figure E1: Relative Costs for NCD Screening, by Disease (FY2016/17–2019/20) .......... ix Figure 1: Linkages between Key Programmatic Areas and Costing Framework for 2016 HIV Guidelines ................................................................................................... 6 Figure 2: Trend in the Costs of HIV 2016 Guideline Implementation ........................... 10 Figure 3: Costs of Routine Adult and Pediatric ARVs under NASCOP Scenario............ 10 Figure 4: Trend in Costs of Providing ARVs for Care and Treatment ............................. 11 Figure 5: Laboratory Management: Adults versus Pediatrics, NASCOP Scenario .......... 11 Figure 6: Costs of Laboratory Management between NASCOP and Standard Scenarios ......................................................................................................... 12 Figure 7: Costs of Viral Load Test ................................................................................... 12 Figure 8: Cost for PEP, NASCOP and Standard Scenarios ............................................. 13 Figure 9: PMTCT, NASCOP Scenario ............................................................................. 13 Figure 10: PMTCT Costs, NASCOP versus Standard Scenarios ..................................... 14 Figure 11: PrEP, NASCOP Scenario ................................................................................ 14 Figure 12: PrEP, NASCOP versus Standard Scenarios ................................................... 15 Figure 13: HIV Testing Services Cost Estimates, NASCOP Scenario.............................. 15 Figure 14: HIV Testing Services Cost Estimates, NASCOP versus Standard Scenarios ......................................................................................................... 16 Figure 15: Screening NCD and Co-morbidities, NASCOP Scenario ............................... 16 Figure 16: Screening for NCDs and Co-morbidities, NASCOP versus Standard Scenarios ......................................................................................................... 17 Figure 17: Medicines for Opportunistic Diseases, NASCOP Scenario ............................ 17 Figure 18: Medicines for Opportunistic Diseases, NASCOP versus Standard Scenarios ......................................................................................................... 18 v ', 'key_words_info': {'key_words': ['HIV', 'sex'], 'counts': [4, 0]}, 'importance': 4, 'country': 'kenya'}\n",
      "{'_id': ObjectId('6093c92a2799b9616a6f8a15'), 'heading': '5.5 Prevention of mother-to-child transmission ', 'text': 'Figure 9 shows the estimated cost of PMTCT using the NASCOP scenario. The PMTCT costs incorporate three estimated cost components: rapid HIV testing for pregnant mothers, early infant diagnosis (or infant PCR test), and prophylaxis (the primary cost driver). HIV rapid testing for pregnant mothers, which includes blood collection bags and testing kits, is the second-greatest cost driver. The proportion of pregnant and breastfeeding women living with HIV remains constant over the four-year period, in line with the targets set by the national HIV programme. ', 'key_words_info': {'key_words': ['HIV', 'sex'], 'counts': [4, 0]}, 'importance': 4, 'country': 'kenya'}\n",
      "{'_id': ObjectId('6093c92a2799b9616a6f8a16'), 'heading': '2.Summary of the 2016 HIV Guidelines on the Use of Antiretroviral Drugs for Treating and Preventing HIV Infection in Kenya ', 'text': 'This section summarises key programme areas covered in the 2016 HIV guidelines. (For a detailed description, see MOH and NASCOP, 2016). ', 'key_words_info': {'key_words': ['HIV', 'sex'], 'counts': [3, 0]}, 'importance': 3, 'country': 'kenya'}\n",
      "{'_id': ObjectId('6093c92a2799b9616a6f8a17'), 'heading': '5.9 Medicines for opportunistic diseases ', 'text': 'Figure 17 shows that the estimated cost of medicines for opportunistic diseases is projected to increase over time. This is consistent with the target of getting more people living with HIV into care over the projected period, as Kenya moves towards achieving the 90-90-90 targets under the test-and-treat policy. The new guidelines emphasise the need to put people living with HIV on medicines for opportunistic diseases to reduce their mortality rate. A lower mortality rate is expected to bring additional costs as demand for medicines for opportunistic diseases increases. The key driver of this programme cost is the cost for adults, which is not surprising as adults account for the bulk of people living with HIV. ', 'key_words_info': {'key_words': ['HIV', 'sex'], 'counts': [3, 0]}, 'importance': 3, 'country': 'kenya'}\n",
      "{'_id': ObjectId('6093c92a2799b9616a6f8a18'), 'heading': '5.6 Pre-exposure prophylaxis ', 'text': 'Figure 11 shows the cost of providing PrEP under the NASCOP scenario. This cost will increase to more than double current levels in the next four years as a result of increases in HIV-negative key populations under this prevention programme. The key cost driver under this programme is the regimen cost (the cost of ARVs), which increases over the entire period. However, the cost of HIV testing is also significant due to the numerous tests expected under this prevention programme.', 'key_words_info': {'key_words': ['HIV', 'sex'], 'counts': [2, 0]}, 'importance': 2, 'country': 'kenya'}\n",
      "{'_id': ObjectId('6093c92a2799b9616a6f8a19'), 'heading': '5.8 NCDs and other co-morbidity ', 'text': 'The 2016 ART guidelines recommend screening among people living with HIV for key NCDs and co-morbidities, including cancer, high blood pressure, hepatitis B and C, diabetes, and liver functions. Figure 15 shows the estimated cost of screening for these NCDs and co-morbidities under the NASCOP scenario. Screening for cervical cancer, diabetes, and cholesterol are the main cost drivers for this new programme area. The estimates show rising costs in line with an increased incidence rate of NCDs and co-morbidities over the time periods, given that the NASCOP scenario expects to put more people living with HIV on treatment in the future and that the incidence rate is positive over the entire period. ', 'key_words_info': {'key_words': ['HIV', 'sex'], 'counts': [2, 0]}, 'importance': 2, 'country': 'kenya'}\n",
      "{'_id': ObjectId('6093c92a2799b9616a6f8a1a'), 'heading': '1.1 Context  ', 'text': 'HIV and AIDS remain a major public health problem in Kenya. Therefore, there is continued need for guidance from the Ministry of Health (MOH) and other key stakeholders on how to manage current and new infections. According to the ', 'key_words_info': {'key_words': ['HIV', 'sex'], 'counts': [1, 0]}, 'importance': 1, 'country': 'kenya'}\n",
      "{'_id': ObjectId('6093c92a2799b9616a6f8a1b'), 'heading': '1.2 Study Objectives ', 'text': 'The costing exercise addresses two questions: a)What is the cost of implementing the 2016 ART guidelines based on the country targets? b)What is the total cost of implementing the 2016 ART guidelines to cover 100 percent of known people living with HIV? ', 'key_words_info': {'key_words': ['HIV', 'sex'], 'counts': [1, 0]}, 'importance': 1, 'country': 'kenya'}\n",
      "{'_id': ObjectId('6093c92a2799b9616a6f8a1c'), 'heading': '5. Costing Results ', 'text': 'This section presents the estimated cost of HIV treatment and prevention, based on the revised 2016 guidelines. The data shows the aggregated cost estimated for the NASCOP and Standard scenarios. This is followed by a disaggregation of these costs by programme area, and compared across two scenarios to provide some insight on what the guideline implementation would cost in the next four years. ', 'key_words_info': {'key_words': ['HIV', 'sex'], 'counts': [1, 0]}, 'importance': 1, 'country': 'kenya'}\n",
      "{'_id': ObjectId('6093c92a2799b9616a6f8a1d'), 'heading': '5.1 Estimated HIV programme costs between NASCOP and Standard scenarios ', 'text': 'The results presented in Table 1 show that the average unit cost of putting a patient on ARVs per year is Ksh 12,032.4 (US$115.7). The unit cost varies by regimen type, with the unit cost of an adult first-line ARV regimen at Ksh 9,501.44 (US$91.4) and second-line at Ksh 26,499.20 (US$254.8) per year. On the other hand, the annual unit cost of pediatric ARVs is 17,800.64 (US$171.2) per patient. ', 'key_words_info': {'key_words': ['HIV', 'sex'], 'counts': [1, 0]}, 'importance': 1, 'country': 'kenya'}\n",
      "{'_id': ObjectId('6093c92a2799b9616a6f8a1e'), 'heading': '5.4 Cost of post-exposure prophylaxis ', 'text': 'The costs of providing PEP under the NASCOP and Standard scenarios were equal at Ksh 555.7 million (US$5.3 million), structured as shown in Figure 8. The lack of variation between the two scenarios is explained by an assumption that an equal population will require PEP in both cases, because PEP population estimates were based on programme data and are the same in both scenarios. It is also assumed that ARVs for PEP are included under general adult ARV cost estimates. Therefore, the main cost elements were identified as additional HIV testing and kidney tests needed for the PEP programme due to use of a TDF regimen. 13 ', 'key_words_info': {'key_words': ['HIV', 'sex'], 'counts': [1, 0]}, 'importance': 1, 'country': 'kenya'}\n",
      "{'_id': ObjectId('6093c92a2799b9616a6f8a1f'), 'heading': '7.Study Limitations ', 'text': '1.The only data available on mortality rates for people living with HIV comes from the mortuary survey. This study is not representative of the current nationwide attrition rate, as it is based on Nairobi County data. A mortuary survey should be administered nationwide to create a countrywide database for attrition rate. 2.The costing model has not incorporated a six-month buffer stock, as this was not in the scope of the study. The model, however, can be customised to capture the buffer stock when used for commodity quantification for processes such as the Global Fund application. 3.The estimates for non-medical costs were based on the ', 'key_words_info': {'key_words': ['HIV', 'sex'], 'counts': [1, 0]}, 'importance': 1, 'country': 'kenya'}\n",
      "{'_id': ObjectId('6093c9f92799b9616a6f8a21'), 'heading': 'Executive Summary ', 'text': 'In 2016, the Ministry of Health (MOH) updated Kenya’s national HIV guidelines to provide guidance on the use of antiretrovirals (ARVs) to treat and prevent HIV infection. To inform implementation and resource mobilisation, the MOH needed to understand the costing implications of implementing the new guidelines. This created the need for a study to estimate the costs of implementing the new guidelines, based on the country targets and covering all known people living with HIV in Kenya. This study adopted a micro-costing approach using population data from 2015 HIV revised estimates. The study considered two costing scenarios—the “NASCOP scenario,” based on NASCOP (National AIDS/STI Control Programme) targets to achieve the UNAIDS 90-90-90 targets; and the “Standard scenario,” based on full adoption of the new guidelines. The results show that the average annual unit cost of an adult on ARVs is Ksh 12,032.36 (US$115.7). The unit cost varies by regimen type, with the unit cost of an adults first-line regimen being Ksh 9,501.44 (US$91.4) per year, compared to Ksh 26,499.20 (US$254.8) for second-line. The annual unit cost of pediatric ARVs was estimated at Ksh 17,800.64 (US$171.2) per patient. As shown in Table E1, implementation of the new antiretroviral therapy (ART) guidelines under the Standard scenario will cost about 20 percent more than under the NASCOP scenario. The estimated cost of implementingthe new guidelines under the NASCOP and Standard scenarios in the next four years (FY2016/17–2019/20) is Ksh 197.8 billion (US$1.9 billion) and Ksh 239.2 billion (US$2.3 billion), respectively. The higher costs under the Standard scenario can explained by the higher number of people living with HIV expected to be initiated on treatment. In both scenarios, key commodities (ARVs, laboratory management, and test kits) are the main cost drivers, accounting for 61 percent of the total cost (seeTable E1). ', 'key_words_info': {'key_words': ['HIV', 'sex'], 'counts': [5, 0]}, 'importance': 5}\n",
      "{'_id': ObjectId('6093c9f92799b9616a6f8a22'), 'heading': '5.7 HIV testing services for the general population   ', 'text': 'Under the NASCOP scenario, HIV testing services cost approximately Ksh 1 billion (US$10 million) in 2016/17 (see Figure 13). The total cost drops over the two subsequent periods and then increases slightly in the last period. Key cost drivers for HIV testing services are the HIV rapid kits, at a cost of approximately Ksh 936 million (US$9 million), and blood collection bags. The reason for the low estimated costs for confirmatory tests is that the test is only administered to people who have tested positive from the HIV rapid kits—this is expected to be a small proportion of the total population under testing. ', 'key_words_info': {'key_words': ['HIV', 'sex'], 'counts': [5, 0]}, 'importance': 5}\n",
      "{'_id': ObjectId('6093c9f92799b9616a6f8a23'), 'heading': 'List of Figures ', 'text': 'Figure E1: Relative Costs for NCD Screening, by Disease (FY2016/17–2019/20) .......... ix Figure 1: Linkages between Key Programmatic Areas and Costing Framework for 2016 HIV Guidelines ................................................................................................... 6 Figure 2: Trend in the Costs of HIV 2016 Guideline Implementation ........................... 10 Figure 3: Costs of Routine Adult and Pediatric ARVs under NASCOP Scenario............ 10 Figure 4: Trend in Costs of Providing ARVs for Care and Treatment ............................. 11 Figure 5: Laboratory Management: Adults versus Pediatrics, NASCOP Scenario .......... 11 Figure 6: Costs of Laboratory Management between NASCOP and Standard Scenarios ......................................................................................................... 12 Figure 7: Costs of Viral Load Test ................................................................................... 12 Figure 8: Cost for PEP, NASCOP and Standard Scenarios ............................................. 13 Figure 9: PMTCT, NASCOP Scenario ............................................................................. 13 Figure 10: PMTCT Costs, NASCOP versus Standard Scenarios ..................................... 14 Figure 11: PrEP, NASCOP Scenario ................................................................................ 14 Figure 12: PrEP, NASCOP versus Standard Scenarios ................................................... 15 Figure 13: HIV Testing Services Cost Estimates, NASCOP Scenario.............................. 15 Figure 14: HIV Testing Services Cost Estimates, NASCOP versus Standard Scenarios ......................................................................................................... 16 Figure 15: Screening NCD and Co-morbidities, NASCOP Scenario ............................... 16 Figure 16: Screening for NCDs and Co-morbidities, NASCOP versus Standard Scenarios ......................................................................................................... 17 Figure 17: Medicines for Opportunistic Diseases, NASCOP Scenario ............................ 17 Figure 18: Medicines for Opportunistic Diseases, NASCOP versus Standard Scenarios ......................................................................................................... 18 v ', 'key_words_info': {'key_words': ['HIV', 'sex'], 'counts': [4, 0]}, 'importance': 4}\n",
      "{'_id': ObjectId('6093c9f92799b9616a6f8a24'), 'heading': '5.5 Prevention of mother-to-child transmission ', 'text': 'Figure 9 shows the estimated cost of PMTCT using the NASCOP scenario. The PMTCT costs incorporate three estimated cost components: rapid HIV testing for pregnant mothers, early infant diagnosis (or infant PCR test), and prophylaxis (the primary cost driver). HIV rapid testing for pregnant mothers, which includes blood collection bags and testing kits, is the second-greatest cost driver. The proportion of pregnant and breastfeeding women living with HIV remains constant over the four-year period, in line with the targets set by the national HIV programme. ', 'key_words_info': {'key_words': ['HIV', 'sex'], 'counts': [4, 0]}, 'importance': 4}\n",
      "{'_id': ObjectId('6093c9f92799b9616a6f8a25'), 'heading': '2.Summary of the 2016 HIV Guidelines on the Use of Antiretroviral Drugs for Treating and Preventing HIV Infection in Kenya ', 'text': 'This section summarises key programme areas covered in the 2016 HIV guidelines. (For a detailed description, see MOH and NASCOP, 2016). ', 'key_words_info': {'key_words': ['HIV', 'sex'], 'counts': [3, 0]}, 'importance': 3}\n",
      "{'_id': ObjectId('6093c9f92799b9616a6f8a26'), 'heading': '5.9 Medicines for opportunistic diseases ', 'text': 'Figure 17 shows that the estimated cost of medicines for opportunistic diseases is projected to increase over time. This is consistent with the target of getting more people living with HIV into care over the projected period, as Kenya moves towards achieving the 90-90-90 targets under the test-and-treat policy. The new guidelines emphasise the need to put people living with HIV on medicines for opportunistic diseases to reduce their mortality rate. A lower mortality rate is expected to bring additional costs as demand for medicines for opportunistic diseases increases. The key driver of this programme cost is the cost for adults, which is not surprising as adults account for the bulk of people living with HIV. ', 'key_words_info': {'key_words': ['HIV', 'sex'], 'counts': [3, 0]}, 'importance': 3}\n",
      "{'_id': ObjectId('6093c9f92799b9616a6f8a27'), 'heading': '5.6 Pre-exposure prophylaxis ', 'text': 'Figure 11 shows the cost of providing PrEP under the NASCOP scenario. This cost will increase to more than double current levels in the next four years as a result of increases in HIV-negative key populations under this prevention programme. The key cost driver under this programme is the regimen cost (the cost of ARVs), which increases over the entire period. However, the cost of HIV testing is also significant due to the numerous tests expected under this prevention programme.', 'key_words_info': {'key_words': ['HIV', 'sex'], 'counts': [2, 0]}, 'importance': 2}\n",
      "{'_id': ObjectId('6093c9f92799b9616a6f8a28'), 'heading': '5.8 NCDs and other co-morbidity ', 'text': 'The 2016 ART guidelines recommend screening among people living with HIV for key NCDs and co-morbidities, including cancer, high blood pressure, hepatitis B and C, diabetes, and liver functions. Figure 15 shows the estimated cost of screening for these NCDs and co-morbidities under the NASCOP scenario. Screening for cervical cancer, diabetes, and cholesterol are the main cost drivers for this new programme area. The estimates show rising costs in line with an increased incidence rate of NCDs and co-morbidities over the time periods, given that the NASCOP scenario expects to put more people living with HIV on treatment in the future and that the incidence rate is positive over the entire period. ', 'key_words_info': {'key_words': ['HIV', 'sex'], 'counts': [2, 0]}, 'importance': 2}\n",
      "{'_id': ObjectId('6093c9f92799b9616a6f8a29'), 'heading': '1.1 Context  ', 'text': 'HIV and AIDS remain a major public health problem in Kenya. Therefore, there is continued need for guidance from the Ministry of Health (MOH) and other key stakeholders on how to manage current and new infections. According to the ', 'key_words_info': {'key_words': ['HIV', 'sex'], 'counts': [1, 0]}, 'importance': 1}\n",
      "{'_id': ObjectId('6093c9f92799b9616a6f8a2a'), 'heading': '1.2 Study Objectives ', 'text': 'The costing exercise addresses two questions: a)What is the cost of implementing the 2016 ART guidelines based on the country targets? b)What is the total cost of implementing the 2016 ART guidelines to cover 100 percent of known people living with HIV? ', 'key_words_info': {'key_words': ['HIV', 'sex'], 'counts': [1, 0]}, 'importance': 1}\n",
      "{'_id': ObjectId('6093c9f92799b9616a6f8a2b'), 'heading': '5. Costing Results ', 'text': 'This section presents the estimated cost of HIV treatment and prevention, based on the revised 2016 guidelines. The data shows the aggregated cost estimated for the NASCOP and Standard scenarios. This is followed by a disaggregation of these costs by programme area, and compared across two scenarios to provide some insight on what the guideline implementation would cost in the next four years. ', 'key_words_info': {'key_words': ['HIV', 'sex'], 'counts': [1, 0]}, 'importance': 1}\n",
      "{'_id': ObjectId('6093c9f92799b9616a6f8a2c'), 'heading': '5.1 Estimated HIV programme costs between NASCOP and Standard scenarios ', 'text': 'The results presented in Table 1 show that the average unit cost of putting a patient on ARVs per year is Ksh 12,032.4 (US$115.7). The unit cost varies by regimen type, with the unit cost of an adult first-line ARV regimen at Ksh 9,501.44 (US$91.4) and second-line at Ksh 26,499.20 (US$254.8) per year. On the other hand, the annual unit cost of pediatric ARVs is 17,800.64 (US$171.2) per patient. ', 'key_words_info': {'key_words': ['HIV', 'sex'], 'counts': [1, 0]}, 'importance': 1}\n",
      "{'_id': ObjectId('6093c9f92799b9616a6f8a2d'), 'heading': '5.4 Cost of post-exposure prophylaxis ', 'text': 'The costs of providing PEP under the NASCOP and Standard scenarios were equal at Ksh 555.7 million (US$5.3 million), structured as shown in Figure 8. The lack of variation between the two scenarios is explained by an assumption that an equal population will require PEP in both cases, because PEP population estimates were based on programme data and are the same in both scenarios. It is also assumed that ARVs for PEP are included under general adult ARV cost estimates. Therefore, the main cost elements were identified as additional HIV testing and kidney tests needed for the PEP programme due to use of a TDF regimen. 13 ', 'key_words_info': {'key_words': ['HIV', 'sex'], 'counts': [1, 0]}, 'importance': 1}\n",
      "{'_id': ObjectId('6093c9f92799b9616a6f8a2e'), 'heading': '7.Study Limitations ', 'text': '1.The only data available on mortality rates for people living with HIV comes from the mortuary survey. This study is not representative of the current nationwide attrition rate, as it is based on Nairobi County data. A mortuary survey should be administered nationwide to create a countrywide database for attrition rate. 2.The costing model has not incorporated a six-month buffer stock, as this was not in the scope of the study. The model, however, can be customised to capture the buffer stock when used for commodity quantification for processes such as the Global Fund application. 3.The estimates for non-medical costs were based on the ', 'key_words_info': {'key_words': ['HIV', 'sex'], 'counts': [1, 0]}, 'importance': 1}\n"
     ]
    }
   ],
   "source": [
    "print(\"The data having Quantity greater than 40 is:\")\n",
    "for record in cursor: \n",
    "    print(record) "
   ]
  },
  {
   "cell_type": "code",
   "execution_count": null,
   "id": "ae84e643",
   "metadata": {},
   "outputs": [],
   "source": [
    "filter = { 'appliance': 'tv' }"
   ]
  }
 ],
 "metadata": {
  "kernelspec": {
   "display_name": "Python 3",
   "language": "python",
   "name": "python3"
  },
  "language_info": {
   "codemirror_mode": {
    "name": "ipython",
    "version": 3
   },
   "file_extension": ".py",
   "mimetype": "text/x-python",
   "name": "python",
   "nbconvert_exporter": "python",
   "pygments_lexer": "ipython3",
   "version": "3.8.8"
  }
 },
 "nbformat": 4,
 "nbformat_minor": 5
}
