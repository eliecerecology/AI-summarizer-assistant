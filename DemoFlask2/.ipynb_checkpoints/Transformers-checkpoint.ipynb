{
 "cells": [
  {
   "cell_type": "code",
   "execution_count": 1,
   "id": "402c9892-c623-4798-835c-fcf8b5c5b1fc",
   "metadata": {},
   "outputs": [],
   "source": [
    "from gensim.summarization.summarizer import summarize"
   ]
  },
  {
   "cell_type": "code",
   "execution_count": 2,
   "id": "ce7051a8-80a2-460c-b867-69bd5efa0627",
   "metadata": {},
   "outputs": [],
   "source": [
    "from gensim.summarization import keywords"
   ]
  },
  {
   "cell_type": "code",
   "execution_count": 3,
   "id": "55ea741c-9970-44df-9b85-5a5526661e4c",
   "metadata": {},
   "outputs": [],
   "source": [
    "text1 = \"Natural language processing (NLP) is a subfield of linguistics, computer science, and artificial intelligence concerned with the interactions between computers and human language, in particular how to program computers to process and analyze large amounts of natural language data. The result is a computer capable of understanding the contents of documents, including the contextual nuances of the language within them. The technology can then accurately extract information and insights contained in the documents as well as categorize and organize the documents themselves.\""
   ]
  },
  {
   "cell_type": "code",
   "execution_count": 23,
   "id": "7d2dd7e7-80e3-47b5-82a1-30c0f7df1b9f",
   "metadata": {},
   "outputs": [
    {
     "name": "stdout",
     "output_type": "stream",
     "text": [
      "['Natural language processing (NLP) is a subfield of linguistics, computer science, and artificial intelligence concerned with the interactions between computers and human language, in particular how to program computers to process and analyze large amounts of natural language data.']\n"
     ]
    }
   ],
   "source": [
    "print(summarize(text1, split=True, ratio = 0.5))"
   ]
  },
  {
   "cell_type": "code",
   "execution_count": 19,
   "id": "17da82d2-7801-40ae-ada8-32520ce1ec36",
   "metadata": {},
   "outputs": [
    {
     "name": "stdout",
     "output_type": "stream",
     "text": [
      "language\n",
      "intelligence\n",
      "extract\n"
     ]
    }
   ],
   "source": [
    "print(keywords(text1, words=3))"
   ]
  },
  {
   "cell_type": "code",
   "execution_count": null,
   "id": "6aed6d56-f1b4-4529-8b55-29c0fcf338b5",
   "metadata": {},
   "outputs": [],
   "source": [
    "from transformers import pipeline"
   ]
  },
  {
   "cell_type": "code",
   "execution_count": 2,
   "id": "1ee6f533-1389-46b4-9ddd-f8136308454a",
   "metadata": {},
   "outputs": [],
   "source": [
    "summa = pipeline(\"summarization\")"
   ]
  },
  {
   "cell_type": "code",
   "execution_count": 4,
   "id": "8cc7e359-ccd9-4b47-871c-3b28579c9bd3",
   "metadata": {},
   "outputs": [
    {
     "data": {
      "text/plain": [
       "[{'summary_text': ' Natural language processing (NLP) is a subfield of linguistics, computer science'}]"
      ]
     },
     "execution_count": 4,
     "metadata": {},
     "output_type": "execute_result"
    }
   ],
   "source": [
    "summa(text1, max_length=20, min_length= 10)"
   ]
  },
  {
   "cell_type": "code",
   "execution_count": 5,
   "id": "9a5017cb-5382-4e02-b6d7-22bf28d223d3",
   "metadata": {},
   "outputs": [
    {
     "name": "stdout",
     "output_type": "stream",
     "text": [
      "/home/helix/Documents/UNAIDS/Development/Fake-News-Classifier\n"
     ]
    }
   ],
   "source": [
    "!pwd"
   ]
  },
  {
   "cell_type": "code",
   "execution_count": null,
   "id": "5648c519-fa54-452c-ab3b-29a95c55ae60",
   "metadata": {},
   "outputs": [],
   "source": [
    "paragraphs = pdf_parse_functions.pdf_parser(datapath+pdfnames[0])\n",
    "    paragraphs_with_key_words = pdf_parse_functions.get_paragraphs_with_key_words(paragraphs, (usr, 'STI', 'sex'))\n",
    "    \n",
    "    lista = []\n",
    "    summaries = []\n",
    "    for i in range(0,len(paragraphs_with_key_words)):\n",
    "          lista.append(paragraphs_with_key_words[i]['text'])\n",
    "          \n",
    "          summaries.append(summa(paragraphs_with_key_words[i]['text'], max_length=59))\n",
    "          print(i)\n",
    "    print(\"finish!\")\n",
    "    return render_template(\"base1.html\", text = lista, text1 = summaries)\n"
   ]
  }
 ],
 "metadata": {
  "kernelspec": {
   "display_name": "Python 3",
   "language": "python",
   "name": "python3"
  },
  "language_info": {
   "codemirror_mode": {
    "name": "ipython",
    "version": 3
   },
   "file_extension": ".py",
   "mimetype": "text/x-python",
   "name": "python",
   "nbconvert_exporter": "python",
   "pygments_lexer": "ipython3",
   "version": "3.8.8"
  }
 },
 "nbformat": 4,
 "nbformat_minor": 5
}
