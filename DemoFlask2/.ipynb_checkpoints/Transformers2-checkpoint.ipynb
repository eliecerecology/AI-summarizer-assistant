{
 "cells": [
  {
   "cell_type": "code",
   "execution_count": 1,
   "id": "c2fa9cad",
   "metadata": {},
   "outputs": [],
   "source": [
    "import os\n",
    "import pandas as pd\n",
    "from operator import itemgetter\n",
    "from collections import Counter\n",
    "import re\n",
    "import pdf_parse_functions\n",
    "from transformers import pipeline"
   ]
  },
  {
   "cell_type": "code",
   "execution_count": 2,
   "id": "c61c185a-84b6-4c9f-8a7a-8967716099c0",
   "metadata": {},
   "outputs": [],
   "source": [
    "import warnings\n",
    "warnings.filterwarnings(\"ignore\")"
   ]
  },
  {
   "cell_type": "code",
   "execution_count": 3,
   "id": "6aed6d56-f1b4-4529-8b55-29c0fcf338b5",
   "metadata": {},
   "outputs": [],
   "source": [
    "from transformers import pipeline"
   ]
  },
  {
   "cell_type": "code",
   "execution_count": 4,
   "id": "1ee6f533-1389-46b4-9ddd-f8136308454a",
   "metadata": {},
   "outputs": [],
   "source": [
    "summa = pipeline(\"summarization\")\n",
    "sentiment_analysis = pipeline('sentiment-analysis')"
   ]
  },
  {
   "cell_type": "code",
   "execution_count": 5,
   "id": "b5279342",
   "metadata": {},
   "outputs": [],
   "source": [
    "datapath = \"/home/helix/Documents/UNAIDS/code/unaids_branch/Demo/pdfs/\" \n",
    "pdfnames = os.listdir(datapath)"
   ]
  },
  {
   "cell_type": "code",
   "execution_count": 6,
   "id": "8bc6219b",
   "metadata": {},
   "outputs": [
    {
     "data": {
      "text/plain": [
       "['ToR_GAM_AI Data POC_Silo AI Oy.pdf',\n",
       " 'colombia.pdf',\n",
       " 'kenya2.pdf',\n",
       " 'Zambia_IBBS_Final Report_May 2018.pdf',\n",
       " 'SAIDS3.pdf',\n",
       " 'SummaryBrazil.pdf',\n",
       " 'SAIDS.pdf',\n",
       " 'Caribbean.pdf',\n",
       " 'ARG.pdf',\n",
       " 'SAIDS.txt',\n",
       " 'centralAsia.pdf',\n",
       " 'Cameroon Report_July 4 2014.pdf',\n",
       " 'SAIDS1.pdf',\n",
       " 'LimePaper.pdf',\n",
       " 'Cameroon2014.pdf',\n",
       " 'LimeVsShap.pdf',\n",
       " 'LimeMedium.pdf',\n",
       " 'Libro TRANS 2016.pdf']"
      ]
     },
     "execution_count": 6,
     "metadata": {},
     "output_type": "execute_result"
    }
   ],
   "source": [
    "pdfnames"
   ]
  },
  {
   "cell_type": "markdown",
   "id": "53bedc08-7864-40e8-b5ac-e8c951a8152d",
   "metadata": {},
   "source": [
    "# Central America:"
   ]
  },
  {
   "cell_type": "code",
   "execution_count": 7,
   "id": "d4b99217",
   "metadata": {},
   "outputs": [],
   "source": [
    "language = \"english\"\n",
    "\n",
    "if language == \"spanish\":\n",
    "    keywords = ('sida', 'sexo', 'ETS')\n",
    "    listOfStrings = ['TABLAS' , 'FIGURAS', 'figura', 'tabla', '...']\n",
    "else:\n",
    "    keywords = ('HIV', 'gender')\n",
    "    listOfStrings = ['TABLES' , 'FIGURE', 'figure', 'table', '...']"
   ]
  },
  {
   "cell_type": "code",
   "execution_count": 8,
   "id": "5648c519-fa54-452c-ab3b-29a95c55ae60",
   "metadata": {},
   "outputs": [],
   "source": [
    "paragraphs = pdf_parse_functions.pdf_parser(datapath+pdfnames[10])\n",
    "paragraphs_with_key_words = pdf_parse_functions.get_paragraphs_with_key_words(paragraphs, keywords)"
   ]
  },
  {
   "cell_type": "code",
   "execution_count": 9,
   "id": "4b9aa94a-6f48-4abe-8cde-b8175474fb53",
   "metadata": {},
   "outputs": [],
   "source": [
    "#paragraphs_with_key_words"
   ]
  },
  {
   "cell_type": "code",
   "execution_count": 10,
   "id": "61143f5d-e9e8-4330-89ff-befa44769d6c",
   "metadata": {},
   "outputs": [],
   "source": [
    "# Clean the paragraphs:\n",
    "word_list = []\n",
    "for para in paragraphs_with_key_words:\n",
    "    if any(w in para['heading'] for w in listOfStrings)  == True:\n",
    "        pass\n",
    "    else:\n",
    "        word_list.append(para)"
   ]
  },
  {
   "cell_type": "code",
   "execution_count": 11,
   "id": "875d9818-45f2-4c98-983d-2efee3a22628",
   "metadata": {},
   "outputs": [],
   "source": [
    "paragraphs_with_key_words = word_list"
   ]
  },
  {
   "cell_type": "code",
   "execution_count": 12,
   "id": "428dc057",
   "metadata": {},
   "outputs": [],
   "source": [
    "#paragraphs[0].keys()"
   ]
  },
  {
   "cell_type": "code",
   "execution_count": 13,
   "id": "e17427c8",
   "metadata": {},
   "outputs": [],
   "source": [
    "df = pd.DataFrame.from_dict(paragraphs_with_key_words)"
   ]
  },
  {
   "cell_type": "code",
   "execution_count": 14,
   "id": "e53e12e8",
   "metadata": {},
   "outputs": [
    {
     "data": {
      "text/html": [
       "<div>\n",
       "<style scoped>\n",
       "    .dataframe tbody tr th:only-of-type {\n",
       "        vertical-align: middle;\n",
       "    }\n",
       "\n",
       "    .dataframe tbody tr th {\n",
       "        vertical-align: top;\n",
       "    }\n",
       "\n",
       "    .dataframe thead th {\n",
       "        text-align: right;\n",
       "    }\n",
       "</style>\n",
       "<table border=\"1\" class=\"dataframe\">\n",
       "  <thead>\n",
       "    <tr style=\"text-align: right;\">\n",
       "      <th></th>\n",
       "      <th>heading</th>\n",
       "      <th>text</th>\n",
       "      <th>key_words_info</th>\n",
       "      <th>importance</th>\n",
       "    </tr>\n",
       "  </thead>\n",
       "  <tbody>\n",
       "    <tr>\n",
       "      <th>0</th>\n",
       "      <td>7.0 Conclusions</td>\n",
       "      <td>How gender affects health, and the risk of con...</td>\n",
       "      <td>{'key_words': ('HIV', 'gender'), 'counts': [14...</td>\n",
       "      <td>22</td>\n",
       "    </tr>\n",
       "    <tr>\n",
       "      <th>1</th>\n",
       "      <td>Executive summary</td>\n",
       "      <td>Gender mainstreaming is not costly in terms of...</td>\n",
       "      <td>{'key_words': ('HIV', 'gender'), 'counts': [7,...</td>\n",
       "      <td>11</td>\n",
       "    </tr>\n",
       "    <tr>\n",
       "      <th>2</th>\n",
       "      <td>3.0  Conclusions</td>\n",
       "      <td>As a society undergoing ideological, economic,...</td>\n",
       "      <td>{'key_words': ('HIV', 'gender'), 'counts': [8,...</td>\n",
       "      <td>11</td>\n",
       "    </tr>\n",
       "    <tr>\n",
       "      <th>3</th>\n",
       "      <td>Russian Federation</td>\n",
       "      <td>is very vulnerable to the epidemic manifesting...</td>\n",
       "      <td>{'key_words': ('HIV', 'gender'), 'counts': [7,...</td>\n",
       "      <td>10</td>\n",
       "    </tr>\n",
       "    <tr>\n",
       "      <th>4</th>\n",
       "      <td>1.0 Introduction</td>\n",
       "      <td>This assessment, conducted during the fall of ...</td>\n",
       "      <td>{'key_words': ('HIV', 'gender'), 'counts': [6,...</td>\n",
       "      <td>9</td>\n",
       "    </tr>\n",
       "    <tr>\n",
       "      <th>5</th>\n",
       "      <td>Preface</td>\n",
       "      <td>This report is the result of a study on how ge...</td>\n",
       "      <td>{'key_words': ('HIV', 'gender'), 'counts': [4,...</td>\n",
       "      <td>8</td>\n",
       "    </tr>\n",
       "    <tr>\n",
       "      <th>6</th>\n",
       "      <td>Estonia</td>\n",
       "      <td>has seen an extremely rapid spread of HIV amon...</td>\n",
       "      <td>{'key_words': ('HIV', 'gender'), 'counts': [6,...</td>\n",
       "      <td>7</td>\n",
       "    </tr>\n",
       "    <tr>\n",
       "      <th>7</th>\n",
       "      <td>5.0 Conclusions</td>\n",
       "      <td>The majority of HIV infections have occurred t...</td>\n",
       "      <td>{'key_words': ('HIV', 'gender'), 'counts': [6,...</td>\n",
       "      <td>7</td>\n",
       "    </tr>\n",
       "    <tr>\n",
       "      <th>8</th>\n",
       "      <td>5.0 HIV in pregnancy and Mother–To–Child–Trans...</td>\n",
       "      <td>The dominant global ideology of femininity ca...</td>\n",
       "      <td>{'key_words': ('HIV', 'gender'), 'counts': [6,...</td>\n",
       "      <td>6</td>\n",
       "    </tr>\n",
       "    <tr>\n",
       "      <th>9</th>\n",
       "      <td>8.0 Conclusions</td>\n",
       "      <td>The transitional society in KZN of today is ex...</td>\n",
       "      <td>{'key_words': ('HIV', 'gender'), 'counts': [5,...</td>\n",
       "      <td>6</td>\n",
       "    </tr>\n",
       "    <tr>\n",
       "      <th>10</th>\n",
       "      <td>Kyrgyzstan</td>\n",
       "      <td>the incidence of HIV shows an exponential rise...</td>\n",
       "      <td>{'key_words': ('HIV', 'gender'), 'counts': [4,...</td>\n",
       "      <td>5</td>\n",
       "    </tr>\n",
       "    <tr>\n",
       "      <th>11</th>\n",
       "      <td>1.0  Introduction</td>\n",
       "      <td>A visit to Estonia was made in October/Novembe...</td>\n",
       "      <td>{'key_words': ('HIV', 'gender'), 'counts': [3,...</td>\n",
       "      <td>5</td>\n",
       "    </tr>\n",
       "    <tr>\n",
       "      <th>12</th>\n",
       "      <td>2.0 Background</td>\n",
       "      <td>Overall, 80% of Persons Living With HIV/AIDS (...</td>\n",
       "      <td>{'key_words': ('HIV', 'gender'), 'counts': [4,...</td>\n",
       "      <td>4</td>\n",
       "    </tr>\n",
       "    <tr>\n",
       "      <th>13</th>\n",
       "      <td>2.0 Background</td>\n",
       "      <td>Starting from a dozen cases, an unprecedented ...</td>\n",
       "      <td>{'key_words': ('HIV', 'gender'), 'counts': [4,...</td>\n",
       "      <td>4</td>\n",
       "    </tr>\n",
       "    <tr>\n",
       "      <th>14</th>\n",
       "      <td>4.0 Recommendations</td>\n",
       "      <td>The gender concept is fairly new and has not b...</td>\n",
       "      <td>{'key_words': ('HIV', 'gender'), 'counts': [2,...</td>\n",
       "      <td>4</td>\n",
       "    </tr>\n",
       "    <tr>\n",
       "      <th>15</th>\n",
       "      <td>3.0 Sexuality</td>\n",
       "      <td>Sexuality is thought of as a multidimensional ...</td>\n",
       "      <td>{'key_words': ('HIV', 'gender'), 'counts': [1,...</td>\n",
       "      <td>3</td>\n",
       "    </tr>\n",
       "    <tr>\n",
       "      <th>16</th>\n",
       "      <td>2.0  The Russian context – background and cont...</td>\n",
       "      <td>Together with other former Soviet Union states...</td>\n",
       "      <td>{'key_words': ('HIV', 'gender'), 'counts': [3,...</td>\n",
       "      <td>3</td>\n",
       "    </tr>\n",
       "    <tr>\n",
       "      <th>17</th>\n",
       "      <td>Acknowledgements</td>\n",
       "      <td>We are indebted to all of the interviewees (se...</td>\n",
       "      <td>{'key_words': ('HIV', 'gender'), 'counts': [2,...</td>\n",
       "      <td>2</td>\n",
       "    </tr>\n",
       "    <tr>\n",
       "      <th>18</th>\n",
       "      <td>1.0 Introduction</td>\n",
       "      <td>The HIV epidemic in Eastern Europe and Central...</td>\n",
       "      <td>{'key_words': ('HIV', 'gender'), 'counts': [2,...</td>\n",
       "      <td>2</td>\n",
       "    </tr>\n",
       "    <tr>\n",
       "      <th>19</th>\n",
       "      <td>Part II. Country Case Studies</td>\n",
       "      <td>The case studies are based on interviews with ...</td>\n",
       "      <td>{'key_words': ('HIV', 'gender'), 'counts': [1,...</td>\n",
       "      <td>2</td>\n",
       "    </tr>\n",
       "    <tr>\n",
       "      <th>20</th>\n",
       "      <td>1.0 Introduction</td>\n",
       "      <td>A visit to Kyrgyzstan was made in November 200...</td>\n",
       "      <td>{'key_words': ('HIV', 'gender'), 'counts': [1,...</td>\n",
       "      <td>2</td>\n",
       "    </tr>\n",
       "    <tr>\n",
       "      <th>21</th>\n",
       "      <td>3.0 The Kyrgyz HIV/AIDS policy</td>\n",
       "      <td>According to the KZN state, programme prioriti...</td>\n",
       "      <td>{'key_words': ('HIV', 'gender'), 'counts': [2,...</td>\n",
       "      <td>2</td>\n",
       "    </tr>\n",
       "    <tr>\n",
       "      <th>22</th>\n",
       "      <td>6.0 Risks and consequences of HIV among male a...</td>\n",
       "      <td>The isolation of men, for example through inca...</td>\n",
       "      <td>{'key_words': ('HIV', 'gender'), 'counts': [1,...</td>\n",
       "      <td>1</td>\n",
       "    </tr>\n",
       "    <tr>\n",
       "      <th>23</th>\n",
       "      <td>9.0 Recommendations</td>\n",
       "      <td>The epidemic has not yet spread to the general...</td>\n",
       "      <td>{'key_words': ('HIV', 'gender'), 'counts': [1,...</td>\n",
       "      <td>1</td>\n",
       "    </tr>\n",
       "  </tbody>\n",
       "</table>\n",
       "</div>"
      ],
      "text/plain": [
       "                                              heading  \\\n",
       "0                                   7.0 Conclusions     \n",
       "1                                  Executive summary    \n",
       "2                                   3.0  Conclusions    \n",
       "3                                 Russian Federation    \n",
       "4                                   1.0 Introduction    \n",
       "5                                            Preface    \n",
       "6                                             Estonia   \n",
       "7                                   5.0 Conclusions     \n",
       "8   5.0 HIV in pregnancy and Mother–To–Child–Trans...   \n",
       "9                                   8.0 Conclusions     \n",
       "10                                         Kyrgyzstan   \n",
       "11                                 1.0  Introduction    \n",
       "12                                    2.0 Background    \n",
       "13                                    2.0 Background    \n",
       "14                               4.0 Recommendations    \n",
       "15                                     3.0 Sexuality    \n",
       "16  2.0  The Russian context – background and cont...   \n",
       "17                                  Acknowledgements    \n",
       "18                                  1.0 Introduction    \n",
       "19                     Part II. Country Case Studies    \n",
       "20                                  1.0 Introduction    \n",
       "21                    3.0 The Kyrgyz HIV/AIDS policy    \n",
       "22  6.0 Risks and consequences of HIV among male a...   \n",
       "23                               9.0 Recommendations    \n",
       "\n",
       "                                                 text  \\\n",
       "0   How gender affects health, and the risk of con...   \n",
       "1   Gender mainstreaming is not costly in terms of...   \n",
       "2   As a society undergoing ideological, economic,...   \n",
       "3   is very vulnerable to the epidemic manifesting...   \n",
       "4   This assessment, conducted during the fall of ...   \n",
       "5   This report is the result of a study on how ge...   \n",
       "6   has seen an extremely rapid spread of HIV amon...   \n",
       "7   The majority of HIV infections have occurred t...   \n",
       "8    The dominant global ideology of femininity ca...   \n",
       "9   The transitional society in KZN of today is ex...   \n",
       "10  the incidence of HIV shows an exponential rise...   \n",
       "11  A visit to Estonia was made in October/Novembe...   \n",
       "12  Overall, 80% of Persons Living With HIV/AIDS (...   \n",
       "13  Starting from a dozen cases, an unprecedented ...   \n",
       "14  The gender concept is fairly new and has not b...   \n",
       "15  Sexuality is thought of as a multidimensional ...   \n",
       "16  Together with other former Soviet Union states...   \n",
       "17  We are indebted to all of the interviewees (se...   \n",
       "18  The HIV epidemic in Eastern Europe and Central...   \n",
       "19  The case studies are based on interviews with ...   \n",
       "20  A visit to Kyrgyzstan was made in November 200...   \n",
       "21  According to the KZN state, programme prioriti...   \n",
       "22  The isolation of men, for example through inca...   \n",
       "23  The epidemic has not yet spread to the general...   \n",
       "\n",
       "                                       key_words_info  importance  \n",
       "0   {'key_words': ('HIV', 'gender'), 'counts': [14...          22  \n",
       "1   {'key_words': ('HIV', 'gender'), 'counts': [7,...          11  \n",
       "2   {'key_words': ('HIV', 'gender'), 'counts': [8,...          11  \n",
       "3   {'key_words': ('HIV', 'gender'), 'counts': [7,...          10  \n",
       "4   {'key_words': ('HIV', 'gender'), 'counts': [6,...           9  \n",
       "5   {'key_words': ('HIV', 'gender'), 'counts': [4,...           8  \n",
       "6   {'key_words': ('HIV', 'gender'), 'counts': [6,...           7  \n",
       "7   {'key_words': ('HIV', 'gender'), 'counts': [6,...           7  \n",
       "8   {'key_words': ('HIV', 'gender'), 'counts': [6,...           6  \n",
       "9   {'key_words': ('HIV', 'gender'), 'counts': [5,...           6  \n",
       "10  {'key_words': ('HIV', 'gender'), 'counts': [4,...           5  \n",
       "11  {'key_words': ('HIV', 'gender'), 'counts': [3,...           5  \n",
       "12  {'key_words': ('HIV', 'gender'), 'counts': [4,...           4  \n",
       "13  {'key_words': ('HIV', 'gender'), 'counts': [4,...           4  \n",
       "14  {'key_words': ('HIV', 'gender'), 'counts': [2,...           4  \n",
       "15  {'key_words': ('HIV', 'gender'), 'counts': [1,...           3  \n",
       "16  {'key_words': ('HIV', 'gender'), 'counts': [3,...           3  \n",
       "17  {'key_words': ('HIV', 'gender'), 'counts': [2,...           2  \n",
       "18  {'key_words': ('HIV', 'gender'), 'counts': [2,...           2  \n",
       "19  {'key_words': ('HIV', 'gender'), 'counts': [1,...           2  \n",
       "20  {'key_words': ('HIV', 'gender'), 'counts': [1,...           2  \n",
       "21  {'key_words': ('HIV', 'gender'), 'counts': [2,...           2  \n",
       "22  {'key_words': ('HIV', 'gender'), 'counts': [1,...           1  \n",
       "23  {'key_words': ('HIV', 'gender'), 'counts': [1,...           1  "
      ]
     },
     "execution_count": 14,
     "metadata": {},
     "output_type": "execute_result"
    }
   ],
   "source": [
    "df"
   ]
  },
  {
   "cell_type": "code",
   "execution_count": 82,
   "id": "026857e9",
   "metadata": {},
   "outputs": [],
   "source": [
    "#df.to_csv('/home/helix/Documents/UNAIDS/Development/DemoFlask2/SA.csv', index=False)"
   ]
  },
  {
   "cell_type": "code",
   "execution_count": 83,
   "id": "2b51994f",
   "metadata": {},
   "outputs": [],
   "source": [
    "#df[df['heading'] == '2) Gender'].text"
   ]
  },
  {
   "cell_type": "code",
   "execution_count": 15,
   "id": "7b4119b1",
   "metadata": {},
   "outputs": [
    {
     "data": {
      "text/plain": [
       "24"
      ]
     },
     "execution_count": 15,
     "metadata": {},
     "output_type": "execute_result"
    }
   ],
   "source": [
    "len(paragraphs_with_key_words)"
   ]
  },
  {
   "cell_type": "code",
   "execution_count": 85,
   "id": "c6c625f2",
   "metadata": {},
   "outputs": [
    {
     "data": {
      "text/plain": [
       "'How gender affects health, and the risk of contracting HIV/AIDS in particular, is striking and must be taken into consideration for effective planning and surveillance. Eastern Europe and Central Asia represent unique HIV contexts, very different from the situations in Sub-Saharan Africa or Western Europe. The region faces considerable challenges in order to stop the accelerating spread of HIV among very young women and men, as well as to improve the inadequate prevention of MTCT and the incomplete and often discriminating follow-up and care for PLWHA. Eastern European and Central Asian societies display traditional gender norms where men are expected to ignore or even seek risks associated with IDU or high-risk sex. Women on the other hand often lack the power to choose their sexual relations and their bodies may be considered as potential transactional goods. The threat of HIV has not yet been taken seriously by governments or by the general population and HIV is still regarded as a “drug-users disease” that IDUs themselves are responsible for. Due to recent increased funding, the HIV issue has become more prominent at policy level, but it is still prioritised among ”health and social issues” rather than seen as a national concern. A very high prevalence of IDU related risk-behaviour among young people, particularly men, is triggering the epidemic, and the socially marginalized status of the majority of HIV-positive individuals makes secondary prevention activities difficult. Attitudes of discrimination against young IDU are widespread including the denial of monitoring and ART to IDUs with HIV. This discrimination exacerbates this group’s feelings of unimportance and social marginalisation, in turn fuelling protest and escape-related risk-behaviours. Laws prohibiting discrimination are already in place, but they are not enforced by governments or practised by providers. IDU is not a moral issue, neither is it merely a consequence of poverty, societal disruption, hopelessness or fatalism. IDU is, to a large extent, driven by gender stereotypes that push young people, predominantly men, to seek risks and experiment with drugs, and to display their macho-behaviour through injection and peer solidarity through needle sharing. Many girls appear to be introduced to drugs through their boyfriends. Among the youngest age group, the proportion of IDUs who are girls appears to be increasing, but whether this is due to increasing abuse or more openness among young women is not known. Sex work and the trafficking of young women and children have exploded in the region during the last decade, exposing the involved individuals to very high risks of STI and HIV. Due to the large numbers of young women who pass through the commercial sex industry, the risk of spreading HIV to the general population either through their clients or through their own partners is obvious. Unemployed women with families to support or with on-going drug abuse habits may see sex work as their only source of income. This view is steered by cultural gender expectations that women’s bodies may be sold. Dreams of a better life or more money make many young women and girls vulnerable to deception into trafficking abroad or to relocation to larger cities where they are exploited in the sex industry. These women are very disempowered in terms of changing their situation, still, they receive little help from the police and their destiny is of surprisingly low priority for legislators. Gender mainstreaming is not costly in terms of financial resources but it requires an increased awareness of the importance of creating gender-sensitive HIV prevention, care and surveillance programmes. This is not only important for the sake of equity, but because large groups of vulnerable people are not being reached by current campaigns and services which often lack sensitivity both in terms of gender and ethnicity. Thus, in order to effectively reduce the drug-mediated spread of HIV, the potential for sexual transmission into the general population, as well as the provision of just and equal care to all women and men affected and infected by HIV, gender aspects should be taken into account for successful implementation and design of programmes for HIV/AIDS prevention and care. '"
      ]
     },
     "execution_count": 85,
     "metadata": {},
     "output_type": "execute_result"
    }
   ],
   "source": [
    "paragraphs_with_key_words[0]['text']"
   ]
  },
  {
   "cell_type": "code",
   "execution_count": 18,
   "id": "58f25007",
   "metadata": {},
   "outputs": [
    {
     "name": "stderr",
     "output_type": "stream",
     "text": [
      "Your max_length is set to 142, but you input_length is only 134. You might consider decreasing max_length manually, e.g. summarizer('...', max_length=50)\n"
     ]
    },
    {
     "data": {
      "text/plain": [
       "[{'summary_text': \" The public health sector is gradually being forced to discuss issues of sexuality and power in sexual relationships . Prior to the HIV/AIDS pandemic, the prevailing stance was that sexual relationships were private matters to be discussed between sexual partners . HIV itself has gone a long way towards putting women's sexual and reproductive health and rights on to international and national agendas .\"}]"
      ]
     },
     "execution_count": 18,
     "metadata": {},
     "output_type": "execute_result"
    }
   ],
   "source": [
    "summa(paragraphs_with_key_words[0]['text'])"
   ]
  },
  {
   "cell_type": "code",
   "execution_count": 16,
   "id": "e4e15b06",
   "metadata": {},
   "outputs": [
    {
     "name": "stderr",
     "output_type": "stream",
     "text": [
      "Your max_length is set to 142, but you input_length is only 128. You might consider decreasing max_length manually, e.g. summarizer('...', max_length=50)\n",
      "Your max_length is set to 142, but you input_length is only 137. You might consider decreasing max_length manually, e.g. summarizer('...', max_length=50)\n",
      "Your max_length is set to 142, but you input_length is only 138. You might consider decreasing max_length manually, e.g. summarizer('...', max_length=50)\n",
      "Your max_length is set to 142, but you input_length is only 54. You might consider decreasing max_length manually, e.g. summarizer('...', max_length=50)\n",
      "Your max_length is set to 142, but you input_length is only 76. You might consider decreasing max_length manually, e.g. summarizer('...', max_length=50)\n",
      "Your max_length is set to 142, but you input_length is only 94. You might consider decreasing max_length manually, e.g. summarizer('...', max_length=50)\n",
      "Your max_length is set to 142, but you input_length is only 63. You might consider decreasing max_length manually, e.g. summarizer('...', max_length=50)\n",
      "Your max_length is set to 142, but you input_length is only 135. You might consider decreasing max_length manually, e.g. summarizer('...', max_length=50)\n",
      "Your max_length is set to 142, but you input_length is only 62. You might consider decreasing max_length manually, e.g. summarizer('...', max_length=50)\n",
      "Your max_length is set to 142, but you input_length is only 50. You might consider decreasing max_length manually, e.g. summarizer('...', max_length=50)\n",
      "Your max_length is set to 142, but you input_length is only 67. You might consider decreasing max_length manually, e.g. summarizer('...', max_length=50)\n",
      "Your max_length is set to 142, but you input_length is only 52. You might consider decreasing max_length manually, e.g. summarizer('...', max_length=50)\n"
     ]
    }
   ],
   "source": [
    "# Loop to automatize this process\n",
    "lista = []\n",
    "summaries = []\n",
    "for i in range(0,len(paragraphs_with_key_words)):\n",
    "     lista.append(paragraphs_with_key_words[i]['text'])\n",
    "    \n",
    "     summaries.append(summa(paragraphs_with_key_words[i]['text']))\n"
   ]
  },
  {
   "cell_type": "markdown",
   "id": "dc192ea7-3904-4f0a-9aeb-5931d974fc30",
   "metadata": {},
   "source": [
    "Sentiment analyses\n"
   ]
  },
  {
   "cell_type": "code",
   "execution_count": 17,
   "id": "1eb6100a-0d81-452f-9f5a-a0ab2d68c03c",
   "metadata": {},
   "outputs": [],
   "source": [
    "label = []\n",
    "score = []\n",
    "for i in summaries:\n",
    "    \n",
    "    result = sentiment_analysis((i[0]['summary_text']))[0]\n",
    "    label.append(result['label'])\n",
    "    score.append(result['score'])    "
   ]
  },
  {
   "cell_type": "code",
   "execution_count": null,
   "id": "28363c4f-d2d4-4fbb-92bb-a10cf924b306",
   "metadata": {},
   "outputs": [],
   "source": []
  },
  {
   "cell_type": "code",
   "execution_count": 89,
   "id": "07200630-ef60-48cd-8713-56158b5f5cb0",
   "metadata": {},
   "outputs": [],
   "source": []
  },
  {
   "cell_type": "code",
   "execution_count": 90,
   "id": "bc2975b9-5d34-4e61-9cce-3ba7f33206bd",
   "metadata": {},
   "outputs": [],
   "source": [
    "import pandas as pd\n",
    "import matplotlib.pyplot as plt\n"
   ]
  },
  {
   "cell_type": "code",
   "execution_count": 91,
   "id": "061440c9-810c-4678-867c-0c7a86fc0f35",
   "metadata": {},
   "outputs": [],
   "source": [
    "https://www.viralml.com/video-content.html?v=WmyYyOtZwzs"
   ]
  },
  {
   "cell_type": "code",
   "execution_count": 92,
   "id": "7898ce49-0101-4d26-8ee0-b4d1789a690e",
   "metadata": {},
   "outputs": [
    {
     "data": {
      "image/png": "[encoded data removed]",
      "text/plain": [
       "<Figure size 432x288 with 1 Axes>"
      ]
     },
     "metadata": {
      "needs_background": "light"
     },
     "output_type": "display_data"
    }
   ],
   "source": [
    "def plot()\n",
    "    data_tuples = list(zip(label,score))\n",
    "    df = pd.DataFrame(data_tuples, columns=['label','score'])\n",
    "\n",
    "    posit = df[df[\"label\"] == \"POSITIVE\"]\n",
    "    negat = df[df[\"label\"] == \"NEGATIVE\"]\n",
    "    means = [posit['score'].mean(), negat['score'].mean() ]\n",
    "    labe = [\"POSITIVE\", \"NEGATIVE\"]\n",
    "\n",
    "    fig = plt.figure()\n",
    "\n",
    "\n",
    "    ax = fig.add_axes([0,0,1,1])\n",
    "    ax.set_ylim([0,1])\n",
    "    ax.bar(labe, means)\n",
    "    ax.set_xlabel(\"sentiment\")\n",
    "    ax.set_title(\"Article 2\")\n",
    "    ax.set_ylabel(\"Mean score Latin America\")\n",
    "    plt.show()"
   ]
  },
  {
   "cell_type": "markdown",
   "id": "184b9ebf",
   "metadata": {},
   "source": [
    "# MongoDB"
   ]
  },
  {
   "cell_type": "code",
   "execution_count": 22,
   "id": "cd1c77c1",
   "metadata": {},
   "outputs": [],
   "source": [
    "country = \"colombia\""
   ]
  },
  {
   "cell_type": "code",
   "execution_count": 44,
   "id": "00206ffd",
   "metadata": {},
   "outputs": [],
   "source": [
    "# importing module\n",
    "from pymongo import MongoClient\n",
    "  \n",
    "# creation of MongoClient\n",
    "client=MongoClient()\n",
    "  \n",
    "# Connect with the portnumber and host\n",
    "client = MongoClient(\"mongodb://localhost:27017/\")\n",
    "  \n",
    "# Access database\n",
    "mydatabase = client[\"UNAIDS_db\"]\n",
    "  \n",
    "# Access collection of the database\n",
    "mycollection = mydatabase[\"summaryTable\"]\n",
    " "
   ]
  },
  {
   "cell_type": "code",
   "execution_count": 54,
   "id": "de8b7e47",
   "metadata": {},
   "outputs": [],
   "source": [
    "for para in paragraphs_with_key_words:\n",
    "    mydatabase.summaryTable.insert_one(para)"
   ]
  },
  {
   "cell_type": "code",
   "execution_count": 55,
   "id": "218facea",
   "metadata": {},
   "outputs": [
    {
     "name": "stdout",
     "output_type": "stream",
     "text": [
      "{'_id': ObjectId('6093c92a2799b9616a6f8a11'), 'heading': '6. Conclusions ', 'text': 'The costing of HIV interventions in this study is based on 2016 HIV guidelines and considers two scenarios: NASCOP and Standard. The NASCOP scenario was based on national HIV programme targets towards achievement of 90-90-90, and the Standard scenario was based on the assumption that the guidelines would be fully implemented as spelt out in the 2016 ART guidelines. In the NASCOP scenario, the population base is assumed to be constant for the four-year costing projections, while the Standard scenario adjusts its population in need to consider incidence, mortality, and population growth rates. However, both scenarios considered two key assumptions: the gains obtained from the reduction in HIV mortality and the reduction in HIV incidence rates. Findings have shown that the average annual cost of putting a patient on ARVs is Ksh 12,032.36 (US$115.7). The Standard scenario costs more than the NASCOP scenario, although differences vary across programme areas. The key biomedical cost drivers in both scenarios were ARTs and laboratory management. Although non-biomedical interventions seemed to be a cost driver, these cost estimates were derived as a proportion of the total cost based on the report of a cost study of HIV treatment conducted in 2013 (U.S. Centers for Diseases Control and Kenya Ministry of Health, (2013), which had an in-depth micro-costing of both medical and non-medical HIV programme interventions. In conclusion, there is an expected escalation in future costs with the implementation of the new 2016 ART guidelines. This is due to inclusion of more people living with HIV in care and treatment programmes, and further enhanced by a reduction in HIV-related mortality. The inclusion of PrEP and PEP as prevention measures might have a significant impact on reducing the HIV incidence rate. This will, however, come with a considerable increase in the resources needed to fund interventions. Therefore, the key policy interventions introduced in the new guidelines center on prevention and acceleration of treatment aimed at reducing HIV incidence rates and related mortalities. This calls for resources to cover an increased number of people targeted for care and treatment programmes. A lowered mortality rate achieved through an ART programme implies increased HIV costs, as the number of people living with HIV who require HIV care will also increase. Kenya must explore channels for financing its increased need for HIV care and treatment. These could include coverage of HIV services in health insurance benefits packages (social or private health insurance), increased domestic resource mobilisation (including allocations from national and county governments), and engaging the private sector to play a bigger role in HIV financing. 20', 'key_words_info': {'key_words': ['HIV', 'sex'], 'counts': [17, 0]}, 'importance': 17, 'country': 'kenya'}\n",
      "{'_id': ObjectId('6093c92a2799b9616a6f8a12'), 'heading': 'Executive Summary ', 'text': 'In 2016, the Ministry of Health (MOH) updated Kenya’s national HIV guidelines to provide guidance on the use of antiretrovirals (ARVs) to treat and prevent HIV infection. To inform implementation and resource mobilisation, the MOH needed to understand the costing implications of implementing the new guidelines. This created the need for a study to estimate the costs of implementing the new guidelines, based on the country targets and covering all known people living with HIV in Kenya. This study adopted a micro-costing approach using population data from 2015 HIV revised estimates. The study considered two costing scenarios—the “NASCOP scenario,” based on NASCOP (National AIDS/STI Control Programme) targets to achieve the UNAIDS 90-90-90 targets; and the “Standard scenario,” based on full adoption of the new guidelines. The results show that the average annual unit cost of an adult on ARVs is Ksh 12,032.36 (US$115.7). The unit cost varies by regimen type, with the unit cost of an adults first-line regimen being Ksh 9,501.44 (US$91.4) per year, compared to Ksh 26,499.20 (US$254.8) for second-line. The annual unit cost of pediatric ARVs was estimated at Ksh 17,800.64 (US$171.2) per patient. As shown in Table E1, implementation of the new antiretroviral therapy (ART) guidelines under the Standard scenario will cost about 20 percent more than under the NASCOP scenario. The estimated cost of implementingthe new guidelines under the NASCOP and Standard scenarios in the next four years (FY2016/17–2019/20) is Ksh 197.8 billion (US$1.9 billion) and Ksh 239.2 billion (US$2.3 billion), respectively. The higher costs under the Standard scenario can explained by the higher number of people living with HIV expected to be initiated on treatment. In both scenarios, key commodities (ARVs, laboratory management, and test kits) are the main cost drivers, accounting for 61 percent of the total cost (seeTable E1). ', 'key_words_info': {'key_words': ['HIV', 'sex'], 'counts': [5, 0]}, 'importance': 5, 'country': 'kenya'}\n",
      "{'_id': ObjectId('6093c92a2799b9616a6f8a13'), 'heading': '5.7 HIV testing services for the general population   ', 'text': 'Under the NASCOP scenario, HIV testing services cost approximately Ksh 1 billion (US$10 million) in 2016/17 (see Figure 13). The total cost drops over the two subsequent periods and then increases slightly in the last period. Key cost drivers for HIV testing services are the HIV rapid kits, at a cost of approximately Ksh 936 million (US$9 million), and blood collection bags. The reason for the low estimated costs for confirmatory tests is that the test is only administered to people who have tested positive from the HIV rapid kits—this is expected to be a small proportion of the total population under testing. ', 'key_words_info': {'key_words': ['HIV', 'sex'], 'counts': [5, 0]}, 'importance': 5, 'country': 'kenya'}\n",
      "{'_id': ObjectId('6093c92a2799b9616a6f8a14'), 'heading': 'List of Figures ', 'text': 'Figure E1: Relative Costs for NCD Screening, by Disease (FY2016/17–2019/20) .......... ix Figure 1: Linkages between Key Programmatic Areas and Costing Framework for 2016 HIV Guidelines ................................................................................................... 6 Figure 2: Trend in the Costs of HIV 2016 Guideline Implementation ........................... 10 Figure 3: Costs of Routine Adult and Pediatric ARVs under NASCOP Scenario............ 10 Figure 4: Trend in Costs of Providing ARVs for Care and Treatment ............................. 11 Figure 5: Laboratory Management: Adults versus Pediatrics, NASCOP Scenario .......... 11 Figure 6: Costs of Laboratory Management between NASCOP and Standard Scenarios ......................................................................................................... 12 Figure 7: Costs of Viral Load Test ................................................................................... 12 Figure 8: Cost for PEP, NASCOP and Standard Scenarios ............................................. 13 Figure 9: PMTCT, NASCOP Scenario ............................................................................. 13 Figure 10: PMTCT Costs, NASCOP versus Standard Scenarios ..................................... 14 Figure 11: PrEP, NASCOP Scenario ................................................................................ 14 Figure 12: PrEP, NASCOP versus Standard Scenarios ................................................... 15 Figure 13: HIV Testing Services Cost Estimates, NASCOP Scenario.............................. 15 Figure 14: HIV Testing Services Cost Estimates, NASCOP versus Standard Scenarios ......................................................................................................... 16 Figure 15: Screening NCD and Co-morbidities, NASCOP Scenario ............................... 16 Figure 16: Screening for NCDs and Co-morbidities, NASCOP versus Standard Scenarios ......................................................................................................... 17 Figure 17: Medicines for Opportunistic Diseases, NASCOP Scenario ............................ 17 Figure 18: Medicines for Opportunistic Diseases, NASCOP versus Standard Scenarios ......................................................................................................... 18 v ', 'key_words_info': {'key_words': ['HIV', 'sex'], 'counts': [4, 0]}, 'importance': 4, 'country': 'kenya'}\n",
      "{'_id': ObjectId('6093c92a2799b9616a6f8a15'), 'heading': '5.5 Prevention of mother-to-child transmission ', 'text': 'Figure 9 shows the estimated cost of PMTCT using the NASCOP scenario. The PMTCT costs incorporate three estimated cost components: rapid HIV testing for pregnant mothers, early infant diagnosis (or infant PCR test), and prophylaxis (the primary cost driver). HIV rapid testing for pregnant mothers, which includes blood collection bags and testing kits, is the second-greatest cost driver. The proportion of pregnant and breastfeeding women living with HIV remains constant over the four-year period, in line with the targets set by the national HIV programme. ', 'key_words_info': {'key_words': ['HIV', 'sex'], 'counts': [4, 0]}, 'importance': 4, 'country': 'kenya'}\n",
      "{'_id': ObjectId('6093c92a2799b9616a6f8a16'), 'heading': '2.Summary of the 2016 HIV Guidelines on the Use of Antiretroviral Drugs for Treating and Preventing HIV Infection in Kenya ', 'text': 'This section summarises key programme areas covered in the 2016 HIV guidelines. (For a detailed description, see MOH and NASCOP, 2016). ', 'key_words_info': {'key_words': ['HIV', 'sex'], 'counts': [3, 0]}, 'importance': 3, 'country': 'kenya'}\n",
      "{'_id': ObjectId('6093c92a2799b9616a6f8a17'), 'heading': '5.9 Medicines for opportunistic diseases ', 'text': 'Figure 17 shows that the estimated cost of medicines for opportunistic diseases is projected to increase over time. This is consistent with the target of getting more people living with HIV into care over the projected period, as Kenya moves towards achieving the 90-90-90 targets under the test-and-treat policy. The new guidelines emphasise the need to put people living with HIV on medicines for opportunistic diseases to reduce their mortality rate. A lower mortality rate is expected to bring additional costs as demand for medicines for opportunistic diseases increases. The key driver of this programme cost is the cost for adults, which is not surprising as adults account for the bulk of people living with HIV. ', 'key_words_info': {'key_words': ['HIV', 'sex'], 'counts': [3, 0]}, 'importance': 3, 'country': 'kenya'}\n",
      "{'_id': ObjectId('6093c92a2799b9616a6f8a18'), 'heading': '5.6 Pre-exposure prophylaxis ', 'text': 'Figure 11 shows the cost of providing PrEP under the NASCOP scenario. This cost will increase to more than double current levels in the next four years as a result of increases in HIV-negative key populations under this prevention programme. The key cost driver under this programme is the regimen cost (the cost of ARVs), which increases over the entire period. However, the cost of HIV testing is also significant due to the numerous tests expected under this prevention programme.', 'key_words_info': {'key_words': ['HIV', 'sex'], 'counts': [2, 0]}, 'importance': 2, 'country': 'kenya'}\n",
      "{'_id': ObjectId('6093c92a2799b9616a6f8a19'), 'heading': '5.8 NCDs and other co-morbidity ', 'text': 'The 2016 ART guidelines recommend screening among people living with HIV for key NCDs and co-morbidities, including cancer, high blood pressure, hepatitis B and C, diabetes, and liver functions. Figure 15 shows the estimated cost of screening for these NCDs and co-morbidities under the NASCOP scenario. Screening for cervical cancer, diabetes, and cholesterol are the main cost drivers for this new programme area. The estimates show rising costs in line with an increased incidence rate of NCDs and co-morbidities over the time periods, given that the NASCOP scenario expects to put more people living with HIV on treatment in the future and that the incidence rate is positive over the entire period. ', 'key_words_info': {'key_words': ['HIV', 'sex'], 'counts': [2, 0]}, 'importance': 2, 'country': 'kenya'}\n",
      "{'_id': ObjectId('6093c92a2799b9616a6f8a1a'), 'heading': '1.1 Context  ', 'text': 'HIV and AIDS remain a major public health problem in Kenya. Therefore, there is continued need for guidance from the Ministry of Health (MOH) and other key stakeholders on how to manage current and new infections. According to the ', 'key_words_info': {'key_words': ['HIV', 'sex'], 'counts': [1, 0]}, 'importance': 1, 'country': 'kenya'}\n",
      "{'_id': ObjectId('6093c92a2799b9616a6f8a1b'), 'heading': '1.2 Study Objectives ', 'text': 'The costing exercise addresses two questions: a)What is the cost of implementing the 2016 ART guidelines based on the country targets? b)What is the total cost of implementing the 2016 ART guidelines to cover 100 percent of known people living with HIV? ', 'key_words_info': {'key_words': ['HIV', 'sex'], 'counts': [1, 0]}, 'importance': 1, 'country': 'kenya'}\n",
      "{'_id': ObjectId('6093c92a2799b9616a6f8a1c'), 'heading': '5. Costing Results ', 'text': 'This section presents the estimated cost of HIV treatment and prevention, based on the revised 2016 guidelines. The data shows the aggregated cost estimated for the NASCOP and Standard scenarios. This is followed by a disaggregation of these costs by programme area, and compared across two scenarios to provide some insight on what the guideline implementation would cost in the next four years. ', 'key_words_info': {'key_words': ['HIV', 'sex'], 'counts': [1, 0]}, 'importance': 1, 'country': 'kenya'}\n",
      "{'_id': ObjectId('6093c92a2799b9616a6f8a1d'), 'heading': '5.1 Estimated HIV programme costs between NASCOP and Standard scenarios ', 'text': 'The results presented in Table 1 show that the average unit cost of putting a patient on ARVs per year is Ksh 12,032.4 (US$115.7). The unit cost varies by regimen type, with the unit cost of an adult first-line ARV regimen at Ksh 9,501.44 (US$91.4) and second-line at Ksh 26,499.20 (US$254.8) per year. On the other hand, the annual unit cost of pediatric ARVs is 17,800.64 (US$171.2) per patient. ', 'key_words_info': {'key_words': ['HIV', 'sex'], 'counts': [1, 0]}, 'importance': 1, 'country': 'kenya'}\n",
      "{'_id': ObjectId('6093c92a2799b9616a6f8a1e'), 'heading': '5.4 Cost of post-exposure prophylaxis ', 'text': 'The costs of providing PEP under the NASCOP and Standard scenarios were equal at Ksh 555.7 million (US$5.3 million), structured as shown in Figure 8. The lack of variation between the two scenarios is explained by an assumption that an equal population will require PEP in both cases, because PEP population estimates were based on programme data and are the same in both scenarios. It is also assumed that ARVs for PEP are included under general adult ARV cost estimates. Therefore, the main cost elements were identified as additional HIV testing and kidney tests needed for the PEP programme due to use of a TDF regimen. 13 ', 'key_words_info': {'key_words': ['HIV', 'sex'], 'counts': [1, 0]}, 'importance': 1, 'country': 'kenya'}\n",
      "{'_id': ObjectId('6093c92a2799b9616a6f8a1f'), 'heading': '7.Study Limitations ', 'text': '1.The only data available on mortality rates for people living with HIV comes from the mortuary survey. This study is not representative of the current nationwide attrition rate, as it is based on Nairobi County data. A mortuary survey should be administered nationwide to create a countrywide database for attrition rate. 2.The costing model has not incorporated a six-month buffer stock, as this was not in the scope of the study. The model, however, can be customised to capture the buffer stock when used for commodity quantification for processes such as the Global Fund application. 3.The estimates for non-medical costs were based on the ', 'key_words_info': {'key_words': ['HIV', 'sex'], 'counts': [1, 0]}, 'importance': 1, 'country': 'kenya'}\n",
      "{'_id': ObjectId('6093c9f92799b9616a6f8a20'), 'heading': '6. Conclusions ', 'text': 'The costing of HIV interventions in this study is based on 2016 HIV guidelines and considers two scenarios: NASCOP and Standard. The NASCOP scenario was based on national HIV programme targets towards achievement of 90-90-90, and the Standard scenario was based on the assumption that the guidelines would be fully implemented as spelt out in the 2016 ART guidelines. In the NASCOP scenario, the population base is assumed to be constant for the four-year costing projections, while the Standard scenario adjusts its population in need to consider incidence, mortality, and population growth rates. However, both scenarios considered two key assumptions: the gains obtained from the reduction in HIV mortality and the reduction in HIV incidence rates. Findings have shown that the average annual cost of putting a patient on ARVs is Ksh 12,032.36 (US$115.7). The Standard scenario costs more than the NASCOP scenario, although differences vary across programme areas. The key biomedical cost drivers in both scenarios were ARTs and laboratory management. Although non-biomedical interventions seemed to be a cost driver, these cost estimates were derived as a proportion of the total cost based on the report of a cost study of HIV treatment conducted in 2013 (U.S. Centers for Diseases Control and Kenya Ministry of Health, (2013), which had an in-depth micro-costing of both medical and non-medical HIV programme interventions. In conclusion, there is an expected escalation in future costs with the implementation of the new 2016 ART guidelines. This is due to inclusion of more people living with HIV in care and treatment programmes, and further enhanced by a reduction in HIV-related mortality. The inclusion of PrEP and PEP as prevention measures might have a significant impact on reducing the HIV incidence rate. This will, however, come with a considerable increase in the resources needed to fund interventions. Therefore, the key policy interventions introduced in the new guidelines center on prevention and acceleration of treatment aimed at reducing HIV incidence rates and related mortalities. This calls for resources to cover an increased number of people targeted for care and treatment programmes. A lowered mortality rate achieved through an ART programme implies increased HIV costs, as the number of people living with HIV who require HIV care will also increase. Kenya must explore channels for financing its increased need for HIV care and treatment. These could include coverage of HIV services in health insurance benefits packages (social or private health insurance), increased domestic resource mobilisation (including allocations from national and county governments), and engaging the private sector to play a bigger role in HIV financing. 20', 'key_words_info': {'key_words': ['HIV', 'sex'], 'counts': [17, 0]}, 'importance': 17}\n",
      "{'_id': ObjectId('6093c9f92799b9616a6f8a21'), 'heading': 'Executive Summary ', 'text': 'In 2016, the Ministry of Health (MOH) updated Kenya’s national HIV guidelines to provide guidance on the use of antiretrovirals (ARVs) to treat and prevent HIV infection. To inform implementation and resource mobilisation, the MOH needed to understand the costing implications of implementing the new guidelines. This created the need for a study to estimate the costs of implementing the new guidelines, based on the country targets and covering all known people living with HIV in Kenya. This study adopted a micro-costing approach using population data from 2015 HIV revised estimates. The study considered two costing scenarios—the “NASCOP scenario,” based on NASCOP (National AIDS/STI Control Programme) targets to achieve the UNAIDS 90-90-90 targets; and the “Standard scenario,” based on full adoption of the new guidelines. The results show that the average annual unit cost of an adult on ARVs is Ksh 12,032.36 (US$115.7). The unit cost varies by regimen type, with the unit cost of an adults first-line regimen being Ksh 9,501.44 (US$91.4) per year, compared to Ksh 26,499.20 (US$254.8) for second-line. The annual unit cost of pediatric ARVs was estimated at Ksh 17,800.64 (US$171.2) per patient. As shown in Table E1, implementation of the new antiretroviral therapy (ART) guidelines under the Standard scenario will cost about 20 percent more than under the NASCOP scenario. The estimated cost of implementingthe new guidelines under the NASCOP and Standard scenarios in the next four years (FY2016/17–2019/20) is Ksh 197.8 billion (US$1.9 billion) and Ksh 239.2 billion (US$2.3 billion), respectively. The higher costs under the Standard scenario can explained by the higher number of people living with HIV expected to be initiated on treatment. In both scenarios, key commodities (ARVs, laboratory management, and test kits) are the main cost drivers, accounting for 61 percent of the total cost (seeTable E1). ', 'key_words_info': {'key_words': ['HIV', 'sex'], 'counts': [5, 0]}, 'importance': 5}\n",
      "{'_id': ObjectId('6093c9f92799b9616a6f8a22'), 'heading': '5.7 HIV testing services for the general population   ', 'text': 'Under the NASCOP scenario, HIV testing services cost approximately Ksh 1 billion (US$10 million) in 2016/17 (see Figure 13). The total cost drops over the two subsequent periods and then increases slightly in the last period. Key cost drivers for HIV testing services are the HIV rapid kits, at a cost of approximately Ksh 936 million (US$9 million), and blood collection bags. The reason for the low estimated costs for confirmatory tests is that the test is only administered to people who have tested positive from the HIV rapid kits—this is expected to be a small proportion of the total population under testing. ', 'key_words_info': {'key_words': ['HIV', 'sex'], 'counts': [5, 0]}, 'importance': 5}\n",
      "{'_id': ObjectId('6093c9f92799b9616a6f8a23'), 'heading': 'List of Figures ', 'text': 'Figure E1: Relative Costs for NCD Screening, by Disease (FY2016/17–2019/20) .......... ix Figure 1: Linkages between Key Programmatic Areas and Costing Framework for 2016 HIV Guidelines ................................................................................................... 6 Figure 2: Trend in the Costs of HIV 2016 Guideline Implementation ........................... 10 Figure 3: Costs of Routine Adult and Pediatric ARVs under NASCOP Scenario............ 10 Figure 4: Trend in Costs of Providing ARVs for Care and Treatment ............................. 11 Figure 5: Laboratory Management: Adults versus Pediatrics, NASCOP Scenario .......... 11 Figure 6: Costs of Laboratory Management between NASCOP and Standard Scenarios ......................................................................................................... 12 Figure 7: Costs of Viral Load Test ................................................................................... 12 Figure 8: Cost for PEP, NASCOP and Standard Scenarios ............................................. 13 Figure 9: PMTCT, NASCOP Scenario ............................................................................. 13 Figure 10: PMTCT Costs, NASCOP versus Standard Scenarios ..................................... 14 Figure 11: PrEP, NASCOP Scenario ................................................................................ 14 Figure 12: PrEP, NASCOP versus Standard Scenarios ................................................... 15 Figure 13: HIV Testing Services Cost Estimates, NASCOP Scenario.............................. 15 Figure 14: HIV Testing Services Cost Estimates, NASCOP versus Standard Scenarios ......................................................................................................... 16 Figure 15: Screening NCD and Co-morbidities, NASCOP Scenario ............................... 16 Figure 16: Screening for NCDs and Co-morbidities, NASCOP versus Standard Scenarios ......................................................................................................... 17 Figure 17: Medicines for Opportunistic Diseases, NASCOP Scenario ............................ 17 Figure 18: Medicines for Opportunistic Diseases, NASCOP versus Standard Scenarios ......................................................................................................... 18 v ', 'key_words_info': {'key_words': ['HIV', 'sex'], 'counts': [4, 0]}, 'importance': 4}\n",
      "{'_id': ObjectId('6093c9f92799b9616a6f8a24'), 'heading': '5.5 Prevention of mother-to-child transmission ', 'text': 'Figure 9 shows the estimated cost of PMTCT using the NASCOP scenario. The PMTCT costs incorporate three estimated cost components: rapid HIV testing for pregnant mothers, early infant diagnosis (or infant PCR test), and prophylaxis (the primary cost driver). HIV rapid testing for pregnant mothers, which includes blood collection bags and testing kits, is the second-greatest cost driver. The proportion of pregnant and breastfeeding women living with HIV remains constant over the four-year period, in line with the targets set by the national HIV programme. ', 'key_words_info': {'key_words': ['HIV', 'sex'], 'counts': [4, 0]}, 'importance': 4}\n",
      "{'_id': ObjectId('6093c9f92799b9616a6f8a25'), 'heading': '2.Summary of the 2016 HIV Guidelines on the Use of Antiretroviral Drugs for Treating and Preventing HIV Infection in Kenya ', 'text': 'This section summarises key programme areas covered in the 2016 HIV guidelines. (For a detailed description, see MOH and NASCOP, 2016). ', 'key_words_info': {'key_words': ['HIV', 'sex'], 'counts': [3, 0]}, 'importance': 3}\n",
      "{'_id': ObjectId('6093c9f92799b9616a6f8a26'), 'heading': '5.9 Medicines for opportunistic diseases ', 'text': 'Figure 17 shows that the estimated cost of medicines for opportunistic diseases is projected to increase over time. This is consistent with the target of getting more people living with HIV into care over the projected period, as Kenya moves towards achieving the 90-90-90 targets under the test-and-treat policy. The new guidelines emphasise the need to put people living with HIV on medicines for opportunistic diseases to reduce their mortality rate. A lower mortality rate is expected to bring additional costs as demand for medicines for opportunistic diseases increases. The key driver of this programme cost is the cost for adults, which is not surprising as adults account for the bulk of people living with HIV. ', 'key_words_info': {'key_words': ['HIV', 'sex'], 'counts': [3, 0]}, 'importance': 3}\n",
      "{'_id': ObjectId('6093c9f92799b9616a6f8a27'), 'heading': '5.6 Pre-exposure prophylaxis ', 'text': 'Figure 11 shows the cost of providing PrEP under the NASCOP scenario. This cost will increase to more than double current levels in the next four years as a result of increases in HIV-negative key populations under this prevention programme. The key cost driver under this programme is the regimen cost (the cost of ARVs), which increases over the entire period. However, the cost of HIV testing is also significant due to the numerous tests expected under this prevention programme.', 'key_words_info': {'key_words': ['HIV', 'sex'], 'counts': [2, 0]}, 'importance': 2}\n",
      "{'_id': ObjectId('6093c9f92799b9616a6f8a28'), 'heading': '5.8 NCDs and other co-morbidity ', 'text': 'The 2016 ART guidelines recommend screening among people living with HIV for key NCDs and co-morbidities, including cancer, high blood pressure, hepatitis B and C, diabetes, and liver functions. Figure 15 shows the estimated cost of screening for these NCDs and co-morbidities under the NASCOP scenario. Screening for cervical cancer, diabetes, and cholesterol are the main cost drivers for this new programme area. The estimates show rising costs in line with an increased incidence rate of NCDs and co-morbidities over the time periods, given that the NASCOP scenario expects to put more people living with HIV on treatment in the future and that the incidence rate is positive over the entire period. ', 'key_words_info': {'key_words': ['HIV', 'sex'], 'counts': [2, 0]}, 'importance': 2}\n",
      "{'_id': ObjectId('6093c9f92799b9616a6f8a29'), 'heading': '1.1 Context  ', 'text': 'HIV and AIDS remain a major public health problem in Kenya. Therefore, there is continued need for guidance from the Ministry of Health (MOH) and other key stakeholders on how to manage current and new infections. According to the ', 'key_words_info': {'key_words': ['HIV', 'sex'], 'counts': [1, 0]}, 'importance': 1}\n",
      "{'_id': ObjectId('6093c9f92799b9616a6f8a2a'), 'heading': '1.2 Study Objectives ', 'text': 'The costing exercise addresses two questions: a)What is the cost of implementing the 2016 ART guidelines based on the country targets? b)What is the total cost of implementing the 2016 ART guidelines to cover 100 percent of known people living with HIV? ', 'key_words_info': {'key_words': ['HIV', 'sex'], 'counts': [1, 0]}, 'importance': 1}\n",
      "{'_id': ObjectId('6093c9f92799b9616a6f8a2b'), 'heading': '5. Costing Results ', 'text': 'This section presents the estimated cost of HIV treatment and prevention, based on the revised 2016 guidelines. The data shows the aggregated cost estimated for the NASCOP and Standard scenarios. This is followed by a disaggregation of these costs by programme area, and compared across two scenarios to provide some insight on what the guideline implementation would cost in the next four years. ', 'key_words_info': {'key_words': ['HIV', 'sex'], 'counts': [1, 0]}, 'importance': 1}\n",
      "{'_id': ObjectId('6093c9f92799b9616a6f8a2c'), 'heading': '5.1 Estimated HIV programme costs between NASCOP and Standard scenarios ', 'text': 'The results presented in Table 1 show that the average unit cost of putting a patient on ARVs per year is Ksh 12,032.4 (US$115.7). The unit cost varies by regimen type, with the unit cost of an adult first-line ARV regimen at Ksh 9,501.44 (US$91.4) and second-line at Ksh 26,499.20 (US$254.8) per year. On the other hand, the annual unit cost of pediatric ARVs is 17,800.64 (US$171.2) per patient. ', 'key_words_info': {'key_words': ['HIV', 'sex'], 'counts': [1, 0]}, 'importance': 1}\n",
      "{'_id': ObjectId('6093c9f92799b9616a6f8a2d'), 'heading': '5.4 Cost of post-exposure prophylaxis ', 'text': 'The costs of providing PEP under the NASCOP and Standard scenarios were equal at Ksh 555.7 million (US$5.3 million), structured as shown in Figure 8. The lack of variation between the two scenarios is explained by an assumption that an equal population will require PEP in both cases, because PEP population estimates were based on programme data and are the same in both scenarios. It is also assumed that ARVs for PEP are included under general adult ARV cost estimates. Therefore, the main cost elements were identified as additional HIV testing and kidney tests needed for the PEP programme due to use of a TDF regimen. 13 ', 'key_words_info': {'key_words': ['HIV', 'sex'], 'counts': [1, 0]}, 'importance': 1}\n",
      "{'_id': ObjectId('6093c9f92799b9616a6f8a2e'), 'heading': '7.Study Limitations ', 'text': '1.The only data available on mortality rates for people living with HIV comes from the mortuary survey. This study is not representative of the current nationwide attrition rate, as it is based on Nairobi County data. A mortuary survey should be administered nationwide to create a countrywide database for attrition rate. 2.The costing model has not incorporated a six-month buffer stock, as this was not in the scope of the study. The model, however, can be customised to capture the buffer stock when used for commodity quantification for processes such as the Global Fund application. 3.The estimates for non-medical costs were based on the ', 'key_words_info': {'key_words': ['HIV', 'sex'], 'counts': [1, 0]}, 'importance': 1}\n"
     ]
    }
   ],
   "source": [
    "cursor = mycollection.find()\n",
    "for record in cursor:\n",
    "    print(record)"
   ]
  },
  {
   "cell_type": "code",
   "execution_count": 57,
   "id": "7775b0e7",
   "metadata": {},
   "outputs": [
    {
     "name": "stdout",
     "output_type": "stream",
     "text": [
      "{'_id': ObjectId('6093c92a2799b9616a6f8a11'), 'heading': '6. Conclusions ', 'text': 'The costing of HIV interventions in this study is based on 2016 HIV guidelines and considers two scenarios: NASCOP and Standard. The NASCOP scenario was based on national HIV programme targets towards achievement of 90-90-90, and the Standard scenario was based on the assumption that the guidelines would be fully implemented as spelt out in the 2016 ART guidelines. In the NASCOP scenario, the population base is assumed to be constant for the four-year costing projections, while the Standard scenario adjusts its population in need to consider incidence, mortality, and population growth rates. However, both scenarios considered two key assumptions: the gains obtained from the reduction in HIV mortality and the reduction in HIV incidence rates. Findings have shown that the average annual cost of putting a patient on ARVs is Ksh 12,032.36 (US$115.7). The Standard scenario costs more than the NASCOP scenario, although differences vary across programme areas. The key biomedical cost drivers in both scenarios were ARTs and laboratory management. Although non-biomedical interventions seemed to be a cost driver, these cost estimates were derived as a proportion of the total cost based on the report of a cost study of HIV treatment conducted in 2013 (U.S. Centers for Diseases Control and Kenya Ministry of Health, (2013), which had an in-depth micro-costing of both medical and non-medical HIV programme interventions. In conclusion, there is an expected escalation in future costs with the implementation of the new 2016 ART guidelines. This is due to inclusion of more people living with HIV in care and treatment programmes, and further enhanced by a reduction in HIV-related mortality. The inclusion of PrEP and PEP as prevention measures might have a significant impact on reducing the HIV incidence rate. This will, however, come with a considerable increase in the resources needed to fund interventions. Therefore, the key policy interventions introduced in the new guidelines center on prevention and acceleration of treatment aimed at reducing HIV incidence rates and related mortalities. This calls for resources to cover an increased number of people targeted for care and treatment programmes. A lowered mortality rate achieved through an ART programme implies increased HIV costs, as the number of people living with HIV who require HIV care will also increase. Kenya must explore channels for financing its increased need for HIV care and treatment. These could include coverage of HIV services in health insurance benefits packages (social or private health insurance), increased domestic resource mobilisation (including allocations from national and county governments), and engaging the private sector to play a bigger role in HIV financing. 20', 'key_words_info': {'key_words': ['HIV', 'sex'], 'counts': [17, 0]}, 'importance': 17, 'country': 'kenya'}\n"
     ]
    }
   ],
   "source": [
    "# Find first document\n",
    "x = mycollection.find_one()\n",
    "print(x)"
   ]
  },
  {
   "cell_type": "code",
   "execution_count": 58,
   "id": "6f820118",
   "metadata": {},
   "outputs": [
    {
     "data": {
      "text/plain": [
       "dict_keys(['_id', 'heading', 'text', 'key_words_info', 'importance', 'country'])"
      ]
     },
     "execution_count": 58,
     "metadata": {},
     "output_type": "execute_result"
    }
   ],
   "source": [
    "x.keys()"
   ]
  },
  {
   "cell_type": "code",
   "execution_count": 64,
   "id": "5a2a7c96",
   "metadata": {},
   "outputs": [],
   "source": [
    "# Filtering the Quantities greater\n",
    "# than 40 using query.\n",
    "cursor = mycollection.find({\"importance\": {\"$lt\": 10}})"
   ]
  },
  {
   "cell_type": "code",
   "execution_count": 65,
   "id": "37c598d0",
   "metadata": {},
   "outputs": [
    {
     "name": "stdout",
     "output_type": "stream",
     "text": [
      "The data having Quantity greater than 40 is:\n",
      "{'_id': ObjectId('6093c92a2799b9616a6f8a12'), 'heading': 'Executive Summary ', 'text': 'In 2016, the Ministry of Health (MOH) updated Kenya’s national HIV guidelines to provide guidance on the use of antiretrovirals (ARVs) to treat and prevent HIV infection. To inform implementation and resource mobilisation, the MOH needed to understand the costing implications of implementing the new guidelines. This created the need for a study to estimate the costs of implementing the new guidelines, based on the country targets and covering all known people living with HIV in Kenya. This study adopted a micro-costing approach using population data from 2015 HIV revised estimates. The study considered two costing scenarios—the “NASCOP scenario,” based on NASCOP (National AIDS/STI Control Programme) targets to achieve the UNAIDS 90-90-90 targets; and the “Standard scenario,” based on full adoption of the new guidelines. The results show that the average annual unit cost of an adult on ARVs is Ksh 12,032.36 (US$115.7). The unit cost varies by regimen type, with the unit cost of an adults first-line regimen being Ksh 9,501.44 (US$91.4) per year, compared to Ksh 26,499.20 (US$254.8) for second-line. The annual unit cost of pediatric ARVs was estimated at Ksh 17,800.64 (US$171.2) per patient. As shown in Table E1, implementation of the new antiretroviral therapy (ART) guidelines under the Standard scenario will cost about 20 percent more than under the NASCOP scenario. The estimated cost of implementingthe new guidelines under the NASCOP and Standard scenarios in the next four years (FY2016/17–2019/20) is Ksh 197.8 billion (US$1.9 billion) and Ksh 239.2 billion (US$2.3 billion), respectively. The higher costs under the Standard scenario can explained by the higher number of people living with HIV expected to be initiated on treatment. In both scenarios, key commodities (ARVs, laboratory management, and test kits) are the main cost drivers, accounting for 61 percent of the total cost (seeTable E1). ', 'key_words_info': {'key_words': ['HIV', 'sex'], 'counts': [5, 0]}, 'importance': 5, 'country': 'kenya'}\n",
      "{'_id': ObjectId('6093c92a2799b9616a6f8a13'), 'heading': '5.7 HIV testing services for the general population   ', 'text': 'Under the NASCOP scenario, HIV testing services cost approximately Ksh 1 billion (US$10 million) in 2016/17 (see Figure 13). The total cost drops over the two subsequent periods and then increases slightly in the last period. Key cost drivers for HIV testing services are the HIV rapid kits, at a cost of approximately Ksh 936 million (US$9 million), and blood collection bags. The reason for the low estimated costs for confirmatory tests is that the test is only administered to people who have tested positive from the HIV rapid kits—this is expected to be a small proportion of the total population under testing. ', 'key_words_info': {'key_words': ['HIV', 'sex'], 'counts': [5, 0]}, 'importance': 5, 'country': 'kenya'}\n",
      "{'_id': ObjectId('6093c92a2799b9616a6f8a14'), 'heading': 'List of Figures ', 'text': 'Figure E1: Relative Costs for NCD Screening, by Disease (FY2016/17–2019/20) .......... ix Figure 1: Linkages between Key Programmatic Areas and Costing Framework for 2016 HIV Guidelines ................................................................................................... 6 Figure 2: Trend in the Costs of HIV 2016 Guideline Implementation ........................... 10 Figure 3: Costs of Routine Adult and Pediatric ARVs under NASCOP Scenario............ 10 Figure 4: Trend in Costs of Providing ARVs for Care and Treatment ............................. 11 Figure 5: Laboratory Management: Adults versus Pediatrics, NASCOP Scenario .......... 11 Figure 6: Costs of Laboratory Management between NASCOP and Standard Scenarios ......................................................................................................... 12 Figure 7: Costs of Viral Load Test ................................................................................... 12 Figure 8: Cost for PEP, NASCOP and Standard Scenarios ............................................. 13 Figure 9: PMTCT, NASCOP Scenario ............................................................................. 13 Figure 10: PMTCT Costs, NASCOP versus Standard Scenarios ..................................... 14 Figure 11: PrEP, NASCOP Scenario ................................................................................ 14 Figure 12: PrEP, NASCOP versus Standard Scenarios ................................................... 15 Figure 13: HIV Testing Services Cost Estimates, NASCOP Scenario.............................. 15 Figure 14: HIV Testing Services Cost Estimates, NASCOP versus Standard Scenarios ......................................................................................................... 16 Figure 15: Screening NCD and Co-morbidities, NASCOP Scenario ............................... 16 Figure 16: Screening for NCDs and Co-morbidities, NASCOP versus Standard Scenarios ......................................................................................................... 17 Figure 17: Medicines for Opportunistic Diseases, NASCOP Scenario ............................ 17 Figure 18: Medicines for Opportunistic Diseases, NASCOP versus Standard Scenarios ......................................................................................................... 18 v ', 'key_words_info': {'key_words': ['HIV', 'sex'], 'counts': [4, 0]}, 'importance': 4, 'country': 'kenya'}\n",
      "{'_id': ObjectId('6093c92a2799b9616a6f8a15'), 'heading': '5.5 Prevention of mother-to-child transmission ', 'text': 'Figure 9 shows the estimated cost of PMTCT using the NASCOP scenario. The PMTCT costs incorporate three estimated cost components: rapid HIV testing for pregnant mothers, early infant diagnosis (or infant PCR test), and prophylaxis (the primary cost driver). HIV rapid testing for pregnant mothers, which includes blood collection bags and testing kits, is the second-greatest cost driver. The proportion of pregnant and breastfeeding women living with HIV remains constant over the four-year period, in line with the targets set by the national HIV programme. ', 'key_words_info': {'key_words': ['HIV', 'sex'], 'counts': [4, 0]}, 'importance': 4, 'country': 'kenya'}\n",
      "{'_id': ObjectId('6093c92a2799b9616a6f8a16'), 'heading': '2.Summary of the 2016 HIV Guidelines on the Use of Antiretroviral Drugs for Treating and Preventing HIV Infection in Kenya ', 'text': 'This section summarises key programme areas covered in the 2016 HIV guidelines. (For a detailed description, see MOH and NASCOP, 2016). ', 'key_words_info': {'key_words': ['HIV', 'sex'], 'counts': [3, 0]}, 'importance': 3, 'country': 'kenya'}\n",
      "{'_id': ObjectId('6093c92a2799b9616a6f8a17'), 'heading': '5.9 Medicines for opportunistic diseases ', 'text': 'Figure 17 shows that the estimated cost of medicines for opportunistic diseases is projected to increase over time. This is consistent with the target of getting more people living with HIV into care over the projected period, as Kenya moves towards achieving the 90-90-90 targets under the test-and-treat policy. The new guidelines emphasise the need to put people living with HIV on medicines for opportunistic diseases to reduce their mortality rate. A lower mortality rate is expected to bring additional costs as demand for medicines for opportunistic diseases increases. The key driver of this programme cost is the cost for adults, which is not surprising as adults account for the bulk of people living with HIV. ', 'key_words_info': {'key_words': ['HIV', 'sex'], 'counts': [3, 0]}, 'importance': 3, 'country': 'kenya'}\n",
      "{'_id': ObjectId('6093c92a2799b9616a6f8a18'), 'heading': '5.6 Pre-exposure prophylaxis ', 'text': 'Figure 11 shows the cost of providing PrEP under the NASCOP scenario. This cost will increase to more than double current levels in the next four years as a result of increases in HIV-negative key populations under this prevention programme. The key cost driver under this programme is the regimen cost (the cost of ARVs), which increases over the entire period. However, the cost of HIV testing is also significant due to the numerous tests expected under this prevention programme.', 'key_words_info': {'key_words': ['HIV', 'sex'], 'counts': [2, 0]}, 'importance': 2, 'country': 'kenya'}\n",
      "{'_id': ObjectId('6093c92a2799b9616a6f8a19'), 'heading': '5.8 NCDs and other co-morbidity ', 'text': 'The 2016 ART guidelines recommend screening among people living with HIV for key NCDs and co-morbidities, including cancer, high blood pressure, hepatitis B and C, diabetes, and liver functions. Figure 15 shows the estimated cost of screening for these NCDs and co-morbidities under the NASCOP scenario. Screening for cervical cancer, diabetes, and cholesterol are the main cost drivers for this new programme area. The estimates show rising costs in line with an increased incidence rate of NCDs and co-morbidities over the time periods, given that the NASCOP scenario expects to put more people living with HIV on treatment in the future and that the incidence rate is positive over the entire period. ', 'key_words_info': {'key_words': ['HIV', 'sex'], 'counts': [2, 0]}, 'importance': 2, 'country': 'kenya'}\n",
      "{'_id': ObjectId('6093c92a2799b9616a6f8a1a'), 'heading': '1.1 Context  ', 'text': 'HIV and AIDS remain a major public health problem in Kenya. Therefore, there is continued need for guidance from the Ministry of Health (MOH) and other key stakeholders on how to manage current and new infections. According to the ', 'key_words_info': {'key_words': ['HIV', 'sex'], 'counts': [1, 0]}, 'importance': 1, 'country': 'kenya'}\n",
      "{'_id': ObjectId('6093c92a2799b9616a6f8a1b'), 'heading': '1.2 Study Objectives ', 'text': 'The costing exercise addresses two questions: a)What is the cost of implementing the 2016 ART guidelines based on the country targets? b)What is the total cost of implementing the 2016 ART guidelines to cover 100 percent of known people living with HIV? ', 'key_words_info': {'key_words': ['HIV', 'sex'], 'counts': [1, 0]}, 'importance': 1, 'country': 'kenya'}\n",
      "{'_id': ObjectId('6093c92a2799b9616a6f8a1c'), 'heading': '5. Costing Results ', 'text': 'This section presents the estimated cost of HIV treatment and prevention, based on the revised 2016 guidelines. The data shows the aggregated cost estimated for the NASCOP and Standard scenarios. This is followed by a disaggregation of these costs by programme area, and compared across two scenarios to provide some insight on what the guideline implementation would cost in the next four years. ', 'key_words_info': {'key_words': ['HIV', 'sex'], 'counts': [1, 0]}, 'importance': 1, 'country': 'kenya'}\n",
      "{'_id': ObjectId('6093c92a2799b9616a6f8a1d'), 'heading': '5.1 Estimated HIV programme costs between NASCOP and Standard scenarios ', 'text': 'The results presented in Table 1 show that the average unit cost of putting a patient on ARVs per year is Ksh 12,032.4 (US$115.7). The unit cost varies by regimen type, with the unit cost of an adult first-line ARV regimen at Ksh 9,501.44 (US$91.4) and second-line at Ksh 26,499.20 (US$254.8) per year. On the other hand, the annual unit cost of pediatric ARVs is 17,800.64 (US$171.2) per patient. ', 'key_words_info': {'key_words': ['HIV', 'sex'], 'counts': [1, 0]}, 'importance': 1, 'country': 'kenya'}\n",
      "{'_id': ObjectId('6093c92a2799b9616a6f8a1e'), 'heading': '5.4 Cost of post-exposure prophylaxis ', 'text': 'The costs of providing PEP under the NASCOP and Standard scenarios were equal at Ksh 555.7 million (US$5.3 million), structured as shown in Figure 8. The lack of variation between the two scenarios is explained by an assumption that an equal population will require PEP in both cases, because PEP population estimates were based on programme data and are the same in both scenarios. It is also assumed that ARVs for PEP are included under general adult ARV cost estimates. Therefore, the main cost elements were identified as additional HIV testing and kidney tests needed for the PEP programme due to use of a TDF regimen. 13 ', 'key_words_info': {'key_words': ['HIV', 'sex'], 'counts': [1, 0]}, 'importance': 1, 'country': 'kenya'}\n",
      "{'_id': ObjectId('6093c92a2799b9616a6f8a1f'), 'heading': '7.Study Limitations ', 'text': '1.The only data available on mortality rates for people living with HIV comes from the mortuary survey. This study is not representative of the current nationwide attrition rate, as it is based on Nairobi County data. A mortuary survey should be administered nationwide to create a countrywide database for attrition rate. 2.The costing model has not incorporated a six-month buffer stock, as this was not in the scope of the study. The model, however, can be customised to capture the buffer stock when used for commodity quantification for processes such as the Global Fund application. 3.The estimates for non-medical costs were based on the ', 'key_words_info': {'key_words': ['HIV', 'sex'], 'counts': [1, 0]}, 'importance': 1, 'country': 'kenya'}\n",
      "{'_id': ObjectId('6093c9f92799b9616a6f8a21'), 'heading': 'Executive Summary ', 'text': 'In 2016, the Ministry of Health (MOH) updated Kenya’s national HIV guidelines to provide guidance on the use of antiretrovirals (ARVs) to treat and prevent HIV infection. To inform implementation and resource mobilisation, the MOH needed to understand the costing implications of implementing the new guidelines. This created the need for a study to estimate the costs of implementing the new guidelines, based on the country targets and covering all known people living with HIV in Kenya. This study adopted a micro-costing approach using population data from 2015 HIV revised estimates. The study considered two costing scenarios—the “NASCOP scenario,” based on NASCOP (National AIDS/STI Control Programme) targets to achieve the UNAIDS 90-90-90 targets; and the “Standard scenario,” based on full adoption of the new guidelines. The results show that the average annual unit cost of an adult on ARVs is Ksh 12,032.36 (US$115.7). The unit cost varies by regimen type, with the unit cost of an adults first-line regimen being Ksh 9,501.44 (US$91.4) per year, compared to Ksh 26,499.20 (US$254.8) for second-line. The annual unit cost of pediatric ARVs was estimated at Ksh 17,800.64 (US$171.2) per patient. As shown in Table E1, implementation of the new antiretroviral therapy (ART) guidelines under the Standard scenario will cost about 20 percent more than under the NASCOP scenario. The estimated cost of implementingthe new guidelines under the NASCOP and Standard scenarios in the next four years (FY2016/17–2019/20) is Ksh 197.8 billion (US$1.9 billion) and Ksh 239.2 billion (US$2.3 billion), respectively. The higher costs under the Standard scenario can explained by the higher number of people living with HIV expected to be initiated on treatment. In both scenarios, key commodities (ARVs, laboratory management, and test kits) are the main cost drivers, accounting for 61 percent of the total cost (seeTable E1). ', 'key_words_info': {'key_words': ['HIV', 'sex'], 'counts': [5, 0]}, 'importance': 5}\n",
      "{'_id': ObjectId('6093c9f92799b9616a6f8a22'), 'heading': '5.7 HIV testing services for the general population   ', 'text': 'Under the NASCOP scenario, HIV testing services cost approximately Ksh 1 billion (US$10 million) in 2016/17 (see Figure 13). The total cost drops over the two subsequent periods and then increases slightly in the last period. Key cost drivers for HIV testing services are the HIV rapid kits, at a cost of approximately Ksh 936 million (US$9 million), and blood collection bags. The reason for the low estimated costs for confirmatory tests is that the test is only administered to people who have tested positive from the HIV rapid kits—this is expected to be a small proportion of the total population under testing. ', 'key_words_info': {'key_words': ['HIV', 'sex'], 'counts': [5, 0]}, 'importance': 5}\n",
      "{'_id': ObjectId('6093c9f92799b9616a6f8a23'), 'heading': 'List of Figures ', 'text': 'Figure E1: Relative Costs for NCD Screening, by Disease (FY2016/17–2019/20) .......... ix Figure 1: Linkages between Key Programmatic Areas and Costing Framework for 2016 HIV Guidelines ................................................................................................... 6 Figure 2: Trend in the Costs of HIV 2016 Guideline Implementation ........................... 10 Figure 3: Costs of Routine Adult and Pediatric ARVs under NASCOP Scenario............ 10 Figure 4: Trend in Costs of Providing ARVs for Care and Treatment ............................. 11 Figure 5: Laboratory Management: Adults versus Pediatrics, NASCOP Scenario .......... 11 Figure 6: Costs of Laboratory Management between NASCOP and Standard Scenarios ......................................................................................................... 12 Figure 7: Costs of Viral Load Test ................................................................................... 12 Figure 8: Cost for PEP, NASCOP and Standard Scenarios ............................................. 13 Figure 9: PMTCT, NASCOP Scenario ............................................................................. 13 Figure 10: PMTCT Costs, NASCOP versus Standard Scenarios ..................................... 14 Figure 11: PrEP, NASCOP Scenario ................................................................................ 14 Figure 12: PrEP, NASCOP versus Standard Scenarios ................................................... 15 Figure 13: HIV Testing Services Cost Estimates, NASCOP Scenario.............................. 15 Figure 14: HIV Testing Services Cost Estimates, NASCOP versus Standard Scenarios ......................................................................................................... 16 Figure 15: Screening NCD and Co-morbidities, NASCOP Scenario ............................... 16 Figure 16: Screening for NCDs and Co-morbidities, NASCOP versus Standard Scenarios ......................................................................................................... 17 Figure 17: Medicines for Opportunistic Diseases, NASCOP Scenario ............................ 17 Figure 18: Medicines for Opportunistic Diseases, NASCOP versus Standard Scenarios ......................................................................................................... 18 v ', 'key_words_info': {'key_words': ['HIV', 'sex'], 'counts': [4, 0]}, 'importance': 4}\n",
      "{'_id': ObjectId('6093c9f92799b9616a6f8a24'), 'heading': '5.5 Prevention of mother-to-child transmission ', 'text': 'Figure 9 shows the estimated cost of PMTCT using the NASCOP scenario. The PMTCT costs incorporate three estimated cost components: rapid HIV testing for pregnant mothers, early infant diagnosis (or infant PCR test), and prophylaxis (the primary cost driver). HIV rapid testing for pregnant mothers, which includes blood collection bags and testing kits, is the second-greatest cost driver. The proportion of pregnant and breastfeeding women living with HIV remains constant over the four-year period, in line with the targets set by the national HIV programme. ', 'key_words_info': {'key_words': ['HIV', 'sex'], 'counts': [4, 0]}, 'importance': 4}\n",
      "{'_id': ObjectId('6093c9f92799b9616a6f8a25'), 'heading': '2.Summary of the 2016 HIV Guidelines on the Use of Antiretroviral Drugs for Treating and Preventing HIV Infection in Kenya ', 'text': 'This section summarises key programme areas covered in the 2016 HIV guidelines. (For a detailed description, see MOH and NASCOP, 2016). ', 'key_words_info': {'key_words': ['HIV', 'sex'], 'counts': [3, 0]}, 'importance': 3}\n",
      "{'_id': ObjectId('6093c9f92799b9616a6f8a26'), 'heading': '5.9 Medicines for opportunistic diseases ', 'text': 'Figure 17 shows that the estimated cost of medicines for opportunistic diseases is projected to increase over time. This is consistent with the target of getting more people living with HIV into care over the projected period, as Kenya moves towards achieving the 90-90-90 targets under the test-and-treat policy. The new guidelines emphasise the need to put people living with HIV on medicines for opportunistic diseases to reduce their mortality rate. A lower mortality rate is expected to bring additional costs as demand for medicines for opportunistic diseases increases. The key driver of this programme cost is the cost for adults, which is not surprising as adults account for the bulk of people living with HIV. ', 'key_words_info': {'key_words': ['HIV', 'sex'], 'counts': [3, 0]}, 'importance': 3}\n",
      "{'_id': ObjectId('6093c9f92799b9616a6f8a27'), 'heading': '5.6 Pre-exposure prophylaxis ', 'text': 'Figure 11 shows the cost of providing PrEP under the NASCOP scenario. This cost will increase to more than double current levels in the next four years as a result of increases in HIV-negative key populations under this prevention programme. The key cost driver under this programme is the regimen cost (the cost of ARVs), which increases over the entire period. However, the cost of HIV testing is also significant due to the numerous tests expected under this prevention programme.', 'key_words_info': {'key_words': ['HIV', 'sex'], 'counts': [2, 0]}, 'importance': 2}\n",
      "{'_id': ObjectId('6093c9f92799b9616a6f8a28'), 'heading': '5.8 NCDs and other co-morbidity ', 'text': 'The 2016 ART guidelines recommend screening among people living with HIV for key NCDs and co-morbidities, including cancer, high blood pressure, hepatitis B and C, diabetes, and liver functions. Figure 15 shows the estimated cost of screening for these NCDs and co-morbidities under the NASCOP scenario. Screening for cervical cancer, diabetes, and cholesterol are the main cost drivers for this new programme area. The estimates show rising costs in line with an increased incidence rate of NCDs and co-morbidities over the time periods, given that the NASCOP scenario expects to put more people living with HIV on treatment in the future and that the incidence rate is positive over the entire period. ', 'key_words_info': {'key_words': ['HIV', 'sex'], 'counts': [2, 0]}, 'importance': 2}\n",
      "{'_id': ObjectId('6093c9f92799b9616a6f8a29'), 'heading': '1.1 Context  ', 'text': 'HIV and AIDS remain a major public health problem in Kenya. Therefore, there is continued need for guidance from the Ministry of Health (MOH) and other key stakeholders on how to manage current and new infections. According to the ', 'key_words_info': {'key_words': ['HIV', 'sex'], 'counts': [1, 0]}, 'importance': 1}\n",
      "{'_id': ObjectId('6093c9f92799b9616a6f8a2a'), 'heading': '1.2 Study Objectives ', 'text': 'The costing exercise addresses two questions: a)What is the cost of implementing the 2016 ART guidelines based on the country targets? b)What is the total cost of implementing the 2016 ART guidelines to cover 100 percent of known people living with HIV? ', 'key_words_info': {'key_words': ['HIV', 'sex'], 'counts': [1, 0]}, 'importance': 1}\n",
      "{'_id': ObjectId('6093c9f92799b9616a6f8a2b'), 'heading': '5. Costing Results ', 'text': 'This section presents the estimated cost of HIV treatment and prevention, based on the revised 2016 guidelines. The data shows the aggregated cost estimated for the NASCOP and Standard scenarios. This is followed by a disaggregation of these costs by programme area, and compared across two scenarios to provide some insight on what the guideline implementation would cost in the next four years. ', 'key_words_info': {'key_words': ['HIV', 'sex'], 'counts': [1, 0]}, 'importance': 1}\n",
      "{'_id': ObjectId('6093c9f92799b9616a6f8a2c'), 'heading': '5.1 Estimated HIV programme costs between NASCOP and Standard scenarios ', 'text': 'The results presented in Table 1 show that the average unit cost of putting a patient on ARVs per year is Ksh 12,032.4 (US$115.7). The unit cost varies by regimen type, with the unit cost of an adult first-line ARV regimen at Ksh 9,501.44 (US$91.4) and second-line at Ksh 26,499.20 (US$254.8) per year. On the other hand, the annual unit cost of pediatric ARVs is 17,800.64 (US$171.2) per patient. ', 'key_words_info': {'key_words': ['HIV', 'sex'], 'counts': [1, 0]}, 'importance': 1}\n",
      "{'_id': ObjectId('6093c9f92799b9616a6f8a2d'), 'heading': '5.4 Cost of post-exposure prophylaxis ', 'text': 'The costs of providing PEP under the NASCOP and Standard scenarios were equal at Ksh 555.7 million (US$5.3 million), structured as shown in Figure 8. The lack of variation between the two scenarios is explained by an assumption that an equal population will require PEP in both cases, because PEP population estimates were based on programme data and are the same in both scenarios. It is also assumed that ARVs for PEP are included under general adult ARV cost estimates. Therefore, the main cost elements were identified as additional HIV testing and kidney tests needed for the PEP programme due to use of a TDF regimen. 13 ', 'key_words_info': {'key_words': ['HIV', 'sex'], 'counts': [1, 0]}, 'importance': 1}\n",
      "{'_id': ObjectId('6093c9f92799b9616a6f8a2e'), 'heading': '7.Study Limitations ', 'text': '1.The only data available on mortality rates for people living with HIV comes from the mortuary survey. This study is not representative of the current nationwide attrition rate, as it is based on Nairobi County data. A mortuary survey should be administered nationwide to create a countrywide database for attrition rate. 2.The costing model has not incorporated a six-month buffer stock, as this was not in the scope of the study. The model, however, can be customised to capture the buffer stock when used for commodity quantification for processes such as the Global Fund application. 3.The estimates for non-medical costs were based on the ', 'key_words_info': {'key_words': ['HIV', 'sex'], 'counts': [1, 0]}, 'importance': 1}\n"
     ]
    }
   ],
   "source": [
    "print(\"The data having Quantity greater than 40 is:\")\n",
    "for record in cursor: \n",
    "    print(record) "
   ]
  },
  {
   "cell_type": "code",
   "execution_count": null,
   "id": "ae84e643",
   "metadata": {},
   "outputs": [],
   "source": [
    "filter = { 'appliance': 'tv' }"
   ]
  }
 ],
 "metadata": {
  "kernelspec": {
   "display_name": "Python 3",
   "language": "python",
   "name": "python3"
  },
  "language_info": {
   "codemirror_mode": {
    "name": "ipython",
    "version": 3
   },
   "file_extension": ".py",
   "mimetype": "text/x-python",
   "name": "python",
   "nbconvert_exporter": "python",
   "pygments_lexer": "ipython3",
   "version": "3.8.8"
  }
 },
 "nbformat": 4,
 "nbformat_minor": 5
}
